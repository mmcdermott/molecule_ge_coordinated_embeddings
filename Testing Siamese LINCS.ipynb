{
 "cells": [
  {
   "cell_type": "code",
   "execution_count": 95,
   "metadata": {},
   "outputs": [
    {
     "name": "stdout",
     "output_type": "stream",
     "text": [
      "The autoreload extension is already loaded. To reload it, use:\n",
      "  %reload_ext autoreload\n"
     ]
    }
   ],
   "source": [
    "%load_ext autoreload\n",
    "%autoreload 2\n",
    "\n",
    "from drug_repo_metric_learning.siamese_datasets import SiameseL1000Dataset\n",
    "from drug_repo_metric_learning.utils import *"
   ]
  },
  {
   "cell_type": "markdown",
   "metadata": {},
   "source": [
    "## Import Data, for Reference"
   ]
  },
  {
   "cell_type": "code",
   "execution_count": 4,
   "metadata": {
    "collapsed": true
   },
   "outputs": [],
   "source": [
    "import pandas as pd"
   ]
  },
  {
   "cell_type": "code",
   "execution_count": 79,
   "metadata": {
    "collapsed": true
   },
   "outputs": [],
   "source": [
    "limma_6hr_10um_ctrls = pd.read_pickle('/home/sgf2/DBMI_server/repo/ccdata/l1000_limma_w_controls/limma_6hr_10um_ctrls.pkl')\n",
    "limma_6hr_10um_postpert = pd.read_pickle('/home/sgf2/DBMI_server/repo/ccdata/l1000_limma_w_controls/limma_6hr_10um_postpert.pkl')\n",
    "limma_6hr_10um_sigs = pd.read_pickle('/home/sgf2/DBMI_server/repo/ccdata/l1000_limma_w_controls/limma_6hr_10um_sigs.pkl')\n",
    "\n",
    "limma_24hr_10um_ctrls = pd.read_pickle('/home/sgf2/DBMI_server/repo/ccdata/l1000_limma_w_controls/limma_24hr_10um_ctrls.pkl')\n",
    "limma_24hr_10um_postpert = pd.read_pickle('/home/sgf2/DBMI_server/repo/ccdata/l1000_limma_w_controls/limma_24hr_10um_postpert.pkl')\n",
    "limma_24hr_10um_sigs = pd.read_pickle('/home/sgf2/DBMI_server/repo/ccdata/l1000_limma_w_controls/limma_24hr_10um_sigs.pkl')\n",
    "\n",
    "limma_24hr_5um_ctrls = pd.read_pickle('/home/sgf2/DBMI_server/repo/ccdata/l1000_limma_w_controls/limma_24hr_5um_ctrls.pkl')\n",
    "limma_24hr_5um_postpert = pd.read_pickle('/home/sgf2/DBMI_server/repo/ccdata/l1000_limma_w_controls/limma_24hr_5um_postpert.pkl')\n",
    "limma_24hr_5um_sigs = pd.read_pickle('/home/sgf2/DBMI_server/repo/ccdata/l1000_limma_w_controls/limma_24hr_5um_sigs.pkl')"
   ]
  },
  {
   "cell_type": "code",
   "execution_count": 103,
   "metadata": {},
   "outputs": [
    {
     "data": {
      "text/plain": [
       "(((0, 0, 40916), (0, 0, 33893), (0, 0, 31809)),\n",
       " ((43268, 43268, 43268), (37289, 37289, 37289), (32160, 32160, 32160)))"
      ]
     },
     "execution_count": 103,
     "metadata": {},
     "output_type": "execute_result"
    }
   ],
   "source": [
    "(((sum(limma_6hr_10um_sigs.duplicated()),\n",
    " sum(limma_6hr_10um_postpert.duplicated()),\n",
    " sum(limma_6hr_10um_ctrls.duplicated())\n",
    "),\n",
    "(sum(limma_24hr_10um_sigs.duplicated()),\n",
    " sum(limma_24hr_10um_postpert.duplicated()),\n",
    " sum(limma_24hr_10um_ctrls.duplicated())\n",
    "),\n",
    " (sum(limma_24hr_5um_sigs.duplicated()),\n",
    " sum(limma_24hr_5um_postpert.duplicated()),\n",
    " sum(limma_24hr_5um_ctrls.duplicated())\n",
    ")),\n",
    "((len(limma_6hr_10um_sigs),\n",
    " len(limma_6hr_10um_postpert),\n",
    " len(limma_6hr_10um_ctrls)\n",
    "),\n",
    "(len(limma_24hr_10um_sigs),\n",
    " len(limma_24hr_10um_postpert),\n",
    " len(limma_24hr_10um_ctrls)\n",
    "),\n",
    " (len(limma_24hr_5um_sigs),\n",
    " len(limma_24hr_5um_postpert),\n",
    " len(limma_24hr_5um_ctrls)\n",
    ")))"
   ]
  },
  {
   "cell_type": "code",
   "execution_count": 81,
   "metadata": {},
   "outputs": [
    {
     "data": {
      "text/plain": [
       "True"
      ]
     },
     "execution_count": 81,
     "metadata": {},
     "output_type": "execute_result"
    }
   ],
   "source": [
    "all([\n",
    "    all(limma_6hr_10um_sigs.index.get_level_values('pert_id') == \n",
    "        limma_6hr_10um_postpert.index.get_level_values('pert_id')),\n",
    "    all(limma_6hr_10um_sigs.index.get_level_values('pert_id') == \n",
    "        limma_6hr_10um_ctrls.index.get_level_values('pert_id')),\n",
    "    all(limma_6hr_10um_sigs.index.get_level_values('cell_id') == \n",
    "        limma_6hr_10um_postpert.index.get_level_values('cell_id')),\n",
    "    all(limma_6hr_10um_sigs.index.get_level_values('cell_id') == \n",
    "        limma_6hr_10um_ctrls.index.get_level_values('cell_id')), \n",
    "    \n",
    "    all(limma_24hr_10um_sigs.index.get_level_values('pert_id') == \n",
    "        limma_24hr_10um_postpert.index.get_level_values('pert_id')),\n",
    "    all(limma_24hr_10um_sigs.index.get_level_values('pert_id') == \n",
    "        limma_24hr_10um_ctrls.index.get_level_values('pert_id')),\n",
    "    all(limma_24hr_10um_sigs.index.get_level_values('cell_id') == \n",
    "        limma_24hr_10um_postpert.index.get_level_values('cell_id')),\n",
    "    all(limma_24hr_10um_sigs.index.get_level_values('cell_id') == \n",
    "        limma_24hr_10um_ctrls.index.get_level_values('cell_id')),\n",
    "    \n",
    "    all(limma_24hr_5um_sigs.index.get_level_values('pert_id') == \n",
    "        limma_24hr_5um_postpert.index.get_level_values('pert_id')),\n",
    "    all(limma_24hr_5um_sigs.index.get_level_values('pert_id') == \n",
    "        limma_24hr_5um_ctrls.index.get_level_values('pert_id')),\n",
    "    all(limma_24hr_5um_sigs.index.get_level_values('cell_id') == \n",
    "        limma_24hr_5um_postpert.index.get_level_values('cell_id')),\n",
    "    all(limma_24hr_5um_sigs.index.get_level_values('cell_id') == \n",
    "        limma_24hr_5um_ctrls.index.get_level_values('cell_id'))\n",
    "])"
   ]
  },
  {
   "cell_type": "code",
   "execution_count": 87,
   "metadata": {},
   "outputs": [
    {
     "data": {
      "text/html": [
       "<div>\n",
       "<style scoped>\n",
       "    .dataframe tbody tr th:only-of-type {\n",
       "        vertical-align: middle;\n",
       "    }\n",
       "\n",
       "    .dataframe tbody tr th {\n",
       "        vertical-align: top;\n",
       "    }\n",
       "\n",
       "    .dataframe thead tr th {\n",
       "        text-align: left;\n",
       "    }\n",
       "\n",
       "    .dataframe thead tr:last-of-type th {\n",
       "        text-align: right;\n",
       "    }\n",
       "</style>\n",
       "<table border=\"1\" class=\"dataframe\">\n",
       "  <thead>\n",
       "    <tr>\n",
       "      <th></th>\n",
       "      <th></th>\n",
       "      <th></th>\n",
       "      <th>pr_gene_id</th>\n",
       "      <th>16</th>\n",
       "      <th>23</th>\n",
       "      <th>25</th>\n",
       "      <th>30</th>\n",
       "      <th>39</th>\n",
       "      <th>47</th>\n",
       "      <th>102</th>\n",
       "      <th>128</th>\n",
       "      <th>142</th>\n",
       "      <th>154</th>\n",
       "      <th>...</th>\n",
       "      <th>94239</th>\n",
       "      <th>116832</th>\n",
       "      <th>124583</th>\n",
       "      <th>147179</th>\n",
       "      <th>148022</th>\n",
       "      <th>200081</th>\n",
       "      <th>200734</th>\n",
       "      <th>256364</th>\n",
       "      <th>375346</th>\n",
       "      <th>388650</th>\n",
       "    </tr>\n",
       "    <tr>\n",
       "      <th></th>\n",
       "      <th></th>\n",
       "      <th></th>\n",
       "      <th>pr_gene_symbol</th>\n",
       "      <th>AARS</th>\n",
       "      <th>ABCF1</th>\n",
       "      <th>ABL1</th>\n",
       "      <th>ACAA1</th>\n",
       "      <th>ACAT2</th>\n",
       "      <th>ACLY</th>\n",
       "      <th>ADAM10</th>\n",
       "      <th>ADH5</th>\n",
       "      <th>PARP1</th>\n",
       "      <th>ADRB2</th>\n",
       "      <th>...</th>\n",
       "      <th>H2AFV</th>\n",
       "      <th>RPL39L</th>\n",
       "      <th>CANT1</th>\n",
       "      <th>WIPF2</th>\n",
       "      <th>TICAM1</th>\n",
       "      <th>TXLNA</th>\n",
       "      <th>SPRED2</th>\n",
       "      <th>EML3</th>\n",
       "      <th>TMEM110</th>\n",
       "      <th>FAM69A</th>\n",
       "    </tr>\n",
       "    <tr>\n",
       "      <th>pert_id</th>\n",
       "      <th>cell_id</th>\n",
       "      <th>pert_dose</th>\n",
       "      <th>pert_time</th>\n",
       "      <th></th>\n",
       "      <th></th>\n",
       "      <th></th>\n",
       "      <th></th>\n",
       "      <th></th>\n",
       "      <th></th>\n",
       "      <th></th>\n",
       "      <th></th>\n",
       "      <th></th>\n",
       "      <th></th>\n",
       "      <th></th>\n",
       "      <th></th>\n",
       "      <th></th>\n",
       "      <th></th>\n",
       "      <th></th>\n",
       "      <th></th>\n",
       "      <th></th>\n",
       "      <th></th>\n",
       "      <th></th>\n",
       "      <th></th>\n",
       "      <th></th>\n",
       "    </tr>\n",
       "  </thead>\n",
       "  <tbody>\n",
       "    <tr>\n",
       "      <th rowspan=\"2\" valign=\"top\">BRD-K70792160</th>\n",
       "      <th>FIBRNPC</th>\n",
       "      <th>10</th>\n",
       "      <th>6</th>\n",
       "      <td>10.590253</td>\n",
       "      <td>11.568742</td>\n",
       "      <td>8.784332</td>\n",
       "      <td>9.113083</td>\n",
       "      <td>8.737153</td>\n",
       "      <td>9.433749</td>\n",
       "      <td>10.141581</td>\n",
       "      <td>10.943733</td>\n",
       "      <td>8.311906</td>\n",
       "      <td>4.777461</td>\n",
       "      <td>...</td>\n",
       "      <td>7.413581</td>\n",
       "      <td>4.842634</td>\n",
       "      <td>11.190586</td>\n",
       "      <td>8.196164</td>\n",
       "      <td>6.882093</td>\n",
       "      <td>12.776344</td>\n",
       "      <td>9.940067</td>\n",
       "      <td>10.071283</td>\n",
       "      <td>7.160877</td>\n",
       "      <td>11.574886</td>\n",
       "    </tr>\n",
       "    <tr>\n",
       "      <th>NEU</th>\n",
       "      <th>10</th>\n",
       "      <th>6</th>\n",
       "      <td>9.233975</td>\n",
       "      <td>13.764045</td>\n",
       "      <td>9.568012</td>\n",
       "      <td>8.164038</td>\n",
       "      <td>11.754004</td>\n",
       "      <td>7.185849</td>\n",
       "      <td>8.149546</td>\n",
       "      <td>7.072697</td>\n",
       "      <td>8.454137</td>\n",
       "      <td>4.713469</td>\n",
       "      <td>...</td>\n",
       "      <td>9.610780</td>\n",
       "      <td>3.760702</td>\n",
       "      <td>11.425901</td>\n",
       "      <td>9.787716</td>\n",
       "      <td>5.172169</td>\n",
       "      <td>12.494317</td>\n",
       "      <td>12.492163</td>\n",
       "      <td>6.972142</td>\n",
       "      <td>6.268157</td>\n",
       "      <td>14.264036</td>\n",
       "    </tr>\n",
       "    <tr>\n",
       "      <th rowspan=\"3\" valign=\"top\">BRD-K94919853</th>\n",
       "      <th>A375</th>\n",
       "      <th>10</th>\n",
       "      <th>6</th>\n",
       "      <td>9.505615</td>\n",
       "      <td>9.465717</td>\n",
       "      <td>8.449003</td>\n",
       "      <td>6.914636</td>\n",
       "      <td>9.312204</td>\n",
       "      <td>8.719000</td>\n",
       "      <td>8.460420</td>\n",
       "      <td>10.923481</td>\n",
       "      <td>10.567434</td>\n",
       "      <td>5.934941</td>\n",
       "      <td>...</td>\n",
       "      <td>7.359662</td>\n",
       "      <td>4.406532</td>\n",
       "      <td>11.411519</td>\n",
       "      <td>8.721797</td>\n",
       "      <td>5.712216</td>\n",
       "      <td>12.397236</td>\n",
       "      <td>9.905932</td>\n",
       "      <td>9.331282</td>\n",
       "      <td>5.944451</td>\n",
       "      <td>8.078958</td>\n",
       "    </tr>\n",
       "    <tr>\n",
       "      <th>A549</th>\n",
       "      <th>10</th>\n",
       "      <th>6</th>\n",
       "      <td>9.911240</td>\n",
       "      <td>9.064086</td>\n",
       "      <td>8.761660</td>\n",
       "      <td>6.953413</td>\n",
       "      <td>9.300924</td>\n",
       "      <td>10.167328</td>\n",
       "      <td>7.765070</td>\n",
       "      <td>10.890577</td>\n",
       "      <td>9.970387</td>\n",
       "      <td>4.094322</td>\n",
       "      <td>...</td>\n",
       "      <td>7.518726</td>\n",
       "      <td>6.618084</td>\n",
       "      <td>12.056189</td>\n",
       "      <td>8.588176</td>\n",
       "      <td>5.125558</td>\n",
       "      <td>11.736211</td>\n",
       "      <td>9.356589</td>\n",
       "      <td>8.082590</td>\n",
       "      <td>5.700382</td>\n",
       "      <td>9.816210</td>\n",
       "    </tr>\n",
       "    <tr>\n",
       "      <th>HA1E</th>\n",
       "      <th>10</th>\n",
       "      <th>6</th>\n",
       "      <td>9.286486</td>\n",
       "      <td>9.720223</td>\n",
       "      <td>10.114681</td>\n",
       "      <td>6.493106</td>\n",
       "      <td>10.429482</td>\n",
       "      <td>9.632431</td>\n",
       "      <td>8.801337</td>\n",
       "      <td>11.326177</td>\n",
       "      <td>9.837931</td>\n",
       "      <td>4.615492</td>\n",
       "      <td>...</td>\n",
       "      <td>7.651157</td>\n",
       "      <td>6.120197</td>\n",
       "      <td>11.959917</td>\n",
       "      <td>7.692826</td>\n",
       "      <td>6.196432</td>\n",
       "      <td>11.589977</td>\n",
       "      <td>10.084349</td>\n",
       "      <td>8.165404</td>\n",
       "      <td>6.251736</td>\n",
       "      <td>10.071124</td>\n",
       "    </tr>\n",
       "  </tbody>\n",
       "</table>\n",
       "<p>5 rows × 978 columns</p>\n",
       "</div>"
      ],
      "text/plain": [
       "pr_gene_id                                    16         23         25      \\\n",
       "pr_gene_symbol                                  AARS      ABCF1       ABL1   \n",
       "pert_id       cell_id pert_dose pert_time                                    \n",
       "BRD-K70792160 FIBRNPC 10        6          10.590253  11.568742   8.784332   \n",
       "              NEU     10        6           9.233975  13.764045   9.568012   \n",
       "BRD-K94919853 A375    10        6           9.505615   9.465717   8.449003   \n",
       "              A549    10        6           9.911240   9.064086   8.761660   \n",
       "              HA1E    10        6           9.286486   9.720223  10.114681   \n",
       "\n",
       "pr_gene_id                                   30         39         47      \\\n",
       "pr_gene_symbol                                ACAA1      ACAT2       ACLY   \n",
       "pert_id       cell_id pert_dose pert_time                                   \n",
       "BRD-K70792160 FIBRNPC 10        6          9.113083   8.737153   9.433749   \n",
       "              NEU     10        6          8.164038  11.754004   7.185849   \n",
       "BRD-K94919853 A375    10        6          6.914636   9.312204   8.719000   \n",
       "              A549    10        6          6.953413   9.300924  10.167328   \n",
       "              HA1E    10        6          6.493106  10.429482   9.632431   \n",
       "\n",
       "pr_gene_id                                    102        128        142     \\\n",
       "pr_gene_symbol                                ADAM10       ADH5      PARP1   \n",
       "pert_id       cell_id pert_dose pert_time                                    \n",
       "BRD-K70792160 FIBRNPC 10        6          10.141581  10.943733   8.311906   \n",
       "              NEU     10        6           8.149546   7.072697   8.454137   \n",
       "BRD-K94919853 A375    10        6           8.460420  10.923481  10.567434   \n",
       "              A549    10        6           7.765070  10.890577   9.970387   \n",
       "              HA1E    10        6           8.801337  11.326177   9.837931   \n",
       "\n",
       "pr_gene_id                                   154     ...    94239     116832  \\\n",
       "pr_gene_symbol                                ADRB2  ...     H2AFV    RPL39L   \n",
       "pert_id       cell_id pert_dose pert_time            ...                       \n",
       "BRD-K70792160 FIBRNPC 10        6          4.777461  ...  7.413581  4.842634   \n",
       "              NEU     10        6          4.713469  ...  9.610780  3.760702   \n",
       "BRD-K94919853 A375    10        6          5.934941  ...  7.359662  4.406532   \n",
       "              A549    10        6          4.094322  ...  7.518726  6.618084   \n",
       "              HA1E    10        6          4.615492  ...  7.651157  6.120197   \n",
       "\n",
       "pr_gene_id                                    124583    147179    148022  \\\n",
       "pr_gene_symbol                                 CANT1     WIPF2    TICAM1   \n",
       "pert_id       cell_id pert_dose pert_time                                  \n",
       "BRD-K70792160 FIBRNPC 10        6          11.190586  8.196164  6.882093   \n",
       "              NEU     10        6          11.425901  9.787716  5.172169   \n",
       "BRD-K94919853 A375    10        6          11.411519  8.721797  5.712216   \n",
       "              A549    10        6          12.056189  8.588176  5.125558   \n",
       "              HA1E    10        6          11.959917  7.692826  6.196432   \n",
       "\n",
       "pr_gene_id                                    200081     200734     256364  \\\n",
       "pr_gene_symbol                                 TXLNA     SPRED2       EML3   \n",
       "pert_id       cell_id pert_dose pert_time                                    \n",
       "BRD-K70792160 FIBRNPC 10        6          12.776344   9.940067  10.071283   \n",
       "              NEU     10        6          12.494317  12.492163   6.972142   \n",
       "BRD-K94919853 A375    10        6          12.397236   9.905932   9.331282   \n",
       "              A549    10        6          11.736211   9.356589   8.082590   \n",
       "              HA1E    10        6          11.589977  10.084349   8.165404   \n",
       "\n",
       "pr_gene_id                                   375346     388650  \n",
       "pr_gene_symbol                              TMEM110     FAM69A  \n",
       "pert_id       cell_id pert_dose pert_time                       \n",
       "BRD-K70792160 FIBRNPC 10        6          7.160877  11.574886  \n",
       "              NEU     10        6          6.268157  14.264036  \n",
       "BRD-K94919853 A375    10        6          5.944451   8.078958  \n",
       "              A549    10        6          5.700382   9.816210  \n",
       "              HA1E    10        6          6.251736  10.071124  \n",
       "\n",
       "[5 rows x 978 columns]"
      ]
     },
     "execution_count": 87,
     "metadata": {},
     "output_type": "execute_result"
    }
   ],
   "source": [
    "limma_6hr_10um_ctrls.head()"
   ]
  },
  {
   "cell_type": "markdown",
   "metadata": {},
   "source": [
    "## Datasets"
   ]
  },
  {
   "cell_type": "code",
   "execution_count": 327,
   "metadata": {
    "collapsed": true
   },
   "outputs": [],
   "source": [
    "from drug_repo_metric_learning.siamese_datasets import SiameseL1000Dataset"
   ]
  },
  {
   "cell_type": "code",
   "execution_count": 96,
   "metadata": {},
   "outputs": [
    {
     "data": {
      "text/plain": [
       "['BRD-A58048407', 'BRD-K66956375', 'BRD-K00959089', 'BRD-K95402279']"
      ]
     },
     "execution_count": 96,
     "metadata": {},
     "output_type": "execute_result"
    }
   ],
   "source": [
    "generate_pertids_to_exclude(limma_6hr_10um_sigs)[1:5]"
   ]
  },
  {
   "cell_type": "code",
   "execution_count": 60,
   "metadata": {
    "collapsed": true
   },
   "outputs": [],
   "source": [
    "dataset = SiameseL1000Dataset(limma_6hr_10um_sigs,\n",
    "                              control_sigs = limma_6hr_10um_ctrls,\n",
    "                              rankTransform = True,\n",
    "                              exclude_perts = generate_pertids_to_exclude(limma_6hr_10um_sigs)\n",
    "                             )\n"
   ]
  },
  {
   "cell_type": "code",
   "execution_count": 93,
   "metadata": {},
   "outputs": [
    {
     "data": {
      "text/plain": [
       "43268"
      ]
     },
     "execution_count": 93,
     "metadata": {},
     "output_type": "execute_result"
    }
   ],
   "source": [
    "len(limma_6hr_10um_sigs)"
   ]
  },
  {
   "cell_type": "code",
   "execution_count": 91,
   "metadata": {},
   "outputs": [
    {
     "data": {
      "text/plain": [
       "array([2, 2, 2])"
      ]
     },
     "execution_count": 91,
     "metadata": {},
     "output_type": "execute_result"
    }
   ],
   "source": [
    "np.random.choice([1,4,2,6,2,4,6,2,6,4,3], 3)"
   ]
  },
  {
   "cell_type": "code",
   "execution_count": 116,
   "metadata": {},
   "outputs": [
    {
     "data": {
      "text/plain": [
       "numpy.float64"
      ]
     },
     "execution_count": 116,
     "metadata": {},
     "output_type": "execute_result"
    }
   ],
   "source": [
    "np.double"
   ]
  },
  {
   "cell_type": "markdown",
   "metadata": {},
   "source": [
    "## Code to generate exclude lists of perts"
   ]
  },
  {
   "cell_type": "code",
   "execution_count": 7,
   "metadata": {
    "collapsed": true
   },
   "outputs": [],
   "source": [
    "from siamese_datasets import  SiameseL1000Dataset\n",
    "from siamese_losses import ContrastiveLoss\n",
    "from siamese_models import VanillaSiameseNetL1000\n",
    "from utils import generate_pertids_to_exclude\n",
    "\n",
    "import torch\n",
    "from torch.utils.data import DataLoader\n",
    "from ignite.engine import Events, create_supervised_trainer, create_supervised_evaluator\n",
    "from ignite.metrics import Loss, RunningAverage\n",
    "from ignite.contrib.handlers import tqdm_logger\n",
    "\n",
    "import pandas as pd\n",
    "\n",
    "limma_6hr_10um_sigs = pd.read_pickle('/home/sgf2/DBMI_server/repo/ccdata/l1000_limma_w_controls/limma_6hr_10um_sigs.pkl')\n",
    "train_dataset = SiameseL1000Dataset(limma_6hr_10um_sigs,\n",
    "                                   rankTransform = True,\n",
    "                                   perts_to_exclude = generate_pertids_to_exclude(limma_6hr_10um_sigs)\n",
    "                                   )\n",
    "val_dataset = SiameseL1000Dataset(limma_6hr_10um_sigs,\n",
    "                                 rankTransform = True,\n",
    "                                 split = 'val',\n",
    "                                 perts_to_exclude = generate_pertids_to_exclude(limma_6hr_10um_sigs)\n",
    "                                 )\n",
    "\n",
    "train_loader = DataLoader(train_dataset, batch_size=32, shuffle=True)\n",
    "val_loader = DataLoader(val_dataset, batch_size=32)"
   ]
  },
  {
   "cell_type": "code",
   "execution_count": 2,
   "metadata": {},
   "outputs": [
    {
     "name": "stderr",
     "output_type": "stream",
     "text": [
      "/home/anaconda/anaconda3/envs/siamese/lib/python3.7/site-packages/tqdm/autonotebook/__init__.py:14: TqdmExperimentalWarning: Using `tqdm.autonotebook.tqdm` in notebook mode. Use `tqdm.tqdm` instead to force console mode (e.g. in jupyter console)\n",
      "  \" (e.g. in jupyter console)\", TqdmExperimentalWarning)\n"
     ]
    }
   ],
   "source": [
    "model = VanillaSiameseNetL1000()\n",
    "loss = ContrastiveLoss()\n",
    "optimizer = torch.optim.Adam(model.parameters(), lr=1e-3)\n"
   ]
  }
 ],
 "metadata": {
  "kernelspec": {
   "display_name": "Python 3 (siamese)",
   "language": "python",
   "name": "siamese"
  },
  "language_info": {
   "codemirror_mode": {
    "name": "ipython",
    "version": 3
   },
   "file_extension": ".py",
   "mimetype": "text/x-python",
   "name": "python",
   "nbconvert_exporter": "python",
   "pygments_lexer": "ipython3",
   "version": "3.7.3"
  }
 },
 "nbformat": 4,
 "nbformat_minor": 2
}
