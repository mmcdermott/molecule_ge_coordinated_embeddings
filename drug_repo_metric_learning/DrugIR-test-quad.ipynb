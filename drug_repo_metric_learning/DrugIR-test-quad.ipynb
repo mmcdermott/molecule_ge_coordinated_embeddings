{
 "cells": [
  {
   "cell_type": "markdown",
   "metadata": {},
   "source": [
    "## Set up Dataset"
   ]
  },
  {
   "cell_type": "code",
   "execution_count": 1,
   "metadata": {},
   "outputs": [
    {
     "name": "stderr",
     "output_type": "stream",
     "text": [
      "WARNING:root:No kyotocabinet available\n"
     ]
    }
   ],
   "source": [
    "import datasets as datasets\n",
    "import models as models\n",
    "import losses as losses\n",
    "import utils\n",
    "import config as cf\n",
    "import torch\n",
    "\n",
    "import pickle\n",
    "import os\n",
    "\n",
    "config = cf.read_json(\"../experiments/exp_r4_linear_output/quad_default/config.json\")\n",
    "config['exp_dir'] = os.path.join(config[\"trainer\"][\"base_exp_dir\"], config[\"model_name\"])\n",
    "torch.cuda.set_device(config['device_num'])\n",
    "\n",
    "# Load Train Dataset\n",
    "if \"precomputed_train\" in config['dataset']:\n",
    "    train_dataset = pickle.load(open(config['dataset'][\"precomputed_train\"], \"rb\"))\n",
    "elif \"save_train\" in config['dataset']:\n",
    "    train_dataset = pickle.load(open(config['dataset'][\"save_train\"], \"rb\"))\n",
    "else:\n",
    "    train_dataset = cf.initialize_from_config(config, 'dataset', datasets)\n",
    "\n",
    "# Force Test Set\n",
    "val_dataset = cf.initialize_from_config(config, 'dataset', datasets, split=\"test\")\n",
    "\n",
    "train_loader = cf.initialize_from_config(config, 'data_loader', torch.utils.data, train_dataset, shuffle=True)\n",
    "val_loader = cf.initialize_from_config(config, 'data_loader', torch.utils.data, val_dataset)\n",
    "\n",
    "# Wrappers for embedding evaluation\n",
    "ge_wrapper_train = cf.initialize_from_config(config, 'dataset_wrapper_ge', datasets, train_dataset)\n",
    "ge_wrapper_val = cf.initialize_from_config(config, 'dataset_wrapper_ge', datasets, val_dataset)\n",
    "smiles_wrapper_train = cf.initialize_from_config(config, 'dataset_wrapper_smiles', datasets, train_dataset)\n",
    "smiles_wrapper_val = cf.initialize_from_config(config, 'dataset_wrapper_smiles', datasets, val_dataset)\n",
    "\n",
    "uniq_train_perts = set(smiles_wrapper_train.pert_smiles)\n",
    "uniq_val_perts = set(smiles_wrapper_val.pert_smiles)\n",
    "\n",
    "ge_loader_train = cf.initialize_from_config(config, 'data_loader_singlet', torch.utils.data, ge_wrapper_train)\n",
    "ge_loader_val = cf.initialize_from_config(config, 'data_loader_singlet', torch.utils.data, ge_wrapper_val)\n",
    "smiles_loader_train = cf.initialize_from_config(config, 'data_loader_singlet', torch.utils.data, smiles_wrapper_train)\n",
    "smiles_loader_val = cf.initialize_from_config(config, 'data_loader_singlet', torch.utils.data, smiles_wrapper_val)"
   ]
  },
  {
   "cell_type": "markdown",
   "metadata": {},
   "source": [
    "### Load Model"
   ]
  },
  {
   "cell_type": "code",
   "execution_count": 2,
   "metadata": {},
   "outputs": [
    {
     "name": "stderr",
     "output_type": "stream",
     "text": [
      "/home/anaconda/anaconda3/envs/siamese/lib/python3.7/site-packages/torch/serialization.py:454: SourceChangeWarning: source code of class 'models.FeedForwardQuadrupletNet' has changed. you can retrieve the original source code by accessing the object's source attribute or set `torch.nn.Module.dump_patches = True` and use the patch tool to revert the changes.\n",
      "  warnings.warn(msg, SourceChangeWarning)\n",
      "/home/anaconda/anaconda3/envs/siamese/lib/python3.7/site-packages/torch/serialization.py:454: SourceChangeWarning: source code of class 'models.SNN_Embedder' has changed. you can retrieve the original source code by accessing the object's source attribute or set `torch.nn.Module.dump_patches = True` and use the patch tool to revert the changes.\n",
      "  warnings.warn(msg, SourceChangeWarning)\n"
     ]
    }
   ],
   "source": [
    "import torch\n",
    "import torch.nn as nn\n",
    "import sys\n",
    "\n",
    "model = torch.load(\"../experiments/exp_r4_linear_output/quad_default/checkpoint_quad_default_92_val_mrr=0.09293122.pth\")"
   ]
  },
  {
   "cell_type": "code",
   "execution_count": 3,
   "metadata": {
    "collapsed": true
   },
   "outputs": [],
   "source": [
    "chemprop_model_pretrained = models.load_chemprop_model(\"/home/sgf2/DBMI_server/repo/chemprop/pcba/model_unoptimized.pt\")"
   ]
  },
  {
   "cell_type": "code",
   "execution_count": 4,
   "metadata": {
    "collapsed": true
   },
   "outputs": [],
   "source": [
    "import numpy as np\n",
    "\n",
    "def get_embeddings(model, ge_wrapper, ge_loader, smiles_wrapper, smiles_loader):\n",
    "    gex_raw = np.zeros([ge_wrapper.__len__(), ge_wrapper.__getitem__(0)[0].shape[0]])\n",
    "    gex_embeddings = np.zeros([ge_wrapper.__len__(), model.embed_size])\n",
    "    smiles_gex_labels = []\n",
    "    smiles_chem_labels = []\n",
    "    chem_embeddings = np.zeros([smiles_wrapper.__len__(), model.embed_size])\n",
    "    \n",
    "    if 'rdkit_features' in config and config['rdkit_features']:\n",
    "        nfeats_chemprop = 2400\n",
    "    else:\n",
    "        nfeats_chemprop = 300\n",
    "    chem_embeddings_chemprop = np.zeros([smiles_wrapper.__len__(), nfeats_chemprop])\n",
    "    # smiles_strings = smiles_wrapper.pert_smiles\n",
    "\n",
    "    model.eval()\n",
    "    with torch.no_grad():\n",
    "        # GE embeds for all of train\n",
    "        for i, batch in enumerate(ge_loader):\n",
    "            gex = batch[0].cuda()\n",
    "            start_ind = i * ge_loader.batch_size\n",
    "            end_ind = start_ind + gex.shape[0]\n",
    "\n",
    "            smiles_gex_labels.extend(batch[1])\n",
    "            gex_embeddings[start_ind:end_ind, :] = model.ge_embed(gex).cpu().numpy()\n",
    "            gex_raw[start_ind:end_ind, :] = gex.cpu().numpy()\n",
    "\n",
    "        # Embeds for all unique chems\n",
    "        for i, batch in enumerate(smiles_loader):\n",
    "            smiles = batch\n",
    "            smiles_chem_labels.extend(batch)\n",
    "            start_ind = i * smiles_loader.batch_size\n",
    "            end_ind = start_ind + len(smiles)\n",
    "            if 'rdkit_features' in config and config['rdkit_features']:\n",
    "                feats = [smiles_to_feats[x] for x in smiles]\n",
    "                chem_embeds = model.chem_linear(model.chemprop_encoder(smiles, feats))\n",
    "                chem_embeds_chemprop = chemprop_model_pretrained(smiles, feats)\n",
    "            else:\n",
    "                chem_embeds = model.chem_linear(model.chemprop_encoder(smiles))\n",
    "                chem_embeds_chemprop = chemprop_model_pretrained(smiles)\n",
    "            chem_embeddings[start_ind:end_ind, :] = chem_embeds.cpu().numpy()\n",
    "            chem_embeddings_chemprop[start_ind:end_ind, :] = chem_embeds_chemprop.cpu().numpy()\n",
    "            \n",
    "    # Embeddings for all chems in train\n",
    "    smile_to_chem = {}\n",
    "    smile_to_chem_cp = {}\n",
    "    for i, smile in enumerate(smiles_chem_labels):\n",
    "        smile_to_chem[smile] = chem_embeddings[i,:]\n",
    "        smile_to_chem_cp[smile] = chem_embeddings_chemprop[i,:]\n",
    "\n",
    "    chem_embeddings_all = []\n",
    "    chem_embeddings_all_chemprop = []\n",
    "    for smile in smiles_gex_labels:\n",
    "        chem_embeddings_all.append(smile_to_chem[smile])\n",
    "        chem_embeddings_all_chemprop.append(smile_to_chem_cp[smile])\n",
    "    chem_embeddings_all = np.stack(chem_embeddings_all)\n",
    "    chem_embeddings_all_chemprop = np.stack(chem_embeddings_all_chemprop)\n",
    "\n",
    "    return gex_raw, gex_embeddings, chem_embeddings_all, chem_embeddings, chem_embeddings_all_chemprop, chem_embeddings_chemprop, np.array(smiles_gex_labels), np.array(smiles_chem_labels)"
   ]
  },
  {
   "cell_type": "code",
   "execution_count": 5,
   "metadata": {},
   "outputs": [
    {
     "data": {
      "text/plain": [
       "((5069, 2934),\n",
       " (5069, 128),\n",
       " (5069, 128),\n",
       " (3370, 128),\n",
       " (5069, 300),\n",
       " (3370, 300),\n",
       " 5069,\n",
       " 3370)"
      ]
     },
     "execution_count": 5,
     "metadata": {},
     "output_type": "execute_result"
    }
   ],
   "source": [
    "gex_raw, gex_embeddings, chem_embeddings, chem_embeddings_unique, chem_embeddings_chemprop, chem_embeddings_unique_chemprop, smiles_gex_labels, smiles_chem_labels = get_embeddings(model, ge_wrapper_val, ge_loader_val, smiles_wrapper_val, smiles_loader_val)\n",
    "gex_raw.shape, gex_embeddings.shape, chem_embeddings.shape, chem_embeddings_unique.shape, chem_embeddings_chemprop.shape, chem_embeddings_unique_chemprop.shape, len(smiles_gex_labels), len(smiles_chem_labels)"
   ]
  },
  {
   "cell_type": "code",
   "execution_count": 6,
   "metadata": {},
   "outputs": [
    {
     "data": {
      "text/plain": [
       "((29548, 2934),\n",
       " (29548, 128),\n",
       " (29548, 128),\n",
       " (6318, 128),\n",
       " (29548, 300),\n",
       " (6318, 300),\n",
       " 29548,\n",
       " 6318)"
      ]
     },
     "execution_count": 6,
     "metadata": {},
     "output_type": "execute_result"
    }
   ],
   "source": [
    "gex_raw_train, gex_embeddings_train, chem_embeddings_train, chem_embeddings_unique_train, chem_embeddings_chemprop_train, chem_embeddings_unique_chemprop_train, smiles_gex_labels_train, smiles_chem_labels_train = get_embeddings(model, ge_wrapper_train, ge_loader_train, smiles_wrapper_train, smiles_loader_train)\n",
    "gex_raw_train.shape, gex_embeddings_train.shape, chem_embeddings_train.shape, chem_embeddings_unique_train.shape , chem_embeddings_chemprop_train.shape, chem_embeddings_unique_chemprop_train.shape, len(smiles_gex_labels_train), len(smiles_chem_labels_train)"
   ]
  },
  {
   "cell_type": "code",
   "execution_count": 7,
   "metadata": {
    "collapsed": true
   },
   "outputs": [],
   "source": [
    "import pandas as pd\n",
    "gex_embeddings_mean_pd = pd.DataFrame(data=gex_embeddings, index = smiles_gex_labels).rename_axis(index=['smiles']).groupby('smiles').mean()\n",
    "chem_embeddings_mean_pd = pd.DataFrame(data=chem_embeddings_unique, index = smiles_chem_labels ).rename_axis(index=['smiles']).groupby('smiles').mean()\n",
    "assert(all(gex_embeddings_mean_pd.index.values == chem_embeddings_mean_pd.index.values))"
   ]
  },
  {
   "cell_type": "markdown",
   "metadata": {},
   "source": [
    "# Distance Computations\n",
    "\n",
    "## Model space"
   ]
  },
  {
   "cell_type": "code",
   "execution_count": 8,
   "metadata": {
    "collapsed": true
   },
   "outputs": [],
   "source": [
    "from scipy.spatial.distance import cdist"
   ]
  },
  {
   "cell_type": "raw",
   "metadata": {},
   "source": [
    "gex_chem_embed_dist = cdist(gex_embeddings_mean_pd, chem_embeddings_mean_pd,  metric='correlation')\n",
    "\n",
    "gex_chem_dists = gex_chem_embed_dist[np.triu_indices(2248, k=1)]\n",
    "\n",
    "gex_chem_embed_dist.shape, len(gex_chem_dists)"
   ]
  },
  {
   "cell_type": "raw",
   "metadata": {},
   "source": [
    "import seaborn as sns\n",
    "sns.distplot(gex_chem_embed_dist.diagonal())\n",
    "sns.distplot(gex_chem_embed_dist[np.triu_indices(2248, k=1)])"
   ]
  },
  {
   "cell_type": "raw",
   "metadata": {},
   "source": [
    "print(\"Average correlation between matched GE and Chem embeds:   \", np.mean(1 - gex_chem_embed_dist.diagonal()))\n",
    "print(\"Average correlation between unmatched GE and Chem embeds: \", np.mean(1 - gex_chem_embed_dist[np.triu_indices(2248, k=1)]))\n"
   ]
  },
  {
   "cell_type": "markdown",
   "metadata": {},
   "source": [
    "## Tanimoto similarity"
   ]
  },
  {
   "cell_type": "code",
   "execution_count": null,
   "metadata": {
    "collapsed": true
   },
   "outputs": [],
   "source": [
    "from rdkit import DataStructs\n",
    "from rdkit.Chem.Fingerprints import FingerprintMols\n",
    "from rdkit.Chem import MolFromSmiles,AllChem\n"
   ]
  },
  {
   "cell_type": "raw",
   "metadata": {
    "collapsed": true
   },
   "source": [
    "ms = [MolFromSmiles(x) for x in smiles_gex_labels]\n",
    "fps = [FingerprintMols.FingerprintMol(x) for x in ms]\n",
    "\n",
    "inds = np.triu_indices(2248, k=1)\n",
    "tanimoto_dists = [1 - DataStructs.FingerprintSimilarity(fps[inds[0][i]],\n",
    "                                   fps[inds[1][i]])\n",
    " for i in range( len(inds[0]) )\n",
    "]"
   ]
  },
  {
   "cell_type": "code",
   "execution_count": null,
   "metadata": {},
   "outputs": [
    {
     "data": {
      "text/plain": [
       "((5069, 128), (3370, 128), (29548, 128))"
      ]
     },
     "execution_count": 10,
     "metadata": {},
     "output_type": "execute_result"
    }
   ],
   "source": [
    "ms = [MolFromSmiles(x) for x in smiles_gex_labels]\n",
    "fingerprints = np.stack([AllChem.GetMorganFingerprintAsBitVect(x,radius=2, nBits=128) for x in ms])\n",
    "\n",
    "ms = [MolFromSmiles(x) for x in smiles_chem_labels]\n",
    "fingerprints_unique = np.stack([AllChem.GetMorganFingerprintAsBitVect(x,radius=2, nBits=128) for x in ms])\n",
    "\n",
    "ms_train = [MolFromSmiles(x) for x in smiles_gex_labels_train]\n",
    "fingerprints_train = np.stack([AllChem.GetMorganFingerprintAsBitVect(x,radius=2, nBits=128) for x in ms_train])\n",
    "\n",
    "fingerprints.shape, fingerprints_unique.shape, fingerprints_train.shape"
   ]
  },
  {
   "cell_type": "markdown",
   "metadata": {},
   "source": [
    "## GE similarity "
   ]
  },
  {
   "cell_type": "raw",
   "metadata": {},
   "source": [
    "gex_raw_pd = pd.DataFrame(data=gex_raw[:,-978:], index = smiles_gex_labels).rename_axis(index=['smiles'])\n",
    "gex_raw_train_pd = pd.DataFrame(data=gex_raw_train[:,-978:], index = smiles_gex_labels_train).rename_axis(index=['smiles'])"
   ]
  },
  {
   "cell_type": "raw",
   "metadata": {
    "collapsed": true
   },
   "source": [
    "average_ges = gex_raw_pd.groupby('smiles').mean()\n",
    "ge_dists = cdist(average_ges,average_ges, \"correlation\")[np.triu_indices(2248,k=1)]"
   ]
  },
  {
   "cell_type": "raw",
   "metadata": {},
   "source": [
    "len(tanimoto_dists),len(gex_chem_dists),len(ge_dists)"
   ]
  },
  {
   "cell_type": "markdown",
   "metadata": {},
   "source": [
    "## Correlations of Distances"
   ]
  },
  {
   "cell_type": "raw",
   "metadata": {},
   "source": [
    "(np.corrcoef(tanimoto_dists, ge_dists)[0,1],\n",
    " np.corrcoef(tanimoto_dists, gex_chem_dists)[0,1],\n",
    " np.corrcoef(gex_chem_dists, ge_dists)[0,1])"
   ]
  },
  {
   "cell_type": "raw",
   "metadata": {
    "scrolled": true
   },
   "source": [
    "all_sims = 1 - pd.DataFrame({'Tanimoto':tanimoto_dists,\n",
    "                              'GE':ge_dists,\n",
    "                              'Model':gex_chem_dists\n",
    "                             })\n",
    "all_sims.head(20)"
   ]
  },
  {
   "cell_type": "raw",
   "metadata": {},
   "source": [
    "sns.scatterplot(x=\"Tanimoto\", y=\"GE\",\n",
    "                hue='Model',\n",
    "                data = all_sims.sample(500))"
   ]
  },
  {
   "cell_type": "markdown",
   "metadata": {},
   "source": [
    "## Ranking results"
   ]
  },
  {
   "cell_type": "code",
   "execution_count": null,
   "metadata": {
    "collapsed": true
   },
   "outputs": [],
   "source": [
    "from scipy.stats.mstats import rankdata\n",
    "import seaborn as sns\n",
    "\n",
    "def get_ind_first_match(smiles_gex_labels, smiles_chem_labels):\n",
    "    inds_first_match = []\n",
    "    for i, sml in enumerate(smiles_gex_labels):\n",
    "        match = np.where(smiles_chem_labels == sml)[0]\n",
    "    rank_first_match = np.array(rank_first_match).squeeze()\n",
    "    inds_first_match = np.array(inds_first_match).squeeze()\n",
    "    return inds_first_match\n",
    "\n",
    "def get_ranks_first_match(gex_chem_ranks, smiles_gex_labels, smiles_chem_labels):\n",
    "    rank_first_match = []\n",
    "    for i, sml in enumerate(smiles_gex_labels):\n",
    "        matches = np.where(smiles_chem_labels == sml)[0]\n",
    "        ranks_matches = gex_chem_ranks[i, matches]\n",
    "        rank_first_match.append(np.min(ranks_matches))\n",
    "    rank_first_match = np.array(rank_first_match).squeeze()\n",
    "    return rank_first_match\n",
    "\n",
    "def prepare_metrics(rank_first_match, indices):\n",
    "    median_rank = np.median(rank_first_match[indices])\n",
    "    mrr = np.mean(1 / rank_first_match[indices])\n",
    "    hits_at_10 = np.mean(\n",
    "        [np.sum(results <= 10) for results in rank_first_match[indices]])  # can change to rank_all_matches\n",
    "    hits_at_100 = np.mean([np.sum(results <= 100) for results in rank_first_match[indices]])\n",
    "    hits_at_500 = np.mean([np.sum(results <= 500) for results in rank_first_match[indices]])\n",
    "    return {#\"total_drugs\": len(set(np.array(smiles_gex_labels)[inds])),\n",
    "            \"median_rank\": median_rank,\n",
    "            \"MRR\": mrr,\n",
    "            \"H@10\": hits_at_10,\n",
    "            \"H@100\": hits_at_100,\n",
    "            \"H@500\": hits_at_500\n",
    "        }\n",
    "\n",
    "def get_val_scores(distmat,\n",
    "                   smiles_gex_labels=smiles_gex_labels,\n",
    "                   smiles_chem_labels=smiles_chem_labels,\n",
    "                   train_smiles = list(set(smiles_chem_labels_train))):\n",
    "\n",
    "    gex_chem_ranks = rankdata(distmat, axis=1)\n",
    "\n",
    "    rank_first_match_all = get_ranks_first_match(gex_chem_ranks, smiles_gex_labels, smiles_chem_labels)\n",
    "\n",
    "    list_of_inds = [[i for i,j in enumerate(smiles_gex_labels)]]\n",
    "    ge_inds_in_train = [i for i, j in enumerate(smiles_gex_labels) if j in train_smiles]\n",
    "    ge_inds_not_in_train = [i for i, j in enumerate(smiles_gex_labels) if j not in train_smiles]\n",
    "    list_of_inds.append(ge_inds_in_train)\n",
    "    list_of_inds.append(ge_inds_not_in_train)\n",
    "\n",
    "    chem_inds_not_in_train = [i for i,j in enumerate(smiles_chem_labels) if j not in train_smiles]\n",
    "\n",
    "    ir_results = []\n",
    "    for inds in list_of_inds:\n",
    "        ir_results.append(prepare_metrics(rank_first_match_all, inds))\n",
    "\n",
    "    ranks_subset = rankdata(gex_chem_ranks[:, chem_inds_not_in_train][ge_inds_not_in_train,:], axis=1)\n",
    "    rank_first_match = get_ranks_first_match(ranks_subset,\n",
    "                                             smiles_gex_labels[ge_inds_not_in_train],\n",
    "                                             smiles_chem_labels[chem_inds_not_in_train])\n",
    "    ir_results.append(prepare_metrics(rank_first_match,\n",
    "                                      [k for k in range(len(ge_inds_not_in_train))]\n",
    "                                      ))\n",
    "    val_print_labels = [\"Val (All):              \", \"Val (In Train):         \",\n",
    "                            \"Val (Not in Train):     \", \"Val (No train, limited):\"]\n",
    "    for i, res_dict in enumerate(ir_results):\n",
    "        print(val_print_labels[i] + \"    \".join(['{}: {:.3f}'.format(k, res_dict[k]) for k in res_dict]))\n",
    "\n",
    "    match_dists = []\n",
    "    nonmatch_dists = []\n",
    "    for i, sml in enumerate(smiles_gex_labels):\n",
    "        match = np.where(smiles_chem_labels == sml)[0]\n",
    "        match_dists.append(distmat[i,match[0]])\n",
    "        nonmatch_dists.extend( list(distmat[i,:match[0]]) + list(distmat[i,match[0]+1:]) )\n",
    "    match_sims = 1-np.array(match_dists)\n",
    "    nonmatch_sims = 1-np.array(nonmatch_dists)\n",
    "    \n",
    "    print(\"Average correlation between matched GE and Chem embeds (CCA):   \", np.mean(match_sims))\n",
    "    print(\"Average correlation between unmatched GE and Chem embeds (CAA): \", np.mean(nonmatch_sims))\n",
    "    print(\"Difference: \", np.mean(match_sims) - np.mean(nonmatch_sims) )\n",
    "    print()\n",
    "    \n",
    "    sns.distplot(match_sims)\n",
    "    sns.distplot(nonmatch_sims)\n",
    "        \n",
    "    return rank_first_match_all, rank_first_match, match_sims, nonmatch_sims\n",
    "\n",
    "from sklearn.cross_decomposition import CCA\n",
    "def cca_cor(ncomp = 50,\n",
    "            embeds_ge_train=gex_embeddings_train, embeds_ge_val=gex_embeddings,\n",
    "            embeds_chem_train=chem_embeddings_train, embeds_chem_val=chem_embeddings,\n",
    "            embeds_chem_uniq_val=chem_embeddings_unique\n",
    "           ):\n",
    "    print(\"CCA w/\", ncomp, \"components\")\n",
    "    cca = CCA(n_components=ncomp, max_iter = 1000)\n",
    "    cca.fit(embeds_ge_train, embeds_chem_train)\n",
    "    cca_gex_val, cca_chem_val = cca.transform(embeds_ge_val, embeds_chem_uniq_val)\n",
    "\n",
    "    print(\"Computing Distances\")\n",
    "    gex_chem_embed_dist_cca = cdist(cca_gex_val, cca_chem_val,  metric='correlation')\n",
    "    ranks_val_all, ranks_val_out, match_sims, nonmatch_sims = get_val_scores(gex_chem_embed_dist_cca)\n",
    "    return ranks_val_all, ranks_val_out, match_sims, nonmatch_sims"
   ]
  },
  {
   "cell_type": "markdown",
   "metadata": {
    "collapsed": true
   },
   "source": [
    "## Compute Results"
   ]
  },
  {
   "cell_type": "code",
   "execution_count": null,
   "metadata": {},
   "outputs": [
    {
     "data": {
      "text/plain": [
       "((5069, 2934), (5069, 128), (5069, 128), (3370, 128), 5069, 3370)"
      ]
     },
     "execution_count": 12,
     "metadata": {},
     "output_type": "execute_result"
    }
   ],
   "source": [
    "gex_raw.shape, gex_embeddings.shape, chem_embeddings.shape, chem_embeddings_unique.shape, len(smiles_gex_labels), len(smiles_chem_labels)"
   ]
  },
  {
   "cell_type": "code",
   "execution_count": null,
   "metadata": {},
   "outputs": [
    {
     "name": "stdout",
     "output_type": "stream",
     "text": [
      "Original\n",
      "Val (All):              median_rank: 199.000    MRR: 0.066    H@10: 0.122    H@100: 0.372    H@500: 0.711\n",
      "Val (In Train):         median_rank: 154.000    MRR: 0.078    H@10: 0.141    H@100: 0.418    H@500: 0.773\n",
      "Val (Not in Train):     median_rank: 660.500    MRR: 0.015    H@10: 0.035    H@100: 0.161    H@500: 0.422\n",
      "Val (No train, limited):median_rank: 96.500    MRR: 0.060    H@10: 0.124    H@100: 0.523    H@500: 1.000\n",
      "Average correlation between matched GE and Chem embeds (CCA):    0.5143802343128254\n",
      "Average correlation between unmatched GE and Chem embeds (CAA):  0.09502060736988907\n",
      "Difference:  0.4193596269429364\n",
      "\n"
     ]
    },
    {
     "data": {
      "image/png": "[encoded data removed]",
      "text/plain": [
       "<Figure size 432x288 with 1 Axes>"
      ]
     },
     "metadata": {
      "needs_background": "light"
     },
     "output_type": "display_data"
    }
   ],
   "source": [
    "print(\"Original\")\n",
    "gex_chem_baseline_dist = cdist(gex_embeddings, chem_embeddings_unique,  metric='correlation')\n",
    "ranks_val_orig_all, ranks_val_orig_out, simsM_orig_all, simsNM_orig_all = get_val_scores(gex_chem_baseline_dist)"
   ]
  },
  {
   "cell_type": "code",
   "execution_count": null,
   "metadata": {},
   "outputs": [
    {
     "name": "stdout",
     "output_type": "stream",
     "text": [
      "CCA w/ 50 components\n",
      "Computing Distances\n",
      "Val (All):              median_rank: 196.000    MRR: 0.073    H@10: 0.135    H@100: 0.384    H@500: 0.706\n",
      "Val (In Train):         median_rank: 149.000    MRR: 0.086    H@10: 0.157    H@100: 0.434    H@500: 0.770\n",
      "Val (Not in Train):     median_rank: 670.000    MRR: 0.013    H@10: 0.032    H@100: 0.157    H@500: 0.412\n",
      "Val (No train, limited):median_rank: 93.000    MRR: 0.056    H@10: 0.136    H@100: 0.521    H@500: 1.000\n",
      "Average correlation between matched GE and Chem embeds (CCA):    0.4580735706821756\n",
      "Average correlation between unmatched GE and Chem embeds (CAA):  0.027034534407680434\n",
      "Difference:  0.43103903627449514\n",
      "\n"
     ]
    },
    {
     "data": {
      "image/png": "[encoded data removed]",
      "text/plain": [
       "<Figure size 432x288 with 1 Axes>"
      ]
     },
     "metadata": {
      "needs_background": "light"
     },
     "output_type": "display_data"
    }
   ],
   "source": [
    "ranks_val_cca_all, ranks_val_cca_out, simsM_cca_all, simsNM_cca_all = cca_cor()"
   ]
  },
  {
   "cell_type": "code",
   "execution_count": null,
   "metadata": {},
   "outputs": [
    {
     "name": "stdout",
     "output_type": "stream",
     "text": [
      "CCA w/ 50 components\n",
      "Computing Distances\n",
      "Val (All):              median_rank: 644.000    MRR: 0.035    H@10: 0.063    H@100: 0.206    H@500: 0.444\n",
      "Val (In Train):         median_rank: 523.000    MRR: 0.040    H@10: 0.072    H@100: 0.237    H@500: 0.490\n",
      "Val (Not in Train):     median_rank: 1282.000    MRR: 0.010    H@10: 0.022    H@100: 0.062    H@500: 0.236\n",
      "Val (No train, limited):median_rank: 131.000    MRR: 0.041    H@10: 0.068    H@100: 0.400    H@500: 1.000\n",
      "Average correlation between matched GE and Chem embeds (CCA):    0.1710796949125439\n",
      "Average correlation between unmatched GE and Chem embeds (CAA):  0.004361928480679614\n",
      "Difference:  0.16671776643186428\n",
      "\n"
     ]
    },
    {
     "data": {
      "image/png": "[encoded data removed]",
      "text/plain": [
       "<Figure size 432x288 with 1 Axes>"
      ]
     },
     "metadata": {
      "needs_background": "light"
     },
     "output_type": "display_data"
    }
   ],
   "source": [
    "ranks_val_geEmbed_fps_all, ranks_val_geEmbed_fps_out, simsM_geEmbed_fps_all, simsNM_geEmbed_fps_all = cca_cor(ncomp = 50,\n",
    "                                                                                                              embeds_chem_train=fingerprints_train,\n",
    "                                                                                                              embeds_chem_val=fingerprints,\n",
    "                                                                                                              embeds_chem_uniq_val=fingerprints_unique)"
   ]
  },
  {
   "cell_type": "code",
   "execution_count": null,
   "metadata": {},
   "outputs": [
    {
     "name": "stdout",
     "output_type": "stream",
     "text": [
      "CCA w/ 50 components\n",
      "Computing Distances\n",
      "Val (All):              median_rank: 403.000    MRR: 0.049    H@10: 0.091    H@100: 0.267    H@500: 0.538\n",
      "Val (In Train):         median_rank: 316.000    MRR: 0.058    H@10: 0.107    H@100: 0.305    H@500: 0.585\n",
      "Val (Not in Train):     median_rank: 896.000    MRR: 0.008    H@10: 0.019    H@100: 0.095    H@500: 0.321\n",
      "Val (No train, limited):median_rank: 101.000    MRR: 0.048    H@10: 0.079    H@100: 0.499    H@500: 1.000\n",
      "Average correlation between matched GE and Chem embeds (CCA):    0.2310195294066332\n",
      "Average correlation between unmatched GE and Chem embeds (CAA):  0.009272042965942489\n",
      "Difference:  0.2217474864406907\n",
      "\n"
     ]
    },
    {
     "data": {
      "image/png": "[encoded data removed]",
      "text/plain": [
       "<Figure size 432x288 with 1 Axes>"
      ]
     },
     "metadata": {
      "needs_background": "light"
     },
     "output_type": "display_data"
    }
   ],
   "source": [
    "ranks_val_geEmbed_chemprop_all, ranks_val_geEmbed_chemprop_out, simsM_geEmbed_chemprop_all, simsNM_geEmbed_chemprop_all = cca_cor(ncomp = 50,\n",
    "                                                                                                                                  embeds_chem_train=chem_embeddings_chemprop_train,\n",
    "                                                                                                                                  embeds_chem_val=chem_embeddings_chemprop,\n",
    "                                                                                                                                  embeds_chem_uniq_val=chem_embeddings_unique_chemprop\n",
    "                                                                                                                         )"
   ]
  },
  {
   "cell_type": "code",
   "execution_count": null,
   "metadata": {},
   "outputs": [
    {
     "name": "stdout",
     "output_type": "stream",
     "text": [
      "CCA w/ 50 components\n",
      "Computing Distances\n",
      "Val (All):              median_rank: 1102.000    MRR: 0.037    H@10: 0.063    H@100: 0.154    H@500: 0.319\n",
      "Val (In Train):         median_rank: 1005.000    MRR: 0.043    H@10: 0.074    H@100: 0.174    H@500: 0.341\n",
      "Val (Not in Train):     median_rank: 1395.500    MRR: 0.007    H@10: 0.011    H@100: 0.062    H@500: 0.216\n",
      "Val (No train, limited):median_rank: 134.000    MRR: 0.039    H@10: 0.065    H@100: 0.389    H@500: 1.000\n",
      "Average correlation between matched GE and Chem embeds (CCA):    0.09531477236213479\n",
      "Average correlation between unmatched GE and Chem embeds (CAA):  0.0006167351511649946\n",
      "Difference:  0.0946980372109698\n",
      "\n"
     ]
    },
    {
     "data": {
      "image/png": "[encoded data removed]",
      "text/plain": [
       "<Figure size 432x288 with 1 Axes>"
      ]
     },
     "metadata": {
      "needs_background": "light"
     },
     "output_type": "display_data"
    }
   ],
   "source": [
    "ranks_val_rawGE_fps_all, ranks_val_rawGE_fps_out, simsM_rawGE_fps_all, simsNM_rawGE_fps_all = cca_cor(ncomp = 50,\n",
    "                                                           embeds_ge_train=gex_raw_train[:,-978:],\n",
    "                                                           embeds_chem_train=fingerprints_train,\n",
    "                                                           embeds_ge_val=gex_raw[:,-978:],\n",
    "                                                           embeds_chem_val=fingerprints,\n",
    "                                                           embeds_chem_uniq_val=fingerprints_unique)"
   ]
  },
  {
   "cell_type": "code",
   "execution_count": null,
   "metadata": {},
   "outputs": [
    {
     "name": "stdout",
     "output_type": "stream",
     "text": [
      "CCA w/ 50 components\n",
      "Computing Distances\n",
      "Val (All):              median_rank: 874.000    MRR: 0.045    H@10: 0.078    H@100: 0.192    H@500: 0.380\n",
      "Val (In Train):         median_rank: 823.000    MRR: 0.053    H@10: 0.089    H@100: 0.210    H@500: 0.397\n",
      "Val (Not in Train):     median_rank: 1095.000    MRR: 0.011    H@10: 0.024    H@100: 0.108    H@500: 0.299\n",
      "Val (No train, limited):median_rank: 116.500    MRR: 0.055    H@10: 0.096    H@100: 0.447    H@500: 1.000\n",
      "Average correlation between matched GE and Chem embeds (CCA):    0.12990687404735704\n",
      "Average correlation between unmatched GE and Chem embeds (CAA):  0.0025680798451618967\n",
      "Difference:  0.12733879420219515\n",
      "\n"
     ]
    },
    {
     "data": {
      "image/png": "[encoded data removed]",
      "text/plain": [
       "<Figure size 432x288 with 1 Axes>"
      ]
     },
     "metadata": {
      "needs_background": "light"
     },
     "output_type": "display_data"
    }
   ],
   "source": [
    "ranks_val_rawGE_chemprop_all, ranks_val_rawGE_chemprop_out, simsM_rawGE_chemprop_all, simsNM_rawGE_chemprop_all = cca_cor(ncomp = 50,\n",
    "                                                                                                                          embeds_ge_train=gex_raw_train[:,-978:],\n",
    "                                                                                                                          embeds_ge_val=gex_raw[:,-978:],\n",
    "                                                                                                                          embeds_chem_train=chem_embeddings_chemprop_train,\n",
    "                                                                                                                          embeds_chem_val=chem_embeddings_chemprop,\n",
    "                                                                                                                          embeds_chem_uniq_val=chem_embeddings_unique_chemprop\n",
    "                                                                                                                         )"
   ]
  },
  {
   "cell_type": "code",
   "execution_count": null,
   "metadata": {
    "scrolled": true
   },
   "outputs": [
    {
     "name": "stdout",
     "output_type": "stream",
     "text": [
      "CCA w/ 50 components\n"
     ]
    }
   ],
   "source": [
    "ranks_val_rawGE_chemEmbed_all, ranks_val_rawGE_chemEmbed_out, simsM_rawGE_chemEmbed_all, simsNM_rawGE_chemEmbed_all = cca_cor(ncomp = 50,\n",
    "                                                                       embeds_ge_train=gex_raw_train[:,-978:],\n",
    "                                                                       embeds_ge_val=gex_raw[:,-978:])"
   ]
  },
  {
   "cell_type": "markdown",
   "metadata": {},
   "source": [
    "## Plots"
   ]
  },
  {
   "cell_type": "code",
   "execution_count": null,
   "metadata": {
    "collapsed": true
   },
   "outputs": [],
   "source": [
    "import matplotlib.pyplot as plt\n",
    "fig = plt.figure(figsize=(10,6))\n",
    "sns.kdeplot(ranks_val_rawGE_fps_all, cumulative=True, label = 'rawGE_fps')\n",
    "sns.kdeplot(ranks_val_rawGE_chemprop_all, cumulative=True, label = 'rawGE_PT')\n",
    "sns.kdeplot(ranks_val_rawGE_chemEmbed_all, cumulative=True, label = 'rawGE_margin')\n",
    "sns.kdeplot(ranks_val_geEmbed_fps_all, cumulative=True, label = \"margin_fps\")\n",
    "sns.kdeplot(ranks_val_geEmbed_chemprop_all, cumulative=True, label = \"margin_PT\")\n",
    "sns.kdeplot(ranks_val_cca_all, cumulative=True, label = \"margin_margin_CCA\")\n",
    "sns.kdeplot(ranks_val_orig_all, cumulative=True, label = \"margin_margin_noCCA\")\n",
    "plt.show()\n",
    "\n",
    "import matplotlib.pyplot as plt\n",
    "fig = plt.figure(figsize=(10,6))\n",
    "sns.kdeplot(ranks_val_rawGE_fps_out, cumulative=True, label = 'rawGE_fps')\n",
    "sns.kdeplot(ranks_val_rawGE_chemprop_out, cumulative=True, label = 'rawGE_PT')\n",
    "sns.kdeplot(ranks_val_rawGE_chemEmbed_out, cumulative=True, label = 'rawGE_margin')\n",
    "sns.kdeplot(ranks_val_geEmbed_fps_out, cumulative=True, label = \"margin_fps\")\n",
    "sns.kdeplot(ranks_val_geEmbed_chemprop_out, cumulative=True, label = \"margin_PT\")\n",
    "sns.kdeplot(ranks_val_cca_out, cumulative=True, label = \"margin_margin_CCA\")\n",
    "sns.kdeplot(ranks_val_orig_out, cumulative=True, label = \"margin_margin_noCCA\")\n",
    "plt.show()"
   ]
  },
  {
   "cell_type": "markdown",
   "metadata": {
    "collapsed": true
   },
   "source": [
    "## Save results"
   ]
  },
  {
   "cell_type": "code",
   "execution_count": null,
   "metadata": {
    "collapsed": true
   },
   "outputs": [],
   "source": []
  }
 ],
 "metadata": {
  "kernelspec": {
   "display_name": "Python 3 (siamese)",
   "language": "python",
   "name": "siamese"
  },
  "language_info": {
   "codemirror_mode": {
    "name": "ipython",
    "version": 3
   },
   "file_extension": ".py",
   "mimetype": "text/x-python",
   "name": "python",
   "nbconvert_exporter": "python",
   "pygments_lexer": "ipython3",
   "version": "3.7.3"
  }
 },
 "nbformat": 4,
 "nbformat_minor": 2
}
