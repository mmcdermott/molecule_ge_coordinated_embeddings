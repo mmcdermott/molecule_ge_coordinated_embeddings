{
 "cells": [
  {
   "cell_type": "markdown",
   "metadata": {},
   "source": [
    "## Set up Dataset"
   ]
  },
  {
   "cell_type": "code",
   "execution_count": 1,
   "metadata": {},
   "outputs": [
    {
     "name": "stderr",
     "output_type": "stream",
     "text": [
      "WARNING:root:No kyotocabinet available\n"
     ]
    }
   ],
   "source": [
    "import datasets as datasets\n",
    "import models as models\n",
    "import losses as losses\n",
    "import utils\n",
    "import config as cf\n",
    "import torch\n",
    "\n",
    "import pickle\n",
    "import os\n",
    "\n",
    "config = cf.read_json(\"../experiments/exp_r4_linear_output/triplet_ge_first/config.json\")\n",
    "config['exp_dir'] = os.path.join(config[\"trainer\"][\"base_exp_dir\"], config[\"model_name\"])\n",
    "torch.cuda.set_device(config['device_num'])\n",
    "\n",
    "# Load Train Dataset\n",
    "if \"precomputed_train\" in config['dataset']:\n",
    "    train_dataset = pickle.load(open(config['dataset'][\"precomputed_train\"], \"rb\"))\n",
    "elif \"save_train\" in config['dataset']:\n",
    "    train_dataset = pickle.load(open(config['dataset'][\"save_train\"], \"rb\"))\n",
    "else:\n",
    "    train_dataset = cf.initialize_from_config(config, 'dataset', datasets)\n",
    "\n",
    "# Force Test Set\n",
    "val_dataset = cf.initialize_from_config(config, 'dataset', datasets, split=\"test\")\n",
    "\n",
    "train_loader = cf.initialize_from_config(config, 'data_loader', torch.utils.data, train_dataset, shuffle=True)\n",
    "val_loader = cf.initialize_from_config(config, 'data_loader', torch.utils.data, val_dataset)\n",
    "\n",
    "# Wrappers for embedding evaluation\n",
    "ge_wrapper_train = cf.initialize_from_config(config, 'dataset_wrapper_ge', datasets, train_dataset)\n",
    "ge_wrapper_val = cf.initialize_from_config(config, 'dataset_wrapper_ge', datasets, val_dataset)\n",
    "smiles_wrapper_train = cf.initialize_from_config(config, 'dataset_wrapper_smiles', datasets, train_dataset)\n",
    "smiles_wrapper_val = cf.initialize_from_config(config, 'dataset_wrapper_smiles', datasets, val_dataset)\n",
    "\n",
    "uniq_train_perts = set(smiles_wrapper_train.pert_smiles)\n",
    "uniq_val_perts = set(smiles_wrapper_val.pert_smiles)\n",
    "\n",
    "ge_loader_train = cf.initialize_from_config(config, 'data_loader_singlet', torch.utils.data, ge_wrapper_train)\n",
    "ge_loader_val = cf.initialize_from_config(config, 'data_loader_singlet', torch.utils.data, ge_wrapper_val)\n",
    "smiles_loader_train = cf.initialize_from_config(config, 'data_loader_singlet', torch.utils.data, smiles_wrapper_train)\n",
    "smiles_loader_val = cf.initialize_from_config(config, 'data_loader_singlet', torch.utils.data, smiles_wrapper_val)"
   ]
  },
  {
   "cell_type": "markdown",
   "metadata": {},
   "source": [
    "### Load Model"
   ]
  },
  {
   "cell_type": "code",
   "execution_count": 2,
   "metadata": {},
   "outputs": [
    {
     "name": "stderr",
     "output_type": "stream",
     "text": [
      "/home/anaconda/anaconda3/envs/siamese/lib/python3.7/site-packages/torch/serialization.py:454: SourceChangeWarning: source code of class 'models.FeedForwardTripletNet' has changed. you can retrieve the original source code by accessing the object's source attribute or set `torch.nn.Module.dump_patches = True` and use the patch tool to revert the changes.\n",
      "  warnings.warn(msg, SourceChangeWarning)\n",
      "/home/anaconda/anaconda3/envs/siamese/lib/python3.7/site-packages/torch/serialization.py:454: SourceChangeWarning: source code of class 'models.SNN_Embedder' has changed. you can retrieve the original source code by accessing the object's source attribute or set `torch.nn.Module.dump_patches = True` and use the patch tool to revert the changes.\n",
      "  warnings.warn(msg, SourceChangeWarning)\n"
     ]
    }
   ],
   "source": [
    "import torch\n",
    "import torch.nn as nn\n",
    "import sys\n",
    "\n",
    "model = torch.load(\"../experiments/exp_r3_act_embed/triplet_ge_first/checkpoint_triplet_ge_first_95_val_mrr=0.08731826.pth\")"
   ]
  },
  {
   "cell_type": "code",
   "execution_count": 3,
   "metadata": {
    "collapsed": true
   },
   "outputs": [],
   "source": [
    "chemprop_model_pretrained = models.load_chemprop_model(\"/home/sgf2/DBMI_server/repo/chemprop/pcba/model_unoptimized.pt\")"
   ]
  },
  {
   "cell_type": "code",
   "execution_count": 4,
   "metadata": {
    "collapsed": true
   },
   "outputs": [],
   "source": [
    "import numpy as np\n",
    "import seaborn as sns\n",
    "\n",
    "def get_embeddings(model, ge_wrapper, ge_loader, smiles_wrapper, smiles_loader):\n",
    "    gex_raw = np.zeros([ge_wrapper.__len__(), ge_wrapper.__getitem__(0)[0].shape[0]])\n",
    "    gex_embeddings = np.zeros([ge_wrapper.__len__(), model.embed_size])\n",
    "    smiles_gex_labels = []\n",
    "    smiles_chem_labels = []\n",
    "    chem_embeddings = np.zeros([smiles_wrapper.__len__(), model.embed_size])\n",
    "    \n",
    "    if 'rdkit_features' in config and config['rdkit_features']:\n",
    "        nfeats_chemprop = 2400\n",
    "    else:\n",
    "        nfeats_chemprop = 300\n",
    "    chem_embeddings_chemprop = np.zeros([smiles_wrapper.__len__(), nfeats_chemprop])\n",
    "    # smiles_strings = smiles_wrapper.pert_smiles\n",
    "\n",
    "    model.eval()\n",
    "    with torch.no_grad():\n",
    "        # GE embeds for all of train\n",
    "        for i, batch in enumerate(ge_loader):\n",
    "            gex = batch[0].cuda()\n",
    "            start_ind = i * ge_loader.batch_size\n",
    "            end_ind = start_ind + gex.shape[0]\n",
    "\n",
    "            smiles_gex_labels.extend(batch[1])\n",
    "            gex_embeddings[start_ind:end_ind, :] = model.ge_embed(gex).cpu().numpy()\n",
    "            gex_raw[start_ind:end_ind, :] = gex.cpu().numpy()\n",
    "\n",
    "        # Embeds for all unique chems\n",
    "        for i, batch in enumerate(smiles_loader):\n",
    "            smiles = batch\n",
    "            smiles_chem_labels.extend(batch)\n",
    "            start_ind = i * smiles_loader.batch_size\n",
    "            end_ind = start_ind + len(smiles)\n",
    "            if 'rdkit_features' in config and config['rdkit_features']:\n",
    "                feats = [smiles_to_feats[x] for x in smiles]\n",
    "                chem_embeds = model.chem_linear(model.chemprop_encoder(smiles, feats))\n",
    "                chem_embeds_chemprop = chemprop_model_pretrained(smiles, feats)\n",
    "            else:\n",
    "                chem_embeds = model.chem_linear(model.chemprop_encoder(smiles))\n",
    "                chem_embeds_chemprop = chemprop_model_pretrained(smiles)\n",
    "            chem_embeddings[start_ind:end_ind, :] = chem_embeds.cpu().numpy()\n",
    "            chem_embeddings_chemprop[start_ind:end_ind, :] = chem_embeds_chemprop.cpu().numpy()\n",
    "            \n",
    "    # Embeddings for all chems in train\n",
    "    smile_to_chem = {}\n",
    "    smile_to_chem_cp = {}\n",
    "    for i, smile in enumerate(smiles_chem_labels):\n",
    "        smile_to_chem[smile] = chem_embeddings[i,:]\n",
    "        smile_to_chem_cp[smile] = chem_embeddings_chemprop[i,:]\n",
    "\n",
    "    chem_embeddings_all = []\n",
    "    chem_embeddings_all_chemprop = []\n",
    "    for smile in smiles_gex_labels:\n",
    "        chem_embeddings_all.append(smile_to_chem[smile])\n",
    "        chem_embeddings_all_chemprop.append(smile_to_chem_cp[smile])\n",
    "    chem_embeddings_all = np.stack(chem_embeddings_all)\n",
    "    chem_embeddings_all_chemprop = np.stack(chem_embeddings_all_chemprop)\n",
    "\n",
    "    return gex_raw, gex_embeddings, chem_embeddings_all, chem_embeddings, chem_embeddings_all_chemprop, chem_embeddings_chemprop, np.array(smiles_gex_labels), np.array(smiles_chem_labels)"
   ]
  },
  {
   "cell_type": "code",
   "execution_count": 5,
   "metadata": {},
   "outputs": [
    {
     "data": {
      "text/plain": [
       "((5069, 2934),\n",
       " (5069, 128),\n",
       " (5069, 128),\n",
       " (3370, 128),\n",
       " (5069, 300),\n",
       " (3370, 300),\n",
       " 5069,\n",
       " 3370)"
      ]
     },
     "execution_count": 5,
     "metadata": {},
     "output_type": "execute_result"
    }
   ],
   "source": [
    "gex_raw, gex_embeddings, chem_embeddings, chem_embeddings_unique, chem_embeddings_chemprop, chem_embeddings_unique_chemprop, smiles_gex_labels, smiles_chem_labels = get_embeddings(model, ge_wrapper_val, ge_loader_val, smiles_wrapper_val, smiles_loader_val)\n",
    "gex_raw.shape, gex_embeddings.shape, chem_embeddings.shape, chem_embeddings_unique.shape, chem_embeddings_chemprop.shape, chem_embeddings_unique_chemprop.shape, len(smiles_gex_labels), len(smiles_chem_labels)"
   ]
  },
  {
   "cell_type": "code",
   "execution_count": 6,
   "metadata": {},
   "outputs": [
    {
     "data": {
      "text/plain": [
       "((29548, 2934),\n",
       " (29548, 128),\n",
       " (29548, 128),\n",
       " (6318, 128),\n",
       " (29548, 300),\n",
       " (6318, 300),\n",
       " 29548,\n",
       " 6318)"
      ]
     },
     "execution_count": 6,
     "metadata": {},
     "output_type": "execute_result"
    }
   ],
   "source": [
    "gex_raw_train, gex_embeddings_train, chem_embeddings_train, chem_embeddings_unique_train, chem_embeddings_chemprop_train, chem_embeddings_unique_chemprop_train, smiles_gex_labels_train, smiles_chem_labels_train = get_embeddings(model, ge_wrapper_train, ge_loader_train, smiles_wrapper_train, smiles_loader_train)\n",
    "gex_raw_train.shape, gex_embeddings_train.shape, chem_embeddings_train.shape, chem_embeddings_unique_train.shape , chem_embeddings_chemprop_train.shape, chem_embeddings_unique_chemprop_train.shape, len(smiles_gex_labels_train), len(smiles_chem_labels_train)"
   ]
  },
  {
   "cell_type": "code",
   "execution_count": 7,
   "metadata": {
    "collapsed": true
   },
   "outputs": [],
   "source": [
    "import pandas as pd\n",
    "gex_embeddings_mean_pd = pd.DataFrame(data=gex_embeddings, index = smiles_gex_labels).rename_axis(index=['smiles']).groupby('smiles').mean()\n",
    "chem_embeddings_mean_pd = pd.DataFrame(data=chem_embeddings_unique, index = smiles_chem_labels ).rename_axis(index=['smiles']).groupby('smiles').mean()\n",
    "assert(all(gex_embeddings_mean_pd.index.values == chem_embeddings_mean_pd.index.values))"
   ]
  },
  {
   "cell_type": "markdown",
   "metadata": {},
   "source": [
    "# Distance Computations\n",
    "\n",
    "## Model space"
   ]
  },
  {
   "cell_type": "code",
   "execution_count": 8,
   "metadata": {},
   "outputs": [],
   "source": [
    "from scipy.spatial.distance import cdist"
   ]
  },
  {
   "cell_type": "markdown",
   "metadata": {},
   "source": [
    "## Tanimoto similarity"
   ]
  },
  {
   "cell_type": "code",
   "execution_count": 9,
   "metadata": {
    "collapsed": true
   },
   "outputs": [],
   "source": [
    "from rdkit import DataStructs\n",
    "from rdkit.Chem.Fingerprints import FingerprintMols\n",
    "from rdkit.Chem import MolFromSmiles,AllChem\n"
   ]
  },
  {
   "cell_type": "raw",
   "metadata": {
    "collapsed": true
   },
   "source": [
    "ms = [MolFromSmiles(x) for x in smiles_gex_labels]\n",
    "fps = [FingerprintMols.FingerprintMol(x) for x in ms]\n",
    "\n",
    "inds = np.triu_indices(2248, k=1)\n",
    "tanimoto_dists = [1 - DataStructs.FingerprintSimilarity(fps[inds[0][i]],\n",
    "                                   fps[inds[1][i]])\n",
    " for i in range( len(inds[0]) )\n",
    "]"
   ]
  },
  {
   "cell_type": "code",
   "execution_count": 10,
   "metadata": {},
   "outputs": [
    {
     "data": {
      "text/plain": [
       "((5069, 128), (3370, 128), (29548, 128))"
      ]
     },
     "execution_count": 10,
     "metadata": {},
     "output_type": "execute_result"
    }
   ],
   "source": [
    "ms = [MolFromSmiles(x) for x in smiles_gex_labels]\n",
    "fingerprints = np.stack([AllChem.GetMorganFingerprintAsBitVect(x,radius=2, nBits=128) for x in ms])\n",
    "\n",
    "ms = [MolFromSmiles(x) for x in smiles_chem_labels]\n",
    "fingerprints_unique = np.stack([AllChem.GetMorganFingerprintAsBitVect(x,radius=2, nBits=128) for x in ms])\n",
    "\n",
    "ms_train = [MolFromSmiles(x) for x in smiles_gex_labels_train]\n",
    "fingerprints_train = np.stack([AllChem.GetMorganFingerprintAsBitVect(x,radius=2, nBits=128) for x in ms_train])\n",
    "\n",
    "fingerprints.shape, fingerprints_unique.shape, fingerprints_train.shape"
   ]
  },
  {
   "cell_type": "markdown",
   "metadata": {},
   "source": [
    "## GE similarity "
   ]
  },
  {
   "cell_type": "raw",
   "metadata": {},
   "source": [
    "gex_raw_pd = pd.DataFrame(data=gex_raw[:,-978:], index = smiles_gex_labels).rename_axis(index=['smiles'])\n",
    "gex_raw_train_pd = pd.DataFrame(data=gex_raw_train[:,-978:], index = smiles_gex_labels_train).rename_axis(index=['smiles'])"
   ]
  },
  {
   "cell_type": "raw",
   "metadata": {
    "collapsed": true
   },
   "source": [
    "average_ges = gex_raw_pd.groupby('smiles').mean()\n",
    "ge_dists = cdist(average_ges,average_ges, \"correlation\")[np.triu_indices(2248,k=1)]"
   ]
  },
  {
   "cell_type": "raw",
   "metadata": {},
   "source": [
    "len(tanimoto_dists),len(gex_chem_dists),len(ge_dists)"
   ]
  },
  {
   "cell_type": "markdown",
   "metadata": {},
   "source": [
    "## Correlations of Distances"
   ]
  },
  {
   "cell_type": "raw",
   "metadata": {},
   "source": [
    "(np.corrcoef(tanimoto_dists, ge_dists)[0,1],\n",
    " np.corrcoef(tanimoto_dists, gex_chem_dists)[0,1],\n",
    " np.corrcoef(gex_chem_dists, ge_dists)[0,1])"
   ]
  },
  {
   "cell_type": "raw",
   "metadata": {
    "scrolled": true
   },
   "source": [
    "all_sims = 1 - pd.DataFrame({'Tanimoto':tanimoto_dists,\n",
    "                              'GE':ge_dists,\n",
    "                              'Model':gex_chem_dists\n",
    "                             })\n",
    "all_sims.head(20)"
   ]
  },
  {
   "cell_type": "raw",
   "metadata": {},
   "source": [
    "sns.scatterplot(x=\"Tanimoto\", y=\"GE\",\n",
    "                hue='Model',\n",
    "                data = all_sims.sample(500))"
   ]
  },
  {
   "cell_type": "markdown",
   "metadata": {},
   "source": [
    "## Ranking results"
   ]
  },
  {
   "cell_type": "code",
   "execution_count": 11,
   "metadata": {
    "collapsed": true
   },
   "outputs": [],
   "source": [
    "from scipy.stats.mstats import rankdata\n",
    "import seaborn as sns\n",
    "\n",
    "def get_ind_first_match(smiles_gex_labels, smiles_chem_labels):\n",
    "    inds_first_match = []\n",
    "    for i, sml in enumerate(smiles_gex_labels):\n",
    "        match = np.where(smiles_chem_labels == sml)[0]\n",
    "    rank_first_match = np.array(rank_first_match).squeeze()\n",
    "    inds_first_match = np.array(inds_first_match).squeeze()\n",
    "    return inds_first_match\n",
    "\n",
    "def get_ranks_first_match(gex_chem_ranks, smiles_gex_labels, smiles_chem_labels):\n",
    "    rank_first_match = []\n",
    "    for i, sml in enumerate(smiles_gex_labels):\n",
    "        matches = np.where(smiles_chem_labels == sml)[0]\n",
    "        ranks_matches = gex_chem_ranks[i, matches]\n",
    "        rank_first_match.append(np.min(ranks_matches))\n",
    "    rank_first_match = np.array(rank_first_match).squeeze()\n",
    "    return rank_first_match\n",
    "\n",
    "def prepare_metrics(rank_first_match, indices):\n",
    "    median_rank = np.median(rank_first_match[indices])\n",
    "    mrr = np.mean(1 / rank_first_match[indices])\n",
    "    hits_at_10 = np.mean(\n",
    "        [np.sum(results <= 10) for results in rank_first_match[indices]])  # can change to rank_all_matches\n",
    "    hits_at_100 = np.mean([np.sum(results <= 100) for results in rank_first_match[indices]])\n",
    "    hits_at_500 = np.mean([np.sum(results <= 500) for results in rank_first_match[indices]])\n",
    "    return {#\"total_drugs\": len(set(np.array(smiles_gex_labels)[inds])),\n",
    "            \"median_rank\": median_rank,\n",
    "            \"MRR\": mrr,\n",
    "            \"H@10\": hits_at_10,\n",
    "            \"H@100\": hits_at_100,\n",
    "            \"H@500\": hits_at_500\n",
    "        }\n",
    "\n",
    "def get_val_scores(distmat,\n",
    "                   smiles_gex_labels=smiles_gex_labels,\n",
    "                   smiles_chem_labels=smiles_chem_labels,\n",
    "                   train_smiles = list(set(smiles_chem_labels_train))):\n",
    "\n",
    "    gex_chem_ranks = rankdata(distmat, axis=1)\n",
    "\n",
    "    rank_first_match_all = get_ranks_first_match(gex_chem_ranks, smiles_gex_labels, smiles_chem_labels)\n",
    "\n",
    "    list_of_inds = [[i for i,j in enumerate(smiles_gex_labels)]]\n",
    "    ge_inds_in_train = [i for i, j in enumerate(smiles_gex_labels) if j in train_smiles]\n",
    "    ge_inds_not_in_train = [i for i, j in enumerate(smiles_gex_labels) if j not in train_smiles]\n",
    "    list_of_inds.append(ge_inds_in_train)\n",
    "    list_of_inds.append(ge_inds_not_in_train)\n",
    "\n",
    "    chem_inds_not_in_train = [i for i,j in enumerate(smiles_chem_labels) if j not in train_smiles]\n",
    "\n",
    "    ir_results = []\n",
    "    for inds in list_of_inds:\n",
    "        ir_results.append(prepare_metrics(rank_first_match_all, inds))\n",
    "\n",
    "    ranks_subset = rankdata(gex_chem_ranks[:, chem_inds_not_in_train][ge_inds_not_in_train,:], axis=1)\n",
    "    rank_first_match = get_ranks_first_match(ranks_subset,\n",
    "                                             smiles_gex_labels[ge_inds_not_in_train],\n",
    "                                             smiles_chem_labels[chem_inds_not_in_train])\n",
    "    ir_results.append(prepare_metrics(rank_first_match,\n",
    "                                      [k for k in range(len(ge_inds_not_in_train))]\n",
    "                                      ))\n",
    "    val_print_labels = [\"Val (All):              \", \"Val (In Train):         \",\n",
    "                            \"Val (Not in Train):     \", \"Val (No train, limited):\"]\n",
    "    for i, res_dict in enumerate(ir_results):\n",
    "        print(val_print_labels[i] + \"    \".join(['{}: {:.3f}'.format(k, res_dict[k]) for k in res_dict]))\n",
    "\n",
    "    match_dists = []\n",
    "    nonmatch_dists = []\n",
    "    for i, sml in enumerate(smiles_gex_labels):\n",
    "        match = np.where(smiles_chem_labels == sml)[0]\n",
    "        match_dists.append(distmat[i,match[0]])\n",
    "        nonmatch_dists.extend( list(distmat[i,:match[0]]) + list(distmat[i,match[0]+1:]) )\n",
    "    match_sims = 1-np.array(match_dists)\n",
    "    nonmatch_sims = 1-np.array(nonmatch_dists)\n",
    "    \n",
    "    print(\"Average correlation between matched GE and Chem embeds (CCA):   \", np.mean(match_sims))\n",
    "    print(\"Average correlation between unmatched GE and Chem embeds (CAA): \", np.mean(nonmatch_sims))\n",
    "    print(\"Difference: \", np.mean(match_sims) - np.mean(nonmatch_sims) )\n",
    "    print()\n",
    "    \n",
    "    sns.distplot(match_sims)\n",
    "    sns.distplot(nonmatch_sims)\n",
    "        \n",
    "    return rank_first_match_all, rank_first_match, match_sims, nonmatch_sims\n",
    "\n",
    "from sklearn.cross_decomposition import CCA\n",
    "def cca_cor(ncomp = 50,\n",
    "            embeds_ge_train=gex_embeddings_train, embeds_ge_val=gex_embeddings,\n",
    "            embeds_chem_train=chem_embeddings_train, embeds_chem_val=chem_embeddings,\n",
    "            embeds_chem_uniq_val=chem_embeddings_unique\n",
    "           ):\n",
    "    print(\"CCA w/\", ncomp, \"components\")\n",
    "    cca = CCA(n_components=ncomp, max_iter = 1000)\n",
    "    cca.fit(embeds_ge_train, embeds_chem_train)\n",
    "    cca_gex_val, cca_chem_val = cca.transform(embeds_ge_val, embeds_chem_uniq_val)\n",
    "\n",
    "    print(\"Computing Distances\")\n",
    "    gex_chem_embed_dist_cca = cdist(cca_gex_val, cca_chem_val,  metric='correlation')\n",
    "    ranks_val_all, ranks_val_out, match_sims, nonmatch_sims = get_val_scores(gex_chem_embed_dist_cca)\n",
    "    return ranks_val_all, ranks_val_out, match_sims, nonmatch_sims"
   ]
  },
  {
   "cell_type": "markdown",
   "metadata": {
    "collapsed": true
   },
   "source": [
    "## Compute Results"
   ]
  },
  {
   "cell_type": "code",
   "execution_count": 12,
   "metadata": {},
   "outputs": [
    {
     "data": {
      "text/plain": [
       "((5069, 2934), (5069, 128), (5069, 128), (3370, 128), 5069, 3370)"
      ]
     },
     "execution_count": 12,
     "metadata": {},
     "output_type": "execute_result"
    }
   ],
   "source": [
    "gex_raw.shape, gex_embeddings.shape, chem_embeddings.shape, chem_embeddings_unique.shape, len(smiles_gex_labels), len(smiles_chem_labels)"
   ]
  },
  {
   "cell_type": "code",
   "execution_count": 13,
   "metadata": {},
   "outputs": [
    {
     "name": "stdout",
     "output_type": "stream",
     "text": [
      "Original\n",
      "Val (All):              median_rank: 306.000    MRR: 0.055    H@10: 0.099    H@100: 0.289    H@500: 0.626\n",
      "Val (In Train):         median_rank: 256.000    MRR: 0.065    H@10: 0.117    H@100: 0.325    H@500: 0.677\n",
      "Val (Not in Train):     median_rank: 741.500    MRR: 0.009    H@10: 0.019    H@100: 0.119    H@500: 0.393\n",
      "Val (No train, limited):median_rank: 101.000    MRR: 0.051    H@10: 0.098    H@100: 0.499    H@500: 1.000\n",
      "Average correlation between matched GE and Chem embeds (CCA):    0.722264085781177\n",
      "Average correlation between unmatched GE and Chem embeds (CAA):  0.49819772350297514\n",
      "Difference:  0.2240663622782018\n",
      "\n"
     ]
    },
    {
     "data": {
      "image/png": "[encoded data removed]",
      "text/plain": [
       "<Figure size 432x288 with 1 Axes>"
      ]
     },
     "metadata": {
      "needs_background": "light"
     },
     "output_type": "display_data"
    }
   ],
   "source": [
    "print(\"Original\")\n",
    "gex_chem_baseline_dist = cdist(gex_embeddings, chem_embeddings_unique,  metric='correlation')\n",
    "ranks_val_orig_all, ranks_val_orig_out, simsM_orig_all, simsNM_orig_all = get_val_scores(gex_chem_baseline_dist)"
   ]
  },
  {
   "cell_type": "code",
   "execution_count": null,
   "metadata": {},
   "outputs": [
    {
     "name": "stdout",
     "output_type": "stream",
     "text": [
      "CCA w/ 50 components\n",
      "Computing Distances\n",
      "Val (All):              median_rank: 236.000    MRR: 0.070    H@10: 0.123    H@100: 0.341    H@500: 0.666\n",
      "Val (In Train):         median_rank: 173.000    MRR: 0.083    H@10: 0.145    H@100: 0.389    H@500: 0.735\n",
      "Val (Not in Train):     median_rank: 763.000    MRR: 0.009    H@10: 0.021    H@100: 0.120    H@500: 0.350\n",
      "Val (No train, limited):median_rank: 97.500    MRR: 0.062    H@10: 0.126    H@100: 0.511    H@500: 1.000\n",
      "Average correlation between matched GE and Chem embeds (CCA):    0.36914898841025096\n",
      "Average correlation between unmatched GE and Chem embeds (CAA):  0.02382747893517948\n",
      "Difference:  0.34532150947507145\n",
      "\n"
     ]
    },
    {
     "data": {
      "image/png": "[encoded data removed]",
      "text/plain": [
       "<Figure size 432x288 with 1 Axes>"
      ]
     },
     "metadata": {
      "needs_background": "light"
     },
     "output_type": "display_data"
    }
   ],
   "source": [
    "ranks_val_cca_all, ranks_val_cca_out, simsM_cca_all, simsNM_cca_all = cca_cor()"
   ]
  },
  {
   "cell_type": "code",
   "execution_count": null,
   "metadata": {},
   "outputs": [
    {
     "name": "stdout",
     "output_type": "stream",
     "text": [
      "CCA w/ 50 components\n",
      "Computing Distances\n",
      "Val (All):              median_rank: 697.000    MRR: 0.035    H@10: 0.062    H@100: 0.199    H@500: 0.432\n",
      "Val (In Train):         median_rank: 563.000    MRR: 0.042    H@10: 0.072    H@100: 0.227    H@500: 0.477\n",
      "Val (Not in Train):     median_rank: 1277.500    MRR: 0.007    H@10: 0.015    H@100: 0.070    H@500: 0.225\n",
      "Val (No train, limited):median_rank: 129.500    MRR: 0.036    H@10: 0.062    H@100: 0.416    H@500: 1.000\n",
      "Average correlation between matched GE and Chem embeds (CCA):    0.15494657136567652\n",
      "Average correlation between unmatched GE and Chem embeds (CAA):  0.004919937262940322\n",
      "Difference:  0.1500266341027362\n",
      "\n"
     ]
    },
    {
     "data": {
      "image/png": "[encoded data removed]",
      "text/plain": [
       "<Figure size 432x288 with 1 Axes>"
      ]
     },
     "metadata": {
      "needs_background": "light"
     },
     "output_type": "display_data"
    }
   ],
   "source": [
    "ranks_val_geEmbed_fps_all, ranks_val_geEmbed_fps_out, simsM_geEmbed_fps_all, simsNM_geEmbed_fps_all = cca_cor(ncomp = 50,\n",
    "                                                                                                              embeds_chem_train=fingerprints_train,\n",
    "                                                                                                              embeds_chem_val=fingerprints,\n",
    "                                                                                                              embeds_chem_uniq_val=fingerprints_unique)"
   ]
  },
  {
   "cell_type": "code",
   "execution_count": null,
   "metadata": {},
   "outputs": [
    {
     "name": "stdout",
     "output_type": "stream",
     "text": [
      "CCA w/ 50 components\n",
      "Computing Distances\n",
      "Val (All):              median_rank: 426.000    MRR: 0.051    H@10: 0.091    H@100: 0.263    H@500: 0.533\n",
      "Val (In Train):         median_rank: 336.000    MRR: 0.061    H@10: 0.106    H@100: 0.296    H@500: 0.581\n",
      "Val (Not in Train):     median_rank: 936.500    MRR: 0.008    H@10: 0.018    H@100: 0.108    H@500: 0.313\n",
      "Val (No train, limited):median_rank: 102.000    MRR: 0.056    H@10: 0.095    H@100: 0.497    H@500: 1.000\n",
      "Average correlation between matched GE and Chem embeds (CCA):    0.21527024090458288\n",
      "Average correlation between unmatched GE and Chem embeds (CAA):  0.010293403903998842\n",
      "Difference:  0.20497683700058403\n",
      "\n"
     ]
    },
    {
     "data": {
      "image/png": "[encoded data removed]",
      "text/plain": [
       "<Figure size 432x288 with 1 Axes>"
      ]
     },
     "metadata": {
      "needs_background": "light"
     },
     "output_type": "display_data"
    }
   ],
   "source": [
    "ranks_val_geEmbed_chemprop_all, ranks_val_geEmbed_chemprop_out, simsM_geEmbed_chemprop_all, simsNM_geEmbed_chemprop_all = cca_cor(ncomp = 50,\n",
    "                                                                                                                                  embeds_chem_train=chem_embeddings_chemprop_train,\n",
    "                                                                                                                                  embeds_chem_val=chem_embeddings_chemprop,\n",
    "                                                                                                                                  embeds_chem_uniq_val=chem_embeddings_unique_chemprop\n",
    "                                                                                                                         )"
   ]
  },
  {
   "cell_type": "code",
   "execution_count": null,
   "metadata": {},
   "outputs": [
    {
     "name": "stdout",
     "output_type": "stream",
     "text": [
      "CCA w/ 50 components\n",
      "Computing Distances\n",
      "Val (All):              median_rank: 1057.000    MRR: 0.037    H@10: 0.063    H@100: 0.156    H@500: 0.332\n",
      "Val (In Train):         median_rank: 988.000    MRR: 0.044    H@10: 0.074    H@100: 0.174    H@500: 0.352\n",
      "Val (Not in Train):     median_rank: 1354.500    MRR: 0.005    H@10: 0.011    H@100: 0.073    H@500: 0.242\n",
      "Val (No train, limited):median_rank: 132.000    MRR: 0.036    H@10: 0.064    H@100: 0.405    H@500: 1.000\n",
      "Average correlation between matched GE and Chem embeds (CCA):    0.10011115315308912\n",
      "Average correlation between unmatched GE and Chem embeds (CAA):  0.0006447654598360155\n",
      "Difference:  0.0994663876932531\n",
      "\n"
     ]
    },
    {
     "data": {
      "image/png": "[encoded data removed]",
      "text/plain": [
       "<Figure size 432x288 with 1 Axes>"
      ]
     },
     "metadata": {
      "needs_background": "light"
     },
     "output_type": "display_data"
    }
   ],
   "source": [
    "ranks_val_rawGE_fps_all, ranks_val_rawGE_fps_out, simsM_rawGE_fps_all, simsNM_rawGE_fps_all = cca_cor(ncomp = 50,\n",
    "                                                           embeds_ge_train=gex_raw_train[:,-978:],\n",
    "                                                           embeds_chem_train=fingerprints_train,\n",
    "                                                           embeds_ge_val=gex_raw[:,-978:],\n",
    "                                                           embeds_chem_val=fingerprints,\n",
    "                                                           embeds_chem_uniq_val=fingerprints_unique)"
   ]
  },
  {
   "cell_type": "code",
   "execution_count": null,
   "metadata": {},
   "outputs": [
    {
     "name": "stdout",
     "output_type": "stream",
     "text": [
      "CCA w/ 50 components\n",
      "Computing Distances\n",
      "Val (All):              median_rank: 867.000    MRR: 0.048    H@10: 0.080    H@100: 0.196    H@500: 0.383\n",
      "Val (In Train):         median_rank: 809.000    MRR: 0.056    H@10: 0.092    H@100: 0.216    H@500: 0.402\n",
      "Val (Not in Train):     median_rank: 1059.500    MRR: 0.010    H@10: 0.024    H@100: 0.108    H@500: 0.291\n",
      "Val (No train, limited):median_rank: 113.500    MRR: 0.055    H@10: 0.097    H@100: 0.454    H@500: 1.000\n",
      "Average correlation between matched GE and Chem embeds (CCA):    0.1329905157495978\n",
      "Average correlation between unmatched GE and Chem embeds (CAA):  0.0019280603566057786\n",
      "Difference:  0.13106245539299202\n",
      "\n"
     ]
    },
    {
     "data": {
      "image/png": "[encoded data removed]",
      "text/plain": [
       "<Figure size 432x288 with 1 Axes>"
      ]
     },
     "metadata": {
      "needs_background": "light"
     },
     "output_type": "display_data"
    }
   ],
   "source": [
    "ranks_val_rawGE_chemprop_all, ranks_val_rawGE_chemprop_out, simsM_rawGE_chemprop_all, simsNM_rawGE_chemprop_all = cca_cor(ncomp = 50,\n",
    "                                                                                                                          embeds_ge_train=gex_raw_train[:,-978:],\n",
    "                                                                                                                          embeds_ge_val=gex_raw[:,-978:],\n",
    "                                                                                                                          embeds_chem_train=chem_embeddings_chemprop_train,\n",
    "                                                                                                                          embeds_chem_val=chem_embeddings_chemprop,\n",
    "                                                                                                                          embeds_chem_uniq_val=chem_embeddings_unique_chemprop\n",
    "                                                                                                                         )"
   ]
  },
  {
   "cell_type": "code",
   "execution_count": null,
   "metadata": {
    "scrolled": true
   },
   "outputs": [
    {
     "name": "stdout",
     "output_type": "stream",
     "text": [
      "CCA w/ 50 components\n"
     ]
    }
   ],
   "source": [
    "ranks_val_rawGE_chemEmbed_all, ranks_val_rawGE_chemEmbed_out, simsM_rawGE_chemEmbed_all, simsNM_rawGE_chemEmbed_all = cca_cor(ncomp = 50,\n",
    "                                                                       embeds_ge_train=gex_raw_train[:,-978:],\n",
    "                                                                       embeds_ge_val=gex_raw[:,-978:])"
   ]
  },
  {
   "cell_type": "markdown",
   "metadata": {},
   "source": [
    "## Plots"
   ]
  },
  {
   "cell_type": "code",
   "execution_count": null,
   "metadata": {
    "collapsed": true
   },
   "outputs": [],
   "source": [
    "import matplotlib.pyplot as plt\n",
    "fig = plt.figure(figsize=(10,6))\n",
    "sns.kdeplot(ranks_val_rawGE_fps_all, cumulative=True, label = 'rawGE_fps')\n",
    "sns.kdeplot(ranks_val_rawGE_chemprop_all, cumulative=True, label = 'rawGE_PT')\n",
    "sns.kdeplot(ranks_val_rawGE_chemEmbed_all, cumulative=True, label = 'rawGE_margin')\n",
    "sns.kdeplot(ranks_val_geEmbed_fps_all, cumulative=True, label = \"margin_fps\")\n",
    "sns.kdeplot(ranks_val_geEmbed_chemprop_all, cumulative=True, label = \"margin_PT\")\n",
    "sns.kdeplot(ranks_val_cca_all, cumulative=True, label = \"margin_margin_CCA\")\n",
    "sns.kdeplot(ranks_val_orig_all, cumulative=True, label = \"margin_margin_noCCA\")\n",
    "plt.show()\n",
    "\n",
    "import matplotlib.pyplot as plt\n",
    "fig = plt.figure(figsize=(10,6))\n",
    "sns.kdeplot(ranks_val_rawGE_fps_out, cumulative=True, label = 'rawGE_fps')\n",
    "sns.kdeplot(ranks_val_rawGE_chemprop_out, cumulative=True, label = 'rawGE_PT')\n",
    "sns.kdeplot(ranks_val_rawGE_chemEmbed_out, cumulative=True, label = 'rawGE_margin')\n",
    "sns.kdeplot(ranks_val_geEmbed_fps_out, cumulative=True, label = \"margin_fps\")\n",
    "sns.kdeplot(ranks_val_geEmbed_chemprop_out, cumulative=True, label = \"margin_PT\")\n",
    "sns.kdeplot(ranks_val_cca_out, cumulative=True, label = \"margin_margin_CCA\")\n",
    "sns.kdeplot(ranks_val_orig_out, cumulative=True, label = \"margin_margin_noCCA\")\n",
    "plt.show()"
   ]
  },
  {
   "cell_type": "code",
   "execution_count": null,
   "metadata": {
    "collapsed": true
   },
   "outputs": [],
   "source": []
  }
 ],
 "metadata": {
  "kernelspec": {
   "display_name": "Python 3 (siamese)",
   "language": "python",
   "name": "siamese"
  },
  "language_info": {
   "codemirror_mode": {
    "name": "ipython",
    "version": 3
   },
   "file_extension": ".py",
   "mimetype": "text/x-python",
   "name": "python",
   "nbconvert_exporter": "python",
   "pygments_lexer": "ipython3",
   "version": "3.7.3"
  }
 },
 "nbformat": 4,
 "nbformat_minor": 2
}
