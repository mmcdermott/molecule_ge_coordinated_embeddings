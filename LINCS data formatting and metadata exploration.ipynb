{
 "cells": [
  {
   "cell_type": "code",
   "execution_count": 3,
   "metadata": {
    "collapsed": true
   },
   "outputs": [],
   "source": [
    "import pandas as pd\n",
    "level3_all = pd.read_pickle(\"/home/sgf2/DBMI_server/repo/mdeg_collab/data/lincs_level3_all_perts.pkl\")"
   ]
  },
  {
   "cell_type": "code",
   "execution_count": 6,
   "metadata": {},
   "outputs": [
    {
     "data": {
      "text/html": [
       "<div>\n",
       "<style scoped>\n",
       "    .dataframe tbody tr th:only-of-type {\n",
       "        vertical-align: middle;\n",
       "    }\n",
       "\n",
       "    .dataframe tbody tr th {\n",
       "        vertical-align: top;\n",
       "    }\n",
       "\n",
       "    .dataframe thead tr th {\n",
       "        text-align: left;\n",
       "    }\n",
       "\n",
       "    .dataframe thead tr:last-of-type th {\n",
       "        text-align: right;\n",
       "    }\n",
       "</style>\n",
       "<table border=\"1\" class=\"dataframe\">\n",
       "  <thead>\n",
       "    <tr>\n",
       "      <th></th>\n",
       "      <th></th>\n",
       "      <th></th>\n",
       "      <th></th>\n",
       "      <th></th>\n",
       "      <th></th>\n",
       "      <th></th>\n",
       "      <th></th>\n",
       "      <th></th>\n",
       "      <th></th>\n",
       "      <th>pr_gene_id</th>\n",
       "      <th>16</th>\n",
       "      <th>23</th>\n",
       "      <th>25</th>\n",
       "      <th>30</th>\n",
       "      <th>39</th>\n",
       "      <th>47</th>\n",
       "      <th>102</th>\n",
       "      <th>128</th>\n",
       "      <th>142</th>\n",
       "      <th>154</th>\n",
       "      <th>...</th>\n",
       "      <th>94239</th>\n",
       "      <th>116832</th>\n",
       "      <th>124583</th>\n",
       "      <th>147179</th>\n",
       "      <th>148022</th>\n",
       "      <th>200081</th>\n",
       "      <th>200734</th>\n",
       "      <th>256364</th>\n",
       "      <th>375346</th>\n",
       "      <th>388650</th>\n",
       "    </tr>\n",
       "    <tr>\n",
       "      <th></th>\n",
       "      <th></th>\n",
       "      <th></th>\n",
       "      <th></th>\n",
       "      <th></th>\n",
       "      <th></th>\n",
       "      <th></th>\n",
       "      <th></th>\n",
       "      <th></th>\n",
       "      <th></th>\n",
       "      <th>pr_gene_symbol</th>\n",
       "      <th>AARS</th>\n",
       "      <th>ABCF1</th>\n",
       "      <th>ABL1</th>\n",
       "      <th>ACAA1</th>\n",
       "      <th>ACAT2</th>\n",
       "      <th>ACLY</th>\n",
       "      <th>ADAM10</th>\n",
       "      <th>ADH5</th>\n",
       "      <th>PARP1</th>\n",
       "      <th>ADRB2</th>\n",
       "      <th>...</th>\n",
       "      <th>H2AFV</th>\n",
       "      <th>RPL39L</th>\n",
       "      <th>CANT1</th>\n",
       "      <th>WIPF2</th>\n",
       "      <th>TICAM1</th>\n",
       "      <th>TXLNA</th>\n",
       "      <th>SPRED2</th>\n",
       "      <th>EML3</th>\n",
       "      <th>TMEM110</th>\n",
       "      <th>FAM69A</th>\n",
       "    </tr>\n",
       "    <tr>\n",
       "      <th>cell_id</th>\n",
       "      <th>cell_type</th>\n",
       "      <th>primary_site</th>\n",
       "      <th>subtype</th>\n",
       "      <th>pert_id</th>\n",
       "      <th>pert_name</th>\n",
       "      <th>pert_type</th>\n",
       "      <th>plate</th>\n",
       "      <th>canonical_smiles</th>\n",
       "      <th>pert_dose</th>\n",
       "      <th>pert_time</th>\n",
       "      <th></th>\n",
       "      <th></th>\n",
       "      <th></th>\n",
       "      <th></th>\n",
       "      <th></th>\n",
       "      <th></th>\n",
       "      <th></th>\n",
       "      <th></th>\n",
       "      <th></th>\n",
       "      <th></th>\n",
       "      <th></th>\n",
       "      <th></th>\n",
       "      <th></th>\n",
       "      <th></th>\n",
       "      <th></th>\n",
       "      <th></th>\n",
       "      <th></th>\n",
       "      <th></th>\n",
       "      <th></th>\n",
       "      <th></th>\n",
       "      <th></th>\n",
       "    </tr>\n",
       "  </thead>\n",
       "  <tbody>\n",
       "    <tr>\n",
       "      <th rowspan=\"5\" valign=\"top\">A375</th>\n",
       "      <th rowspan=\"5\" valign=\"top\">cell line</th>\n",
       "      <th rowspan=\"5\" valign=\"top\">skin</th>\n",
       "      <th rowspan=\"5\" valign=\"top\">malignant melanoma</th>\n",
       "      <th rowspan=\"4\" valign=\"top\">DMSO</th>\n",
       "      <th rowspan=\"4\" valign=\"top\">DMSO</th>\n",
       "      <th rowspan=\"4\" valign=\"top\">ctl_vehicle</th>\n",
       "      <th rowspan=\"4\" valign=\"top\">REP.A001_A375_24H_X1_B22</th>\n",
       "      <th rowspan=\"4\" valign=\"top\">CS(=O)C</th>\n",
       "      <th rowspan=\"4\" valign=\"top\">-666@-666.0</th>\n",
       "      <th>24.0</th>\n",
       "      <td>10.7893</td>\n",
       "      <td>9.8857</td>\n",
       "      <td>9.3293</td>\n",
       "      <td>6.0230</td>\n",
       "      <td>7.8209</td>\n",
       "      <td>10.4491</td>\n",
       "      <td>10.5991</td>\n",
       "      <td>9.4355</td>\n",
       "      <td>10.1277</td>\n",
       "      <td>5.9348</td>\n",
       "      <td>...</td>\n",
       "      <td>9.7085</td>\n",
       "      <td>4.8880</td>\n",
       "      <td>9.8359</td>\n",
       "      <td>9.5409</td>\n",
       "      <td>6.0000</td>\n",
       "      <td>11.8947</td>\n",
       "      <td>9.8583</td>\n",
       "      <td>8.1926</td>\n",
       "      <td>5.4136</td>\n",
       "      <td>5.9672</td>\n",
       "    </tr>\n",
       "    <tr>\n",
       "      <th>24.0</th>\n",
       "      <td>10.3993</td>\n",
       "      <td>9.7710</td>\n",
       "      <td>9.3663</td>\n",
       "      <td>5.9442</td>\n",
       "      <td>7.9559</td>\n",
       "      <td>10.6656</td>\n",
       "      <td>10.4789</td>\n",
       "      <td>9.7882</td>\n",
       "      <td>10.3993</td>\n",
       "      <td>10.3339</td>\n",
       "      <td>...</td>\n",
       "      <td>6.1121</td>\n",
       "      <td>4.8660</td>\n",
       "      <td>9.6679</td>\n",
       "      <td>9.2712</td>\n",
       "      <td>6.4131</td>\n",
       "      <td>12.0097</td>\n",
       "      <td>9.9597</td>\n",
       "      <td>8.3573</td>\n",
       "      <td>5.4500</td>\n",
       "      <td>5.3760</td>\n",
       "    </tr>\n",
       "    <tr>\n",
       "      <th>24.0</th>\n",
       "      <td>10.1665</td>\n",
       "      <td>10.0645</td>\n",
       "      <td>9.1392</td>\n",
       "      <td>6.2806</td>\n",
       "      <td>8.2582</td>\n",
       "      <td>10.3480</td>\n",
       "      <td>10.3037</td>\n",
       "      <td>9.4933</td>\n",
       "      <td>10.3688</td>\n",
       "      <td>5.1964</td>\n",
       "      <td>...</td>\n",
       "      <td>6.6165</td>\n",
       "      <td>4.7765</td>\n",
       "      <td>9.7054</td>\n",
       "      <td>9.0601</td>\n",
       "      <td>6.2436</td>\n",
       "      <td>12.1321</td>\n",
       "      <td>10.3788</td>\n",
       "      <td>8.1376</td>\n",
       "      <td>5.4707</td>\n",
       "      <td>8.8232</td>\n",
       "    </tr>\n",
       "    <tr>\n",
       "      <th>24.0</th>\n",
       "      <td>10.4328</td>\n",
       "      <td>9.8359</td>\n",
       "      <td>9.1712</td>\n",
       "      <td>5.7915</td>\n",
       "      <td>8.0803</td>\n",
       "      <td>10.4928</td>\n",
       "      <td>10.5786</td>\n",
       "      <td>9.5042</td>\n",
       "      <td>10.4035</td>\n",
       "      <td>10.3258</td>\n",
       "      <td>...</td>\n",
       "      <td>7.0746</td>\n",
       "      <td>4.7639</td>\n",
       "      <td>9.4394</td>\n",
       "      <td>9.8768</td>\n",
       "      <td>6.4380</td>\n",
       "      <td>11.9876</td>\n",
       "      <td>10.1042</td>\n",
       "      <td>8.0889</td>\n",
       "      <td>5.4556</td>\n",
       "      <td>8.5844</td>\n",
       "    </tr>\n",
       "    <tr>\n",
       "      <th>BRD-K25114078</th>\n",
       "      <th>aminoguanidine</th>\n",
       "      <th>trt_cp</th>\n",
       "      <th>REP.A001_A375_24H_X1_B22</th>\n",
       "      <th>NNC(N)=N</th>\n",
       "      <th>um@10.0</th>\n",
       "      <th>24.0</th>\n",
       "      <td>10.4366</td>\n",
       "      <td>10.1806</td>\n",
       "      <td>9.4701</td>\n",
       "      <td>5.8525</td>\n",
       "      <td>8.1138</td>\n",
       "      <td>10.1322</td>\n",
       "      <td>10.4569</td>\n",
       "      <td>9.6226</td>\n",
       "      <td>10.3339</td>\n",
       "      <td>10.3108</td>\n",
       "      <td>...</td>\n",
       "      <td>6.6216</td>\n",
       "      <td>4.9988</td>\n",
       "      <td>9.7912</td>\n",
       "      <td>9.7627</td>\n",
       "      <td>6.1650</td>\n",
       "      <td>12.0097</td>\n",
       "      <td>10.1322</td>\n",
       "      <td>8.3157</td>\n",
       "      <td>5.2090</td>\n",
       "      <td>5.8857</td>\n",
       "    </tr>\n",
       "  </tbody>\n",
       "</table>\n",
       "<p>5 rows × 978 columns</p>\n",
       "</div>"
      ],
      "text/plain": [
       "pr_gene_id                                                                                                                                                   16      \\\n",
       "pr_gene_symbol                                                                                                                                                 AARS   \n",
       "cell_id cell_type primary_site subtype            pert_id       pert_name      pert_type   plate                    canonical_smiles pert_dose   pert_time            \n",
       "A375    cell line skin         malignant melanoma DMSO          DMSO           ctl_vehicle REP.A001_A375_24H_X1_B22 CS(=O)C          -666@-666.0 24.0       10.7893   \n",
       "                                                                                                                                                 24.0       10.3993   \n",
       "                                                                                                                                                 24.0       10.1665   \n",
       "                                                                                                                                                 24.0       10.4328   \n",
       "                                                  BRD-K25114078 aminoguanidine trt_cp      REP.A001_A375_24H_X1_B22 NNC(N)=N         um@10.0     24.0       10.4366   \n",
       "\n",
       "pr_gene_id                                                                                                                                                   23      \\\n",
       "pr_gene_symbol                                                                                                                                                ABCF1   \n",
       "cell_id cell_type primary_site subtype            pert_id       pert_name      pert_type   plate                    canonical_smiles pert_dose   pert_time            \n",
       "A375    cell line skin         malignant melanoma DMSO          DMSO           ctl_vehicle REP.A001_A375_24H_X1_B22 CS(=O)C          -666@-666.0 24.0        9.8857   \n",
       "                                                                                                                                                 24.0        9.7710   \n",
       "                                                                                                                                                 24.0       10.0645   \n",
       "                                                                                                                                                 24.0        9.8359   \n",
       "                                                  BRD-K25114078 aminoguanidine trt_cp      REP.A001_A375_24H_X1_B22 NNC(N)=N         um@10.0     24.0       10.1806   \n",
       "\n",
       "pr_gene_id                                                                                                                                                  25      \\\n",
       "pr_gene_symbol                                                                                                                                                ABL1   \n",
       "cell_id cell_type primary_site subtype            pert_id       pert_name      pert_type   plate                    canonical_smiles pert_dose   pert_time           \n",
       "A375    cell line skin         malignant melanoma DMSO          DMSO           ctl_vehicle REP.A001_A375_24H_X1_B22 CS(=O)C          -666@-666.0 24.0       9.3293   \n",
       "                                                                                                                                                 24.0       9.3663   \n",
       "                                                                                                                                                 24.0       9.1392   \n",
       "                                                                                                                                                 24.0       9.1712   \n",
       "                                                  BRD-K25114078 aminoguanidine trt_cp      REP.A001_A375_24H_X1_B22 NNC(N)=N         um@10.0     24.0       9.4701   \n",
       "\n",
       "pr_gene_id                                                                                                                                                  30      \\\n",
       "pr_gene_symbol                                                                                                                                               ACAA1   \n",
       "cell_id cell_type primary_site subtype            pert_id       pert_name      pert_type   plate                    canonical_smiles pert_dose   pert_time           \n",
       "A375    cell line skin         malignant melanoma DMSO          DMSO           ctl_vehicle REP.A001_A375_24H_X1_B22 CS(=O)C          -666@-666.0 24.0       6.0230   \n",
       "                                                                                                                                                 24.0       5.9442   \n",
       "                                                                                                                                                 24.0       6.2806   \n",
       "                                                                                                                                                 24.0       5.7915   \n",
       "                                                  BRD-K25114078 aminoguanidine trt_cp      REP.A001_A375_24H_X1_B22 NNC(N)=N         um@10.0     24.0       5.8525   \n",
       "\n",
       "pr_gene_id                                                                                                                                                  39      \\\n",
       "pr_gene_symbol                                                                                                                                               ACAT2   \n",
       "cell_id cell_type primary_site subtype            pert_id       pert_name      pert_type   plate                    canonical_smiles pert_dose   pert_time           \n",
       "A375    cell line skin         malignant melanoma DMSO          DMSO           ctl_vehicle REP.A001_A375_24H_X1_B22 CS(=O)C          -666@-666.0 24.0       7.8209   \n",
       "                                                                                                                                                 24.0       7.9559   \n",
       "                                                                                                                                                 24.0       8.2582   \n",
       "                                                                                                                                                 24.0       8.0803   \n",
       "                                                  BRD-K25114078 aminoguanidine trt_cp      REP.A001_A375_24H_X1_B22 NNC(N)=N         um@10.0     24.0       8.1138   \n",
       "\n",
       "pr_gene_id                                                                                                                                                   47      \\\n",
       "pr_gene_symbol                                                                                                                                                 ACLY   \n",
       "cell_id cell_type primary_site subtype            pert_id       pert_name      pert_type   plate                    canonical_smiles pert_dose   pert_time            \n",
       "A375    cell line skin         malignant melanoma DMSO          DMSO           ctl_vehicle REP.A001_A375_24H_X1_B22 CS(=O)C          -666@-666.0 24.0       10.4491   \n",
       "                                                                                                                                                 24.0       10.6656   \n",
       "                                                                                                                                                 24.0       10.3480   \n",
       "                                                                                                                                                 24.0       10.4928   \n",
       "                                                  BRD-K25114078 aminoguanidine trt_cp      REP.A001_A375_24H_X1_B22 NNC(N)=N         um@10.0     24.0       10.1322   \n",
       "\n",
       "pr_gene_id                                                                                                                                                   102     \\\n",
       "pr_gene_symbol                                                                                                                                               ADAM10   \n",
       "cell_id cell_type primary_site subtype            pert_id       pert_name      pert_type   plate                    canonical_smiles pert_dose   pert_time            \n",
       "A375    cell line skin         malignant melanoma DMSO          DMSO           ctl_vehicle REP.A001_A375_24H_X1_B22 CS(=O)C          -666@-666.0 24.0       10.5991   \n",
       "                                                                                                                                                 24.0       10.4789   \n",
       "                                                                                                                                                 24.0       10.3037   \n",
       "                                                                                                                                                 24.0       10.5786   \n",
       "                                                  BRD-K25114078 aminoguanidine trt_cp      REP.A001_A375_24H_X1_B22 NNC(N)=N         um@10.0     24.0       10.4569   \n",
       "\n",
       "pr_gene_id                                                                                                                                                  128     \\\n",
       "pr_gene_symbol                                                                                                                                                ADH5   \n",
       "cell_id cell_type primary_site subtype            pert_id       pert_name      pert_type   plate                    canonical_smiles pert_dose   pert_time           \n",
       "A375    cell line skin         malignant melanoma DMSO          DMSO           ctl_vehicle REP.A001_A375_24H_X1_B22 CS(=O)C          -666@-666.0 24.0       9.4355   \n",
       "                                                                                                                                                 24.0       9.7882   \n",
       "                                                                                                                                                 24.0       9.4933   \n",
       "                                                                                                                                                 24.0       9.5042   \n",
       "                                                  BRD-K25114078 aminoguanidine trt_cp      REP.A001_A375_24H_X1_B22 NNC(N)=N         um@10.0     24.0       9.6226   \n",
       "\n",
       "pr_gene_id                                                                                                                                                   142     \\\n",
       "pr_gene_symbol                                                                                                                                                PARP1   \n",
       "cell_id cell_type primary_site subtype            pert_id       pert_name      pert_type   plate                    canonical_smiles pert_dose   pert_time            \n",
       "A375    cell line skin         malignant melanoma DMSO          DMSO           ctl_vehicle REP.A001_A375_24H_X1_B22 CS(=O)C          -666@-666.0 24.0       10.1277   \n",
       "                                                                                                                                                 24.0       10.3993   \n",
       "                                                                                                                                                 24.0       10.3688   \n",
       "                                                                                                                                                 24.0       10.4035   \n",
       "                                                  BRD-K25114078 aminoguanidine trt_cp      REP.A001_A375_24H_X1_B22 NNC(N)=N         um@10.0     24.0       10.3339   \n",
       "\n",
       "pr_gene_id                                                                                                                                                   154     \\\n",
       "pr_gene_symbol                                                                                                                                                ADRB2   \n",
       "cell_id cell_type primary_site subtype            pert_id       pert_name      pert_type   plate                    canonical_smiles pert_dose   pert_time            \n",
       "A375    cell line skin         malignant melanoma DMSO          DMSO           ctl_vehicle REP.A001_A375_24H_X1_B22 CS(=O)C          -666@-666.0 24.0        5.9348   \n",
       "                                                                                                                                                 24.0       10.3339   \n",
       "                                                                                                                                                 24.0        5.1964   \n",
       "                                                                                                                                                 24.0       10.3258   \n",
       "                                                  BRD-K25114078 aminoguanidine trt_cp      REP.A001_A375_24H_X1_B22 NNC(N)=N         um@10.0     24.0       10.3108   \n",
       "\n",
       "pr_gene_id                                                                                                                                                  ...  \\\n",
       "pr_gene_symbol                                                                                                                                              ...   \n",
       "cell_id cell_type primary_site subtype            pert_id       pert_name      pert_type   plate                    canonical_smiles pert_dose   pert_time  ...   \n",
       "A375    cell line skin         malignant melanoma DMSO          DMSO           ctl_vehicle REP.A001_A375_24H_X1_B22 CS(=O)C          -666@-666.0 24.0       ...   \n",
       "                                                                                                                                                 24.0       ...   \n",
       "                                                                                                                                                 24.0       ...   \n",
       "                                                                                                                                                 24.0       ...   \n",
       "                                                  BRD-K25114078 aminoguanidine trt_cp      REP.A001_A375_24H_X1_B22 NNC(N)=N         um@10.0     24.0       ...   \n",
       "\n",
       "pr_gene_id                                                                                                                                                  94239   \\\n",
       "pr_gene_symbol                                                                                                                                               H2AFV   \n",
       "cell_id cell_type primary_site subtype            pert_id       pert_name      pert_type   plate                    canonical_smiles pert_dose   pert_time           \n",
       "A375    cell line skin         malignant melanoma DMSO          DMSO           ctl_vehicle REP.A001_A375_24H_X1_B22 CS(=O)C          -666@-666.0 24.0       9.7085   \n",
       "                                                                                                                                                 24.0       6.1121   \n",
       "                                                                                                                                                 24.0       6.6165   \n",
       "                                                                                                                                                 24.0       7.0746   \n",
       "                                                  BRD-K25114078 aminoguanidine trt_cp      REP.A001_A375_24H_X1_B22 NNC(N)=N         um@10.0     24.0       6.6216   \n",
       "\n",
       "pr_gene_id                                                                                                                                                  116832  \\\n",
       "pr_gene_symbol                                                                                                                                              RPL39L   \n",
       "cell_id cell_type primary_site subtype            pert_id       pert_name      pert_type   plate                    canonical_smiles pert_dose   pert_time           \n",
       "A375    cell line skin         malignant melanoma DMSO          DMSO           ctl_vehicle REP.A001_A375_24H_X1_B22 CS(=O)C          -666@-666.0 24.0       4.8880   \n",
       "                                                                                                                                                 24.0       4.8660   \n",
       "                                                                                                                                                 24.0       4.7765   \n",
       "                                                                                                                                                 24.0       4.7639   \n",
       "                                                  BRD-K25114078 aminoguanidine trt_cp      REP.A001_A375_24H_X1_B22 NNC(N)=N         um@10.0     24.0       4.9988   \n",
       "\n",
       "pr_gene_id                                                                                                                                                  124583  \\\n",
       "pr_gene_symbol                                                                                                                                               CANT1   \n",
       "cell_id cell_type primary_site subtype            pert_id       pert_name      pert_type   plate                    canonical_smiles pert_dose   pert_time           \n",
       "A375    cell line skin         malignant melanoma DMSO          DMSO           ctl_vehicle REP.A001_A375_24H_X1_B22 CS(=O)C          -666@-666.0 24.0       9.8359   \n",
       "                                                                                                                                                 24.0       9.6679   \n",
       "                                                                                                                                                 24.0       9.7054   \n",
       "                                                                                                                                                 24.0       9.4394   \n",
       "                                                  BRD-K25114078 aminoguanidine trt_cp      REP.A001_A375_24H_X1_B22 NNC(N)=N         um@10.0     24.0       9.7912   \n",
       "\n",
       "pr_gene_id                                                                                                                                                  147179  \\\n",
       "pr_gene_symbol                                                                                                                                               WIPF2   \n",
       "cell_id cell_type primary_site subtype            pert_id       pert_name      pert_type   plate                    canonical_smiles pert_dose   pert_time           \n",
       "A375    cell line skin         malignant melanoma DMSO          DMSO           ctl_vehicle REP.A001_A375_24H_X1_B22 CS(=O)C          -666@-666.0 24.0       9.5409   \n",
       "                                                                                                                                                 24.0       9.2712   \n",
       "                                                                                                                                                 24.0       9.0601   \n",
       "                                                                                                                                                 24.0       9.8768   \n",
       "                                                  BRD-K25114078 aminoguanidine trt_cp      REP.A001_A375_24H_X1_B22 NNC(N)=N         um@10.0     24.0       9.7627   \n",
       "\n",
       "pr_gene_id                                                                                                                                                  148022  \\\n",
       "pr_gene_symbol                                                                                                                                              TICAM1   \n",
       "cell_id cell_type primary_site subtype            pert_id       pert_name      pert_type   plate                    canonical_smiles pert_dose   pert_time           \n",
       "A375    cell line skin         malignant melanoma DMSO          DMSO           ctl_vehicle REP.A001_A375_24H_X1_B22 CS(=O)C          -666@-666.0 24.0       6.0000   \n",
       "                                                                                                                                                 24.0       6.4131   \n",
       "                                                                                                                                                 24.0       6.2436   \n",
       "                                                                                                                                                 24.0       6.4380   \n",
       "                                                  BRD-K25114078 aminoguanidine trt_cp      REP.A001_A375_24H_X1_B22 NNC(N)=N         um@10.0     24.0       6.1650   \n",
       "\n",
       "pr_gene_id                                                                                                                                                   200081  \\\n",
       "pr_gene_symbol                                                                                                                                                TXLNA   \n",
       "cell_id cell_type primary_site subtype            pert_id       pert_name      pert_type   plate                    canonical_smiles pert_dose   pert_time            \n",
       "A375    cell line skin         malignant melanoma DMSO          DMSO           ctl_vehicle REP.A001_A375_24H_X1_B22 CS(=O)C          -666@-666.0 24.0       11.8947   \n",
       "                                                                                                                                                 24.0       12.0097   \n",
       "                                                                                                                                                 24.0       12.1321   \n",
       "                                                                                                                                                 24.0       11.9876   \n",
       "                                                  BRD-K25114078 aminoguanidine trt_cp      REP.A001_A375_24H_X1_B22 NNC(N)=N         um@10.0     24.0       12.0097   \n",
       "\n",
       "pr_gene_id                                                                                                                                                   200734  \\\n",
       "pr_gene_symbol                                                                                                                                               SPRED2   \n",
       "cell_id cell_type primary_site subtype            pert_id       pert_name      pert_type   plate                    canonical_smiles pert_dose   pert_time            \n",
       "A375    cell line skin         malignant melanoma DMSO          DMSO           ctl_vehicle REP.A001_A375_24H_X1_B22 CS(=O)C          -666@-666.0 24.0        9.8583   \n",
       "                                                                                                                                                 24.0        9.9597   \n",
       "                                                                                                                                                 24.0       10.3788   \n",
       "                                                                                                                                                 24.0       10.1042   \n",
       "                                                  BRD-K25114078 aminoguanidine trt_cp      REP.A001_A375_24H_X1_B22 NNC(N)=N         um@10.0     24.0       10.1322   \n",
       "\n",
       "pr_gene_id                                                                                                                                                  256364  \\\n",
       "pr_gene_symbol                                                                                                                                                EML3   \n",
       "cell_id cell_type primary_site subtype            pert_id       pert_name      pert_type   plate                    canonical_smiles pert_dose   pert_time           \n",
       "A375    cell line skin         malignant melanoma DMSO          DMSO           ctl_vehicle REP.A001_A375_24H_X1_B22 CS(=O)C          -666@-666.0 24.0       8.1926   \n",
       "                                                                                                                                                 24.0       8.3573   \n",
       "                                                                                                                                                 24.0       8.1376   \n",
       "                                                                                                                                                 24.0       8.0889   \n",
       "                                                  BRD-K25114078 aminoguanidine trt_cp      REP.A001_A375_24H_X1_B22 NNC(N)=N         um@10.0     24.0       8.3157   \n",
       "\n",
       "pr_gene_id                                                                                                                                                  375346  \\\n",
       "pr_gene_symbol                                                                                                                                             TMEM110   \n",
       "cell_id cell_type primary_site subtype            pert_id       pert_name      pert_type   plate                    canonical_smiles pert_dose   pert_time           \n",
       "A375    cell line skin         malignant melanoma DMSO          DMSO           ctl_vehicle REP.A001_A375_24H_X1_B22 CS(=O)C          -666@-666.0 24.0       5.4136   \n",
       "                                                                                                                                                 24.0       5.4500   \n",
       "                                                                                                                                                 24.0       5.4707   \n",
       "                                                                                                                                                 24.0       5.4556   \n",
       "                                                  BRD-K25114078 aminoguanidine trt_cp      REP.A001_A375_24H_X1_B22 NNC(N)=N         um@10.0     24.0       5.2090   \n",
       "\n",
       "pr_gene_id                                                                                                                                                  388650  \n",
       "pr_gene_symbol                                                                                                                                              FAM69A  \n",
       "cell_id cell_type primary_site subtype            pert_id       pert_name      pert_type   plate                    canonical_smiles pert_dose   pert_time          \n",
       "A375    cell line skin         malignant melanoma DMSO          DMSO           ctl_vehicle REP.A001_A375_24H_X1_B22 CS(=O)C          -666@-666.0 24.0       5.9672  \n",
       "                                                                                                                                                 24.0       5.3760  \n",
       "                                                                                                                                                 24.0       8.8232  \n",
       "                                                                                                                                                 24.0       8.5844  \n",
       "                                                  BRD-K25114078 aminoguanidine trt_cp      REP.A001_A375_24H_X1_B22 NNC(N)=N         um@10.0     24.0       5.8857  \n",
       "\n",
       "[5 rows x 978 columns]"
      ]
     },
     "execution_count": 6,
     "metadata": {},
     "output_type": "execute_result"
    }
   ],
   "source": [
    "level3_all.head()"
   ]
  },
  {
   "cell_type": "code",
   "execution_count": 33,
   "metadata": {
    "collapsed": true
   },
   "outputs": [],
   "source": [
    "#count_ctrls_by_plate = level3_all.groupby('plate').agg(lambda x: (x.index.get_level_values('pert_type') == 'ctl_vehicle').sum()).sort_values()\n",
    "#count_ctrls_by_plate[1:10]"
   ]
  },
  {
   "cell_type": "code",
   "execution_count": 36,
   "metadata": {},
   "outputs": [
    {
     "data": {
      "text/plain": [
       "trt_cp         986550\n",
       "ctl_vehicle     47721\n",
       "ctl_vector      31014\n",
       "trt_lig         25739\n",
       "ctl_untrt       22333\n",
       "trt_xpr         11421\n",
       "Name: pert_type, dtype: int64"
      ]
     },
     "execution_count": 36,
     "metadata": {},
     "output_type": "execute_result"
    }
   ],
   "source": [
    "level3_all.index.get_level_values('pert_type').value_counts()"
   ]
  },
  {
   "cell_type": "code",
   "execution_count": 39,
   "metadata": {
    "collapsed": true
   },
   "outputs": [],
   "source": [
    "round_doses = [val.split('@')[0] + '@%s' % float('%.1g' % float(val.split('@')[1])) for val in level3_all.index.get_level_values('pert_dose').tolist()]\n",
    "\n",
    "level3_all.index = pd.MultiIndex.from_arrays([level3_all.index.get_level_values('cell_id').to_list(),\n",
    "                                                       level3_all.index.get_level_values('cell_type').to_list(),\n",
    "                                                       level3_all.index.get_level_values('primary_site').to_list(),\n",
    "                                                       level3_all.index.get_level_values('subtype').to_list(),\n",
    "                                                       level3_all.index.get_level_values('pert_id').to_list(),\n",
    "                                                       level3_all.index.get_level_values('pert_name').to_list(),\n",
    "                                                       level3_all.index.get_level_values('pert_type').to_list(),\n",
    "                                                       level3_all.index.get_level_values('plate').to_list(),\n",
    "                                                       level3_all.index.get_level_values('canonical_smiles').to_list(),\n",
    "                                                       round_doses,\n",
    "                                                       level3_all.index.get_level_values('pert_time').to_list()\n",
    "                                                      ],\n",
    "                                                      names = ['cell_id', 'cell_type', 'primary_site', 'subtype', 'pert_id', 'pert_name', 'pert_type', 'plate', 'canonical_smiles', 'pert_dose', 'pert_time']\n",
    "                                                     )"
   ]
  },
  {
   "cell_type": "markdown",
   "metadata": {},
   "source": [
    "## Ranking Doses by Count"
   ]
  },
  {
   "cell_type": "code",
   "execution_count": 60,
   "metadata": {
    "scrolled": true
   },
   "outputs": [
    {
     "data": {
      "text/plain": [
       "um@10.0        476219\n",
       "um@5.0         117601\n",
       "-666@-700.0     95223\n",
       "um@0.4          69234\n",
       "um@1.0          64340\n",
       "um@3.0          61499\n",
       "um@0.1          55097\n",
       "um@0.04         54726\n",
       "um@20.0         16786\n",
       "um@2.0          16679\n",
       "Name: pert_dose, dtype: int64"
      ]
     },
     "execution_count": 60,
     "metadata": {},
     "output_type": "execute_result"
    }
   ],
   "source": [
    "level3_all.index.get_level_values('pert_dose').value_counts()[0:10]"
   ]
  },
  {
   "cell_type": "code",
   "execution_count": 54,
   "metadata": {
    "scrolled": true
   },
   "outputs": [
    {
     "data": {
      "text/plain": [
       "um@10.0        239938\n",
       "um@5.0          93541\n",
       "um@0.4          59016\n",
       "um@1.0          56261\n",
       "um@3.0          55042\n",
       "um@0.1          51437\n",
       "um@0.04         51200\n",
       "-666@-700.0     33131\n",
       "um@20.0         13938\n",
       "um@2.0           8368\n",
       "Name: pert_dose, dtype: int64"
      ]
     },
     "execution_count": 54,
     "metadata": {},
     "output_type": "execute_result"
    }
   ],
   "source": [
    "level3_all.query('pert_time == \"24.0\"').index.get_level_values('pert_dose').value_counts()[0:10]"
   ]
  },
  {
   "cell_type": "code",
   "execution_count": 55,
   "metadata": {
    "scrolled": true
   },
   "outputs": [
    {
     "data": {
      "text/plain": [
       "um@10.0        233675\n",
       "um@5.0          23985\n",
       "-666@-700.0     11788\n",
       "um@2.0           8311\n",
       "um@0.4           7805\n",
       "um@1.0           5568\n",
       "um@0.08          5031\n",
       "um@3.0           4044\n",
       "um@0.6           3959\n",
       "um@0.2           3935\n",
       "Name: pert_dose, dtype: int64"
      ]
     },
     "execution_count": 55,
     "metadata": {},
     "output_type": "execute_result"
    }
   ],
   "source": [
    "level3_all.query('pert_time == \"6.0\"').index.get_level_values('pert_dose').value_counts()[0:10]"
   ]
  },
  {
   "cell_type": "markdown",
   "metadata": {},
   "source": [
    "## Ranking Cell Types by Count"
   ]
  },
  {
   "cell_type": "code",
   "execution_count": 56,
   "metadata": {
    "scrolled": true
   },
   "outputs": [
    {
     "data": {
      "text/plain": [
       "PC3     42066\n",
       "MCF7    36921\n",
       "VCAP    32442\n",
       "A549    17182\n",
       "HA1E    14008\n",
       "NPC     12717\n",
       "A375    12361\n",
       "HT29    11147\n",
       "ASC      9425\n",
       "SKB      7648\n",
       "Name: cell_id, dtype: int64"
      ]
     },
     "execution_count": 56,
     "metadata": {},
     "output_type": "execute_result"
    }
   ],
   "source": [
    "level3_all.query('pert_time == \"24.0\" & pert_dose == \"um@10.0\"').index.get_level_values('cell_id').value_counts()[0:10]"
   ]
  },
  {
   "cell_type": "code",
   "execution_count": 57,
   "metadata": {
    "scrolled": true
   },
   "outputs": [
    {
     "data": {
      "text/plain": [
       "VCAP     27572\n",
       "A549     16315\n",
       "A375     14023\n",
       "HT29     13254\n",
       "MCF7     11805\n",
       "PC3      10409\n",
       "HA1E        85\n",
       "PHH         15\n",
       "HEPG2       15\n",
       "NKDBA       15\n",
       "Name: cell_id, dtype: int64"
      ]
     },
     "execution_count": 57,
     "metadata": {},
     "output_type": "execute_result"
    }
   ],
   "source": [
    "level3_all.query('pert_time == \"24.0\" & pert_dose == \"um@5.0\"').index.get_level_values('cell_id').value_counts()[0:10]"
   ]
  },
  {
   "cell_type": "code",
   "execution_count": 58,
   "metadata": {
    "scrolled": true
   },
   "outputs": [
    {
     "data": {
      "text/plain": [
       "PC3       32150\n",
       "VCAP      31453\n",
       "MCF7      29937\n",
       "HT29      27163\n",
       "A375      23924\n",
       "HA1E      15612\n",
       "A549      15559\n",
       "HCC515    14782\n",
       "HEPG2     12580\n",
       "NEU        2266\n",
       "Name: cell_id, dtype: int64"
      ]
     },
     "execution_count": 58,
     "metadata": {},
     "output_type": "execute_result"
    }
   ],
   "source": [
    "level3_all.query('pert_time == \"6.0\" & pert_dose == \"um@10.0\"').index.get_level_values('cell_id').value_counts()[0:10]"
   ]
  },
  {
   "cell_type": "code",
   "execution_count": 59,
   "metadata": {
    "scrolled": true
   },
   "outputs": [
    {
     "data": {
      "text/plain": [
       "VCAP       22918\n",
       "PC3          389\n",
       "MCF7         306\n",
       "HA1E         118\n",
       "A375          76\n",
       "HEPG2         18\n",
       "A549          16\n",
       "HUH7          15\n",
       "PHH           15\n",
       "NPC.TAK       12\n",
       "Name: cell_id, dtype: int64"
      ]
     },
     "execution_count": 59,
     "metadata": {},
     "output_type": "execute_result"
    }
   ],
   "source": [
    "level3_all.query('pert_time == \"6.0\" & pert_dose == \"um@5.0\"').index.get_level_values('cell_id').value_counts()[0:10]"
   ]
  },
  {
   "cell_type": "markdown",
   "metadata": {},
   "source": [
    "## Counting Unique Perts by Type"
   ]
  },
  {
   "cell_type": "code",
   "execution_count": 78,
   "metadata": {},
   "outputs": [
    {
     "data": {
      "text/plain": [
       "(8116, 7602, 6379, 5306, 3669, 3571, 3543, 3203)"
      ]
     },
     "execution_count": 78,
     "metadata": {},
     "output_type": "execute_result"
    }
   ],
   "source": [
    "(\n",
    "    level3_all.query('pert_time == \"24.0\" & pert_dose == \"um@10.0\" & cell_id == \"PC3\"'). \\\n",
    "        index.get_level_values('pert_id').nunique() ,\n",
    "    level3_all.query('pert_time == \"24.0\" & pert_dose == \"um@10.0\" & cell_id == \"MCF7\"'). \\\n",
    "        index.get_level_values('pert_id').nunique() ,\n",
    "    level3_all.query('pert_time == \"24.0\" & pert_dose == \"um@10.0\" & cell_id == \"VCAP\"'). \\\n",
    "        index.get_level_values('pert_id').nunique() ,\n",
    "    level3_all.query('pert_time == \"24.0\" & pert_dose == \"um@10.0\" & cell_id == \"A549\"'). \\\n",
    "        index.get_level_values('pert_id').nunique() ,\n",
    "    level3_all.query('pert_time == \"24.0\" & pert_dose == \"um@10.0\" & cell_id == \"HA1E\"'). \\\n",
    "        index.get_level_values('pert_id').nunique() ,\n",
    "    level3_all.query('pert_time == \"24.0\" & pert_dose == \"um@10.0\" & cell_id == \"NPC\"'). \\\n",
    "        index.get_level_values('pert_id').nunique() ,\n",
    "    level3_all.query('pert_time == \"24.0\" & pert_dose == \"um@10.0\" & cell_id == \"A375\"'). \\\n",
    "        index.get_level_values('pert_id').nunique() ,\n",
    "    level3_all.query('pert_time == \"24.0\" & pert_dose == \"um@10.0\" & cell_id == \"HT29\"'). \\\n",
    "        index.get_level_values('pert_id').nunique() \n",
    ")"
   ]
  },
  {
   "cell_type": "code",
   "execution_count": 79,
   "metadata": {},
   "outputs": [
    {
     "data": {
      "text/plain": [
       "(9479, 7132, 5905, 5541, 4979, 4401)"
      ]
     },
     "execution_count": 79,
     "metadata": {},
     "output_type": "execute_result"
    }
   ],
   "source": [
    "(\n",
    "    level3_all.query('pert_time == \"24.0\" & pert_dose == \"um@5.0\" & cell_id == \"VCAP\"'). \\\n",
    "        index.get_level_values('pert_id').nunique() ,\n",
    "    level3_all.query('pert_time == \"24.0\" & pert_dose == \"um@5.0\" & cell_id == \"A549\"'). \\\n",
    "        index.get_level_values('pert_id').nunique() ,\n",
    "    level3_all.query('pert_time == \"24.0\" & pert_dose == \"um@5.0\" & cell_id == \"A375\"'). \\\n",
    "        index.get_level_values('pert_id').nunique() ,\n",
    "    level3_all.query('pert_time == \"24.0\" & pert_dose == \"um@5.0\" & cell_id == \"HT29\"'). \\\n",
    "        index.get_level_values('pert_id').nunique() ,\n",
    "    level3_all.query('pert_time == \"24.0\" & pert_dose == \"um@5.0\" & cell_id == \"MCF7\"'). \\\n",
    "        index.get_level_values('pert_id').nunique() ,\n",
    "    level3_all.query('pert_time == \"24.0\" & pert_dose == \"um@5.0\" & cell_id == \"PC3\"'). \\\n",
    "        index.get_level_values('pert_id').nunique() \n",
    ")"
   ]
  },
  {
   "cell_type": "code",
   "execution_count": 80,
   "metadata": {},
   "outputs": [
    {
     "data": {
      "text/plain": [
       "(6428, 6430, 6128, 5070, 5103, 4777, 5110, 4884, 3754)"
      ]
     },
     "execution_count": 80,
     "metadata": {},
     "output_type": "execute_result"
    }
   ],
   "source": [
    "(\n",
    "    level3_all.query('pert_time == \"6.0\" & pert_dose == \"um@10.0\" & cell_id == \"PC3\"'). \\\n",
    "        index.get_level_values('pert_id').nunique() ,\n",
    "    level3_all.query('pert_time == \"6.0\" & pert_dose == \"um@10.0\" & cell_id == \"VCAP\"'). \\\n",
    "        index.get_level_values('pert_id').nunique() ,\n",
    "    level3_all.query('pert_time == \"6.0\" & pert_dose == \"um@10.0\" & cell_id == \"MCF7\"'). \\\n",
    "        index.get_level_values('pert_id').nunique() ,\n",
    "    level3_all.query('pert_time == \"6.0\" & pert_dose == \"um@10.0\" & cell_id == \"HT29\"'). \\\n",
    "        index.get_level_values('pert_id').nunique() ,\n",
    "    level3_all.query('pert_time == \"6.0\" & pert_dose == \"um@10.0\" & cell_id == \"A375\"'). \\\n",
    "        index.get_level_values('pert_id').nunique() ,\n",
    "    level3_all.query('pert_time == \"6.0\" & pert_dose == \"um@10.0\" & cell_id == \"HA1E\"'). \\\n",
    "        index.get_level_values('pert_id').nunique() ,\n",
    "    level3_all.query('pert_time == \"6.0\" & pert_dose == \"um@10.0\" & cell_id == \"A549\"'). \\\n",
    "        index.get_level_values('pert_id').nunique() ,\n",
    "    level3_all.query('pert_time == \"6.0\" & pert_dose == \"um@10.0\" & cell_id == \"HCC515\"'). \\\n",
    "        index.get_level_values('pert_id').nunique() ,\n",
    "    level3_all.query('pert_time == \"6.0\" & pert_dose == \"um@10.0\" & cell_id == \"HEPG2\"'). \\\n",
    "        index.get_level_values('pert_id').nunique()\n",
    ")"
   ]
  },
  {
   "cell_type": "code",
   "execution_count": 68,
   "metadata": {},
   "outputs": [
    {
     "data": {
      "text/plain": [
       "8494"
      ]
     },
     "execution_count": 68,
     "metadata": {},
     "output_type": "execute_result"
    }
   ],
   "source": [
    "level3_all.query('pert_time == \"6.0\" & pert_dose == \"um@5.0\" & cell_id == \"VCAP\"'). \\\n",
    "        index.get_level_values('pert_id').nunique()"
   ]
  },
  {
   "cell_type": "markdown",
   "metadata": {},
   "source": [
    "## Counting Replicated Experiments"
   ]
  },
  {
   "cell_type": "markdown",
   "metadata": {},
   "source": [
    "### All three dose/durations"
   ]
  },
  {
   "cell_type": "code",
   "execution_count": 72,
   "metadata": {},
   "outputs": [
    {
     "data": {
      "text/plain": [
       "229"
      ]
     },
     "execution_count": 72,
     "metadata": {},
     "output_type": "execute_result"
    }
   ],
   "source": [
    "len(\n",
    "    set(level3_all.query('pert_time == \"24.0\" & pert_dose == \"um@10.0\" & cell_id == \"PC3\"'). \\\n",
    "        index.get_level_values('pert_id').unique()) & \\\n",
    "    set(level3_all.query('pert_time == \"6.0\" & pert_dose == \"um@10.0\" & cell_id == \"PC3\"'). \\\n",
    "        index.get_level_values('pert_id').unique()) & \\\n",
    "    set(level3_all.query('pert_time == \"24.0\" & pert_dose == \"um@5.0\" & cell_id == \"PC3\"'). \\\n",
    "        index.get_level_values('pert_id').unique())\n",
    ")"
   ]
  },
  {
   "cell_type": "code",
   "execution_count": 73,
   "metadata": {},
   "outputs": [
    {
     "data": {
      "text/plain": [
       "202"
      ]
     },
     "execution_count": 73,
     "metadata": {},
     "output_type": "execute_result"
    }
   ],
   "source": [
    "len(\n",
    "    set(level3_all.query('pert_time == \"24.0\" & pert_dose == \"um@10.0\" & cell_id == \"VCAP\"'). \\\n",
    "        index.get_level_values('pert_id').unique()) & \\\n",
    "    set(level3_all.query('pert_time == \"6.0\" & pert_dose == \"um@10.0\" & cell_id == \"VCAP\"'). \\\n",
    "        index.get_level_values('pert_id').unique()) & \\\n",
    "    set(level3_all.query('pert_time == \"24.0\" & pert_dose == \"um@5.0\" & cell_id == \"VCAP\"'). \\\n",
    "        index.get_level_values('pert_id').unique())\n",
    ")"
   ]
  },
  {
   "cell_type": "code",
   "execution_count": 81,
   "metadata": {},
   "outputs": [
    {
     "data": {
      "text/plain": [
       "171"
      ]
     },
     "execution_count": 81,
     "metadata": {},
     "output_type": "execute_result"
    }
   ],
   "source": [
    "len(\n",
    "    set(level3_all.query('pert_time == \"24.0\" & pert_dose == \"um@10.0\" & cell_id == \"MCF7\"'). \\\n",
    "        index.get_level_values('pert_id').unique()) & \\\n",
    "    set(level3_all.query('pert_time == \"6.0\" & pert_dose == \"um@10.0\" & cell_id == \"MCF7\"'). \\\n",
    "        index.get_level_values('pert_id').unique()) & \\\n",
    "    set(level3_all.query('pert_time == \"24.0\" & pert_dose == \"um@5.0\" & cell_id == \"MCF7\"'). \\\n",
    "        index.get_level_values('pert_id').unique())\n",
    ")"
   ]
  },
  {
   "cell_type": "code",
   "execution_count": 84,
   "metadata": {},
   "outputs": [
    {
     "data": {
      "text/plain": [
       "7"
      ]
     },
     "execution_count": 84,
     "metadata": {},
     "output_type": "execute_result"
    }
   ],
   "source": [
    "len(\n",
    "    set(level3_all.query('pert_time == \"24.0\" & pert_dose == \"um@10.0\" & cell_id == \"A375\"'). \\\n",
    "        index.get_level_values('pert_id').unique()) & \\\n",
    "    set(level3_all.query('pert_time == \"6.0\" & pert_dose == \"um@10.0\" & cell_id == \"A375\"'). \\\n",
    "        index.get_level_values('pert_id').unique()) & \\\n",
    "    set(level3_all.query('pert_time == \"24.0\" & pert_dose == \"um@5.0\" & cell_id == \"A375\"'). \\\n",
    "        index.get_level_values('pert_id').unique())\n",
    ")"
   ]
  },
  {
   "cell_type": "markdown",
   "metadata": {},
   "source": [
    "### 24/10 and 6/10"
   ]
  },
  {
   "cell_type": "code",
   "execution_count": 76,
   "metadata": {},
   "outputs": [
    {
     "data": {
      "text/plain": [
       "6385"
      ]
     },
     "execution_count": 76,
     "metadata": {},
     "output_type": "execute_result"
    }
   ],
   "source": [
    "len(\n",
    "    set(level3_all.query('pert_time == \"24.0\" & pert_dose == \"um@10.0\" & cell_id == \"PC3\"'). \\\n",
    "        index.get_level_values('pert_id').unique()) & \\\n",
    "    set(level3_all.query('pert_time == \"6.0\" & pert_dose == \"um@10.0\" & cell_id == \"PC3\"'). \\\n",
    "        index.get_level_values('pert_id').unique())\n",
    ")"
   ]
  },
  {
   "cell_type": "code",
   "execution_count": 77,
   "metadata": {},
   "outputs": [
    {
     "data": {
      "text/plain": [
       "6368"
      ]
     },
     "execution_count": 77,
     "metadata": {},
     "output_type": "execute_result"
    }
   ],
   "source": [
    "len(\n",
    "    set(level3_all.query('pert_time == \"24.0\" & pert_dose == \"um@10.0\" & cell_id == \"VCAP\"'). \\\n",
    "        index.get_level_values('pert_id').unique()) & \\\n",
    "    set(level3_all.query('pert_time == \"6.0\" & pert_dose == \"um@10.0\" & cell_id == \"VCAP\"'). \\\n",
    "        index.get_level_values('pert_id').unique())\n",
    ")"
   ]
  },
  {
   "cell_type": "code",
   "execution_count": 82,
   "metadata": {},
   "outputs": [
    {
     "data": {
      "text/plain": [
       "6099"
      ]
     },
     "execution_count": 82,
     "metadata": {},
     "output_type": "execute_result"
    }
   ],
   "source": [
    "len(\n",
    "    set(level3_all.query('pert_time == \"24.0\" & pert_dose == \"um@10.0\" & cell_id == \"MCF7\"'). \\\n",
    "        index.get_level_values('pert_id').unique()) & \\\n",
    "    set(level3_all.query('pert_time == \"6.0\" & pert_dose == \"um@10.0\" & cell_id == \"MCF7\"'). \\\n",
    "        index.get_level_values('pert_id').unique())\n",
    ")"
   ]
  },
  {
   "cell_type": "code",
   "execution_count": 85,
   "metadata": {},
   "outputs": [
    {
     "data": {
      "text/plain": [
       "1851"
      ]
     },
     "execution_count": 85,
     "metadata": {},
     "output_type": "execute_result"
    }
   ],
   "source": [
    "len(\n",
    "    set(level3_all.query('pert_time == \"24.0\" & pert_dose == \"um@10.0\" & cell_id == \"A375\"'). \\\n",
    "        index.get_level_values('pert_id').unique()) & \\\n",
    "    set(level3_all.query('pert_time == \"6.0\" & pert_dose == \"um@10.0\" & cell_id == \"A375\"'). \\\n",
    "        index.get_level_values('pert_id').unique())\n",
    ")"
   ]
  },
  {
   "cell_type": "markdown",
   "metadata": {},
   "source": [
    "### 24/10 and 24/5"
   ]
  },
  {
   "cell_type": "code",
   "execution_count": 74,
   "metadata": {},
   "outputs": [
    {
     "data": {
      "text/plain": [
       "578"
      ]
     },
     "execution_count": 74,
     "metadata": {},
     "output_type": "execute_result"
    }
   ],
   "source": [
    "len(\n",
    "    set(level3_all.query('pert_time == \"24.0\" & pert_dose == \"um@10.0\" & cell_id == \"PC3\"'). \\\n",
    "        index.get_level_values('pert_id').unique()) & \\\n",
    "    set(level3_all.query('pert_time == \"24.0\" & pert_dose == \"um@5.0\" & cell_id == \"PC3\"'). \\\n",
    "        index.get_level_values('pert_id').unique())\n",
    ")"
   ]
  },
  {
   "cell_type": "code",
   "execution_count": 75,
   "metadata": {},
   "outputs": [
    {
     "data": {
      "text/plain": [
       "202"
      ]
     },
     "execution_count": 75,
     "metadata": {},
     "output_type": "execute_result"
    }
   ],
   "source": [
    "len(\n",
    "    set(level3_all.query('pert_time == \"24.0\" & pert_dose == \"um@10.0\" & cell_id == \"VCAP\"'). \\\n",
    "        index.get_level_values('pert_id').unique()) & \\\n",
    "    set(level3_all.query('pert_time == \"24.0\" & pert_dose == \"um@5.0\" & cell_id == \"VCAP\"'). \\\n",
    "        index.get_level_values('pert_id').unique())\n",
    ")"
   ]
  },
  {
   "cell_type": "code",
   "execution_count": 83,
   "metadata": {},
   "outputs": [
    {
     "data": {
      "text/plain": [
       "531"
      ]
     },
     "execution_count": 83,
     "metadata": {},
     "output_type": "execute_result"
    }
   ],
   "source": [
    "len(\n",
    "    set(level3_all.query('pert_time == \"24.0\" & pert_dose == \"um@10.0\" & cell_id == \"MCF7\"'). \\\n",
    "        index.get_level_values('pert_id').unique()) & \\\n",
    "    set(level3_all.query('pert_time == \"24.0\" & pert_dose == \"um@5.0\" & cell_id == \"MCF7\"'). \\\n",
    "        index.get_level_values('pert_id').unique())\n",
    ")"
   ]
  },
  {
   "cell_type": "code",
   "execution_count": 86,
   "metadata": {},
   "outputs": [
    {
     "data": {
      "text/plain": [
       "422"
      ]
     },
     "execution_count": 86,
     "metadata": {},
     "output_type": "execute_result"
    }
   ],
   "source": [
    "len(\n",
    "    set(level3_all.query('pert_time == \"24.0\" & pert_dose == \"um@10.0\" & cell_id == \"A375\"'). \\\n",
    "        index.get_level_values('pert_id').unique()) & \\\n",
    "    set(level3_all.query('pert_time == \"24.0\" & pert_dose == \"um@5.0\" & cell_id == \"A375\"'). \\\n",
    "        index.get_level_values('pert_id').unique())\n",
    ")"
   ]
  },
  {
   "cell_type": "markdown",
   "metadata": {},
   "source": [
    "### A375"
   ]
  },
  {
   "cell_type": "code",
   "execution_count": 95,
   "metadata": {},
   "outputs": [
    {
     "data": {
      "text/plain": [
       "(5905, 1809, 70, 1808)"
      ]
     },
     "execution_count": 95,
     "metadata": {},
     "output_type": "execute_result"
    }
   ],
   "source": [
    "(\n",
    "    len(\n",
    "        set(level3_all.query('pert_time == \"24.0\" & pert_dose == \"um@5.0\" & cell_id == \"A375\"'). \\\n",
    "            index.get_level_values('pert_id').unique())\n",
    "    ), \n",
    "    len(\n",
    "        set(level3_all.query('pert_time == \"24.0\" & pert_dose == \"um@3.0\" & cell_id == \"A375\"'). \\\n",
    "        index.get_level_values('pert_id').unique())\n",
    "    ),\n",
    "    len(\n",
    "        set(level3_all.query('pert_time == \"24.0\" & pert_dose == \"um@0.6\" & cell_id == \"A375\"'). \\\n",
    "        index.get_level_values('pert_id').unique())\n",
    "    ),\n",
    "    len(\n",
    "        set(level3_all.query('pert_time == \"24.0\" & pert_dose == \"um@0.1\" & cell_id == \"A375\"'). \\\n",
    "        index.get_level_values('pert_id').unique())\n",
    "    )\n",
    ")"
   ]
  },
  {
   "cell_type": "code",
   "execution_count": null,
   "metadata": {
    "collapsed": true
   },
   "outputs": [],
   "source": []
  },
  {
   "cell_type": "code",
   "execution_count": 126,
   "metadata": {
    "collapsed": true
   },
   "outputs": [],
   "source": [
    "train_test_seed = 17"
   ]
  },
  {
   "cell_type": "markdown",
   "metadata": {},
   "source": [
    "## Dataset"
   ]
  },
  {
   "cell_type": "code",
   "execution_count": 5,
   "metadata": {
    "collapsed": true
   },
   "outputs": [],
   "source": [
    "from sklearn.model_selection import train_test_split"
   ]
  },
  {
   "cell_type": "code",
   "execution_count": 6,
   "metadata": {
    "collapsed": true
   },
   "outputs": [],
   "source": [
    "pert_time = \"24.0\"\n",
    "pert_dose = \"um@10.0\"\n",
    "cell_id = \"PC3\"\n",
    "train_test_seed = 17\n",
    "split = 'train'\n",
    "rankTransform = False\n",
    "\n",
    "l1000_perts = level3_all.query('pert_time == @pert_time ' + \\\n",
    "                 '& pert_dose == @pert_dose ' + \\\n",
    "                 '& cell_id == @cell_id')\n",
    "l1000_perts_plates = list(set(l1000_perts.index.get_level_values('plate').values))\n",
    "\n",
    "l1000_controls = level3_all.query('pert_time == @pert_time' + \\\n",
    "                 '& cell_id == @cell_id ' + \\\n",
    "                 '& pert_type in [\"ctl_vehicle\", \"ctl_vector\", \"ctl_untrt\"] ' + \\\n",
    "                 '& plate in @l1000_perts_plates')\n",
    "\n",
    "plates_train, plates_non_train = train_test_split(l1000_perts_plates, test_size=0.2, random_state=train_test_seed)\n",
    "plates_val, plates_test = train_test_split(plates_non_train, test_size=0.5, random_state=train_test_seed)\n",
    "\n",
    "if split == 'train':\n",
    "    l1000_perts = l1000_perts.query('plate in @plates_train')\n",
    "    l1000_controls = l1000_controls.query('plate in @plates_train')\n",
    "elif split == 'val':\n",
    "    l1000_perts = l1000_perts.query('plate in @plates_val')\n",
    "    l1000_controls = l1000_controls.query('plate in @plates_val')\n",
    "else:\n",
    "    l1000_perts = l1000_perts.query('plate in @plates_test')\n",
    "    l1000_controls = l1000_controls.query('plate in @plates_test')\n",
    "\n",
    "if rankTransform:\n",
    "# uniform between 0 and 1.  Can consider other ranges\n",
    "    l1000_perts_plates = (l1000_perts_plates.rank(axis = 1) - 1 ) / (l1000_perts_plates.shape[1] - 1)\n",
    "    if control_sigs is not None:\n",
    "        l1000_controls = (l1000_controls.rank(axis = 1) - 1 ) / (l1000_controls.shape[1] - 1)\n",
    "        "
   ]
  },
  {
   "cell_type": "code",
   "execution_count": 7,
   "metadata": {
    "scrolled": true
   },
   "outputs": [
    {
     "name": "stdout",
     "output_type": "stream",
     "text": [
      "Unique perts in train: 6677 \n",
      " Unique perts in val: 0 \n",
      " Unique perts in test: 0 \n",
      "\n",
      " Intersect train/val: 0 \n",
      " Intersect train/test: 0 \n",
      " Intersect val/test: 0 \n",
      " Intersect train/val/test: 0 \n",
      " Intersect train/(val or test): 0\n"
     ]
    }
   ],
   "source": [
    "perts_train = set(l1000_perts.query('plate in @plates_train').index.get_level_values(\"pert_id\"))\n",
    "perts_val = set(l1000_perts.query('plate in @plates_val').index.get_level_values(\"pert_id\"))\n",
    "perts_test = set(l1000_perts.query('plate in @plates_test').index.get_level_values(\"pert_id\"))\n",
    "\n",
    "print(\"Unique perts in train:\", len(perts_train), '\\n',\n",
    "      \"Unique perts in val:\", len(perts_val), '\\n',\n",
    "      \"Unique perts in test:\", len(perts_test), '\\n\\n',\n",
    "      \"Intersect train/val:\", len(perts_train & perts_val),'\\n',\n",
    "      \"Intersect train/test:\", len(perts_train & perts_test),'\\n',\n",
    "      \"Intersect val/test:\", len(perts_val & perts_test),'\\n',\n",
    "      \"Intersect train/val/test:\", len(perts_train & (perts_val & perts_test)),'\\n',\n",
    "      \"Intersect train/(val or test):\", len(perts_train & (perts_val | perts_test))\n",
    ")"
   ]
  },
  {
   "cell_type": "markdown",
   "metadata": {},
   "source": [
    "## Test Data Loader"
   ]
  },
  {
   "cell_type": "code",
   "execution_count": 195,
   "metadata": {
    "collapsed": true
   },
   "outputs": [],
   "source": [
    "from drug_repo_metric_learning.lincs_joint_embed_datasets import LincsTripletDataset, LincsContrastiveDataset, LincsQuadrupletDataset, LincsQuintupletDataset"
   ]
  },
  {
   "cell_type": "code",
   "execution_count": 194,
   "metadata": {},
   "outputs": [
    {
     "data": {
      "text/plain": [
       "8.517193191416238"
      ]
     },
     "execution_count": 194,
     "metadata": {},
     "output_type": "execute_result"
    }
   ],
   "source": [
    "np.log(10000/2)"
   ]
  },
  {
   "cell_type": "code",
   "execution_count": 196,
   "metadata": {},
   "outputs": [
    {
     "data": {
      "text/plain": [
       "(tensor([[ 0.3594, -0.1243,  0.6475,  ..., -0.5375, -0.9292, -0.5652],\n",
       "         [ 0.3038, -0.4379,  0.2635,  ..., -0.9006, -0.6435, -0.6162],\n",
       "         [-0.0556, -0.3136, -0.3840,  ..., -0.3631,  0.2857, -0.0509],\n",
       "         [-0.0062, -0.0481, -0.0777,  ..., -0.0650,  0.0648, -0.0182]]),\n",
       " 'CN(C(=O)Cc1ccc(cc1)-c1ccccn1)c1nc(C)c(s1)S(N)(=O)=O',\n",
       " 'CCOc1cc(N)c(Cl)cc1C(=O)NCC1CN(Cc2ccc(F)cc2)CCO1')"
      ]
     },
     "execution_count": 196,
     "metadata": {},
     "output_type": "execute_result"
    }
   ],
   "source": [
    "triplet_data = LincsTripletDataset(level3_all)\n",
    "triplet_data.__getitem__(1)"
   ]
  },
  {
   "cell_type": "code",
   "execution_count": 189,
   "metadata": {},
   "outputs": [
    {
     "data": {
      "text/plain": [
       "(tensor([[-0.3909, -0.0849,  0.6752,  ..., -0.7487, -1.0891, -0.5070],\n",
       "         [ 0.3038, -0.4379,  0.2635,  ..., -0.9006, -0.6435, -0.6162],\n",
       "         [ 0.6947, -0.3530, -0.4117,  ..., -0.1519,  0.4456, -0.1092],\n",
       "         [    nan,  2.3674, -1.3573,  ...,  0.2665, -0.7592,  0.2814]]),\n",
       " tensor([[-0.3837, -0.4735,  0.3270,  ..., -0.5354, -0.7610, -0.0540],\n",
       "         [-0.4989, -0.8259,  0.4173,  ..., -0.6507, -0.7765,  0.1433],\n",
       "         [-0.1152, -0.3524,  0.0903,  ..., -0.1153, -0.0155,  0.1973],\n",
       "         [ 0.3787,  0.8026,  0.3520,  ...,  0.2814,  0.0290,     nan]]),\n",
       " tensor([[ 0.6037,  0.2491,  1.2633,  ...,  0.7622, -0.3320, -0.4770],\n",
       "         [ 0.3600,  0.0219,  1.0378,  ..., -0.1239, -0.8234, -0.4216],\n",
       "         [-0.2436, -0.2271, -0.2256,  ..., -0.8861, -0.4914,  0.0553],\n",
       "         [-0.7456, -3.5055, -0.2838,  ...,     nan,  1.3104, -0.1779]]))"
      ]
     },
     "execution_count": 189,
     "metadata": {},
     "output_type": "execute_result"
    }
   ],
   "source": [
    "LincsTripletDataset(level3_all, output_type=\"triplet_ge_only\").__getitem__(1)"
   ]
  },
  {
   "cell_type": "code",
   "execution_count": 190,
   "metadata": {},
   "outputs": [
    {
     "data": {
      "text/plain": [
       "('CN(C(=O)Cc1ccc(cc1)-c1ccccn1)c1nc(C)c(s1)S(N)(=O)=O',\n",
       " tensor([[ 0.1168, -0.1164,  0.6352,  ..., -0.7263, -1.0795, -0.6691],\n",
       "         [ 0.3038, -0.4379,  0.2635,  ..., -0.9006, -0.6435, -0.6162],\n",
       "         [ 0.1870, -0.3215, -0.3716,  ..., -0.1743,  0.4360,  0.0530],\n",
       "         [ 1.3790,  1.9112, -1.2692,  ...,  0.3103, -0.7463, -0.1189]]),\n",
       " tensor([[ 0.0733,  0.2585, -0.2472,  ..., -0.2143, -0.5006,  0.4127],\n",
       "         [-0.2338, -1.4132, -0.1979,  ..., -0.3786, -0.3962, -1.1280],\n",
       "         [-0.3070, -1.6716,  0.0493,  ..., -0.1643,  0.1044, -1.5406],\n",
       "         [    nan,     nan, -0.3207,  ...,  0.8209, -0.3374,     nan]]))"
      ]
     },
     "execution_count": 190,
     "metadata": {},
     "output_type": "execute_result"
    }
   ],
   "source": [
    "LincsTripletDataset(level3_all, output_type=\"triplet_chem_first\").__getitem__(1)"
   ]
  },
  {
   "cell_type": "code",
   "execution_count": 197,
   "metadata": {},
   "outputs": [
    {
     "data": {
      "text/plain": [
       "((tensor([[ 0.0211, -0.1855,  0.4829,  ..., -1.0891, -1.0113, -0.2061],\n",
       "          [ 0.3038, -0.4379,  0.2635,  ..., -0.9006, -0.6435, -0.6162],\n",
       "          [ 0.2827, -0.2524, -0.2194,  ...,  0.1885,  0.3678, -0.4101],\n",
       "          [ 0.0318, -0.0388, -0.0449,  ...,  0.0350,  0.0840, -0.1406]]),\n",
       "  'CN(C(=O)Cc1ccc(cc1)-c1ccccn1)c1nc(C)c(s1)S(N)(=O)=O'),\n",
       " tensor([1.]))"
      ]
     },
     "execution_count": 197,
     "metadata": {},
     "output_type": "execute_result"
    }
   ],
   "source": [
    "LincsContrastiveDataset(level3_all).__getitem__(1)"
   ]
  },
  {
   "cell_type": "code",
   "execution_count": 198,
   "metadata": {},
   "outputs": [
    {
     "data": {
      "text/plain": [
       "((tensor([[ 0.1168, -0.1164,  0.6352,  ..., -0.7263, -1.0795, -0.6691],\n",
       "          [ 0.3038, -0.4379,  0.2635,  ..., -0.9006, -0.6435, -0.6162],\n",
       "          [ 0.1870, -0.3215, -0.3716,  ..., -0.1743,  0.4360,  0.0530],\n",
       "          [ 0.0210, -0.0493, -0.0753,  ..., -0.0316,  0.1001,  0.0192]]),\n",
       "  tensor([[-0.1911, -0.7857, -0.0648,  ..., -0.9974,  0.4661,  0.7026],\n",
       "          [ 0.2262, -0.3508, -0.2596,  ..., -1.6568, -0.5579,  1.4546],\n",
       "          [ 0.4172,  0.4349, -0.1948,  ..., -0.6594, -1.0240,  0.7519],\n",
       "          [ 0.0475,  0.0688, -0.0432,  ..., -0.1278, -0.2084,  0.1906]])),\n",
       " tensor([0.]))"
      ]
     },
     "execution_count": 198,
     "metadata": {},
     "output_type": "execute_result"
    }
   ],
   "source": [
    "LincsContrastiveDataset(level3_all, output_type=\"contrastive_ge_only\").__getitem__(1)"
   ]
  },
  {
   "cell_type": "code",
   "execution_count": 199,
   "metadata": {},
   "outputs": [
    {
     "data": {
      "text/plain": [
       "(tensor([[ 0.3594, -0.1243,  0.6475,  ..., -0.5375, -0.9292, -0.5652],\n",
       "         [ 0.3038, -0.4379,  0.2635,  ..., -0.9006, -0.6435, -0.6162],\n",
       "         [-0.0556, -0.3136, -0.3840,  ..., -0.3631,  0.2857, -0.0509],\n",
       "         [-0.0062, -0.0481, -0.0777,  ..., -0.0650,  0.0648, -0.0182]]),\n",
       " tensor([[ 2.7457,  1.6533,  0.1713,  ..., -0.5455,  0.2043,  1.8991],\n",
       "         [ 1.7237,  2.6401,  0.5464,  ...,  1.3072,  0.5272,  2.5659],\n",
       "         [-1.0220,  0.9868,  0.3751,  ...,  1.8527,  0.3229,  0.6668],\n",
       "         [-0.0991,  0.1204,  0.0770,  ...,  0.2930,  0.0620,  0.1405]]),\n",
       " 'CN(C(=O)Cc1ccc(cc1)-c1ccccn1)c1nc(C)c(s1)S(N)(=O)=O',\n",
       " 'CCn1c2nc(N)nc(C)c2cc(-c2cc[nH]n2)c1=O')"
      ]
     },
     "execution_count": 199,
     "metadata": {},
     "output_type": "execute_result"
    }
   ],
   "source": [
    "LincsQuadrupletDataset(level3_all).__getitem__(1)"
   ]
  },
  {
   "cell_type": "code",
   "execution_count": 200,
   "metadata": {},
   "outputs": [
    {
     "data": {
      "text/plain": [
       "(tensor([[ 0.1413, -0.2887,  0.5510,  ..., -1.0273, -1.1003, -0.5484],\n",
       "         [ 0.3038, -0.4379,  0.2635,  ..., -0.9006, -0.6435, -0.6162],\n",
       "         [ 0.1625, -0.1492, -0.2875,  ...,  0.1267,  0.4569, -0.0678],\n",
       "         [ 0.0182, -0.0231, -0.0586,  ...,  0.0234,  0.1051, -0.0242]]),\n",
       " tensor([[ 6.2992e-02, -3.4057e-01,  4.8246e-01,  ..., -9.3865e-01,\n",
       "          -1.3867e+00, -5.6204e-02],\n",
       "         [-2.4216e-01, -3.3741e-01,  6.9616e-01,  ..., -5.5099e-01,\n",
       "          -1.0589e+00, -1.8607e-01],\n",
       "         [-3.0515e-01,  3.1648e-03,  2.1369e-01,  ...,  3.8766e-01,\n",
       "           3.2778e-01, -1.2986e-01],\n",
       "         [-3.5036e-02,  4.8835e-04,  4.2461e-02,  ...,  6.9664e-02,\n",
       "           7.9850e-02, -4.1628e-02]]),\n",
       " tensor([[-0.4842, -0.3418, -0.2264,  ..., -0.5703,  0.4064, -0.3682],\n",
       "         [ 0.6145,  0.3465, -0.1834,  ..., -0.1154,  0.5123,  0.5456],\n",
       "         [ 1.0987,  0.6884,  0.0430,  ...,  0.4549,  0.1059,  0.9138],\n",
       "         [ 0.1247,  0.1025,  0.0096,  ...,  0.0779,  0.0201,  0.2807]]),\n",
       " 'CN(C(=O)Cc1ccc(cc1)-c1ccccn1)c1nc(C)c(s1)S(N)(=O)=O',\n",
       " 'COc1cc2nccc(Oc3ccc(NC(=O)C4(CC4)C(=O)Nc4ccc(F)cc4)cc3)c2cc1OC')"
      ]
     },
     "execution_count": 200,
     "metadata": {},
     "output_type": "execute_result"
    }
   ],
   "source": [
    "LincsQuintupletDataset(level3_all).__getitem__(1)"
   ]
  },
  {
   "cell_type": "code",
   "execution_count": 15,
   "metadata": {
    "collapsed": true
   },
   "outputs": [],
   "source": [
    "from scipy.spatial.distance import cdist, pdist\n",
    "import time"
   ]
  },
  {
   "cell_type": "code",
   "execution_count": 136,
   "metadata": {},
   "outputs": [
    {
     "name": "stdout",
     "output_type": "stream",
     "text": [
      "Seconds elapsed:  26.688403367996216\n"
     ]
    },
    {
     "data": {
      "image/png": "[encoded data removed]",
      "text/plain": [
       "<Figure size 1152x144 with 1 Axes>"
      ]
     },
     "metadata": {
      "needs_background": "light"
     },
     "output_type": "display_data"
    },
    {
     "name": "stdout",
     "output_type": "stream",
     "text": [
      "Seconds elapsed:  0.14568114280700684\n"
     ]
    }
   ],
   "source": [
    "t0 = time.time()\n",
    "\n",
    "pert_avg = quadruplet_data.l1000_perts.groupby('pert_id').mean()\n",
    "test_perts = quadruplet_data.l1000_perts.iloc[0:5000,:]\n",
    "test_perts.index = test_perts.index.get_level_values('pert_id')\n",
    "\n",
    "pert_corrs = 1 - cdist(test_perts, pert_avg, metric = 'correlation')\n",
    "\n",
    "t1 = time.time()\n",
    "print(\"Seconds elapsed: \", t1-t0)\n",
    "\n",
    "plt.matshow(cdistances)\n",
    "plt.show()\n",
    "\n",
    "t2 = time.time()\n",
    "print(\"Seconds elapsed: \", t2-t1)"
   ]
  },
  {
   "cell_type": "code",
   "execution_count": 30,
   "metadata": {},
   "outputs": [
    {
     "data": {
      "text/plain": [
       "<matplotlib.axes._subplots.AxesSubplot at 0x7f4ec7995dd8>"
      ]
     },
     "execution_count": 30,
     "metadata": {},
     "output_type": "execute_result"
    },
    {
     "data": {
      "image/png": "[encoded data removed]",
      "text/plain": [
       "<Figure size 432x288 with 1 Axes>"
      ]
     },
     "metadata": {
      "needs_background": "light"
     },
     "output_type": "display_data"
    }
   ],
   "source": [
    "sns.distplot(1 - np.array(pert_corrs)[np.triu_indices(pert_corrs.shape[0], m=pert_corrs.shape[1])])"
   ]
  },
  {
   "cell_type": "markdown",
   "metadata": {},
   "source": [
    "## Load chemprop test"
   ]
  },
  {
   "cell_type": "code",
   "execution_count": 4,
   "metadata": {},
   "outputs": [
    {
     "name": "stderr",
     "output_type": "stream",
     "text": [
      "WARNING:root:No kyotocabinet available\n"
     ]
    }
   ],
   "source": [
    "import torch\n",
    "import sys\n",
    "sys.path.append('../chemprop')\n",
    "#from chemprop.features.featurization import *\n",
    "#from chemprop.features.features_generators import *\n",
    "from chemprop.models.model import build_model\n",
    "#from chemprop.utils import load_checkpoint\n",
    "\n",
    "#from descriptastorus.descriptors import rdNormalizedDescriptors"
   ]
  },
  {
   "cell_type": "code",
   "execution_count": 89,
   "metadata": {},
   "outputs": [
    {
     "name": "stdout",
     "output_type": "stream",
     "text": [
      "torch.Size([2, 300])\n"
     ]
    }
   ],
   "source": [
    "chemprop_info = torch.load(\"../chemprop/pcba/model_unoptimized.pt\")\n",
    "chemprop_model = build_model(chemprop_info['args'])\n",
    "chemprop_model.load_state_dict(chemprop_info['state_dict'])\n",
    "chemprop_encoder = chemprop_model.encoder\n",
    "chemprop_encoder.cuda()\n",
    "\n",
    "smiles_list = ['CN(C(=O)Cc1ccc(cc1)-c1ccccn1)c1nc(C)c(s1)S(N)(=O)=O','COc1cc2nccc(Oc3ccc(NC(=O)C4(CC4)C(=O)Nc4ccc(F)cc4)cc3)c2cc1OC']\n",
    "output_encoder = chemprop_encoder(smiles_list)\n",
    "print(output_encoder.shape)"
   ]
  },
  {
   "cell_type": "code",
   "execution_count": 15,
   "metadata": {},
   "outputs": [
    {
     "data": {
      "text/plain": [
       "MoleculeModel(\n",
       "  (sigmoid): Sigmoid()\n",
       "  (encoder): MPN(\n",
       "    (encoder): MPNEncoder(\n",
       "      (dropout_layer): Dropout(p=0.0)\n",
       "      (act_func): ReLU()\n",
       "      (W_i): Linear(in_features=147, out_features=300, bias=False)\n",
       "      (W_h): Linear(in_features=300, out_features=300, bias=False)\n",
       "      (W_o): Linear(in_features=433, out_features=300, bias=True)\n",
       "    )\n",
       "  )\n",
       "  (ffn): Sequential(\n",
       "    (0): Dropout(p=0.0)\n",
       "    (1): Linear(in_features=300, out_features=300, bias=True)\n",
       "    (2): ReLU()\n",
       "    (3): Dropout(p=0.0)\n",
       "    (4): Linear(in_features=300, out_features=128, bias=True)\n",
       "  )\n",
       ")"
      ]
     },
     "execution_count": 15,
     "metadata": {},
     "output_type": "execute_result"
    }
   ],
   "source": [
    "chemprop_model"
   ]
  },
  {
   "cell_type": "code",
   "execution_count": 11,
   "metadata": {},
   "outputs": [
    {
     "name": "stdout",
     "output_type": "stream",
     "text": [
      "Loading pretrained parameter \"encoder.encoder.cached_zero_vector\".\n",
      "Loading pretrained parameter \"encoder.encoder.W_i.weight\".\n",
      "Loading pretrained parameter \"encoder.encoder.W_h.weight\".\n",
      "Loading pretrained parameter \"encoder.encoder.W_o.weight\".\n",
      "Loading pretrained parameter \"encoder.encoder.W_o.bias\".\n",
      "Loading pretrained parameter \"ffn.1.weight\".\n",
      "Loading pretrained parameter \"ffn.1.bias\".\n",
      "Loading pretrained parameter \"ffn.4.weight\".\n",
      "Loading pretrained parameter \"ffn.4.bias\".\n",
      "Moving model to cuda\n",
      "torch.Size([2, 300])\n",
      "torch.Size([2, 128])\n",
      "True\n",
      "tensor([-12.6297, -15.3627, -10.7507,  -9.2732,  -4.9701, -10.0389,  -9.3424,\n",
      "        -12.5157, -15.1309], device='cuda:0', grad_fn=<SliceBackward>)\n",
      "tensor([-12.6297, -15.3627, -10.7507,  -9.2732,  -4.9701, -10.0389,  -9.3424,\n",
      "        -12.5157, -15.1309], device='cuda:0', grad_fn=<SliceBackward>)\n"
     ]
    }
   ],
   "source": [
    "#chemprop_info = torch.load(\"../chemprop/pcba/model_unoptimized.pt\")\n",
    "#chemprop_model = build_model(chemprop_info['args'])\n",
    "#chemprop_model.load_state_dict(chemprop_info['state_dict'])\n",
    "\n",
    "chemprop_model = load_checkpoint(\"../chemprop/pcba/model_unoptimized.pt\", cuda=True)\n",
    "\n",
    "chemprop_encoder = chemprop_model.encoder\n",
    "chemprop_encoder.cuda(); chemprop_model.cuda();\n",
    "\n",
    "smiles_list = ['CN(C(=O)Cc1ccc(cc1)-c1ccccn1)c1nc(C)c(s1)S(N)(=O)=O','COc1cc2nccc(Oc3ccc(NC(=O)C4(CC4)C(=O)Nc4ccc(F)cc4)cc3)c2cc1OC']\n",
    "\n",
    "\n",
    "output_encoder = chemprop_encoder(smiles_list)\n",
    "print(output_encoder.shape)\n",
    "\n",
    "output_ffn = chemprop_model.ffn(output_encoder)\n",
    "print(output_ffn.shape)\n",
    "\n",
    "output_full_model = chemprop_model(smiles_list)\n",
    "print(bool(torch.all(torch.eq(output_full_model, output_ffn))))\n",
    "print(output_full_model[0][1:10])\n",
    "print(output_ffn[0][1:10])"
   ]
  },
  {
   "cell_type": "markdown",
   "metadata": {},
   "source": [
    "## Test"
   ]
  },
  {
   "cell_type": "code",
   "execution_count": 14,
   "metadata": {
    "collapsed": true
   },
   "outputs": [],
   "source": [
    "import pandas as pd\n",
    "level3_all = pd.read_pickle(\"/home/sgf2/DBMI_server/repo/mdeg_collab/data/lincs_level3_all_perts.pkl\")"
   ]
  },
  {
   "cell_type": "code",
   "execution_count": 15,
   "metadata": {},
   "outputs": [],
   "source": [
    "import torch\n",
    "from torch.utils.data import DataLoader"
   ]
  },
  {
   "cell_type": "code",
   "execution_count": 16,
   "metadata": {},
   "outputs": [],
   "source": [
    "%load_ext autoreload\n",
    "%autoreload 2"
   ]
  },
  {
   "cell_type": "markdown",
   "metadata": {},
   "source": [
    "### Triplet"
   ]
  },
  {
   "cell_type": "code",
   "execution_count": 208,
   "metadata": {},
   "outputs": [],
   "source": [
    "from drug_repo_metric_learning.lincs_joint_embed_datasets import LincsTripletDataset\n",
    "from drug_repo_metric_learning.lincs_joint_embed_models import FeedForwardTripletNet, load_chemprop_model\n",
    "from drug_repo_metric_learning.lincs_joint_embed_losses import TripletMarginLoss_WU"
   ]
  },
  {
   "cell_type": "code",
   "execution_count": 209,
   "metadata": {},
   "outputs": [],
   "source": [
    "triplet_data = LincsTripletDataset(level3_all)\n",
    "dl = DataLoader(triplet_data, batch_size=512, shuffle=True)\n",
    "batch = next(iter(dl))\n",
    "fft = FeedForwardTripletNet()"
   ]
  },
  {
   "cell_type": "code",
   "execution_count": 210,
   "metadata": {},
   "outputs": [
    {
     "data": {
      "text/plain": [
       "(tensor(11.8598, device='cuda:0', grad_fn=<DivBackward0>), 49.8046875)"
      ]
     },
     "execution_count": 210,
     "metadata": {},
     "output_type": "execute_result"
    }
   ],
   "source": [
    "loss_func_wu = TripletMarginLoss_WU()\n",
    "anchors, positives, negatives = fft(batch)\n",
    "loss_func_wu(anchors, positives, negatives)"
   ]
  },
  {
   "cell_type": "code",
   "execution_count": 5,
   "metadata": {},
   "outputs": [
    {
     "data": {
      "text/plain": [
       "(tensor(11.7908, device='cuda:0', grad_fn=<DivBackward0>), 52.1484375)"
      ]
     },
     "execution_count": 5,
     "metadata": {},
     "output_type": "execute_result"
    }
   ],
   "source": [
    "loss_func_wu = TripletMarginLoss_WU(percent_correct=True)\n",
    "loss_func_wu(*fft(batch))"
   ]
  },
  {
   "cell_type": "code",
   "execution_count": 214,
   "metadata": {},
   "outputs": [
    {
     "data": {
      "text/plain": [
       "3"
      ]
     },
     "execution_count": 214,
     "metadata": {},
     "output_type": "execute_result"
    }
   ],
   "source": [
    "from types import SimpleNamespace\n",
    "\n",
    "configs = SimpleNamespace(device_num = 3, # e.g None or an integer\n",
    "    rankTrans = False,\n",
    "    batch_size = 512,\n",
    "    structure = \"triplet\", #'quadruplet' or \"triplet\"\n",
    "    dropout_prob = 0, #0.5\n",
    "    val_mode_at_val = True,\n",
    "               )\n",
    "configs.device_num"
   ]
  },
  {
   "cell_type": "markdown",
   "metadata": {},
   "source": [
    "### Singlet wrappers"
   ]
  },
  {
   "cell_type": "code",
   "execution_count": 17,
   "metadata": {
    "collapsed": true
   },
   "outputs": [],
   "source": [
    "from drug_repo_metric_learning.lincs_joint_embed_datasets import LincsSingletGEWrapperDataset, LincsSingletSmilesWrapperDataset\n",
    "import numpy"
   ]
  },
  {
   "cell_type": "code",
   "execution_count": 25,
   "metadata": {
    "collapsed": true
   },
   "outputs": [],
   "source": [
    "train_dataset = LincsTripletDataset(level3_all)\n",
    "val_dataset = LincsTripletDataset(level3_all, split=\"val\")"
   ]
  },
  {
   "cell_type": "code",
   "execution_count": 59,
   "metadata": {},
   "outputs": [
    {
     "data": {
      "text/plain": [
       "tensor([[ 1.6076e-02, -1.7589e-01,  4.9772e-01,  ..., -2.6412e-02,\n",
       "          3.0552e-02,  4.0258e-02],\n",
       "        [ 6.8521e-02,  4.0949e-03,  5.8939e-01,  ...,  1.3115e-02,\n",
       "          2.7382e-02, -5.5072e-02],\n",
       "        [-2.3921e-01, -3.5431e-01,  5.6698e-01,  ...,  9.0626e-02,\n",
       "          8.4407e-02,  3.6836e-03],\n",
       "        ...,\n",
       "        [ 1.0363e+00, -2.1373e-01, -6.0398e-01,  ...,  1.1944e-03,\n",
       "          3.0637e-02,  4.8950e-02],\n",
       "        [ 1.2469e+00, -2.8921e-01, -3.8727e-01,  ..., -3.0655e-02,\n",
       "          9.9182e-02, -2.1144e-02],\n",
       "        [ 9.9444e-01, -2.1046e-01, -6.6450e-01,  ...,  2.0494e-02,\n",
       "          5.7921e-03,  8.0258e-02]])"
      ]
     },
     "execution_count": 59,
     "metadata": {},
     "output_type": "execute_result"
    }
   ],
   "source": [
    "next(iter(ge_loader))[0]"
   ]
  },
  {
   "cell_type": "code",
   "execution_count": 51,
   "metadata": {
    "collapsed": true
   },
   "outputs": [],
   "source": [
    "batch_size=512\n",
    "\n",
    "ge_wrapper_train = LincsSingletGEWrapperDataset(train_dataset)\n",
    "ge_wrapper_val = LincsSingletGEWrapperDataset(val_dataset)\n",
    "smiles_wrapper_train = LincsSingletSmilesWrapperDataset(train_dataset)\n",
    "smiles_wrapper_val = LincsSingletSmilesWrapperDataset(val_dataset)\n",
    "\n",
    "ge_loader_train = DataLoader(ge_wrapper_train, batch_size=batch_size*3, shuffle=False)\n",
    "ge_loader_val = DataLoader(ge_wrapper_val, batch_size=batch_size*3, shuffle=False)\n",
    "smiles_loader_train = DataLoader(smiles_wrapper_train, batch_size=batch_size*3, shuffle=False)\n",
    "smiles_loader_val = DataLoader(smiles_wrapper_val, batch_size=batch_size*3, shuffle=False)"
   ]
  },
  {
   "cell_type": "code",
   "execution_count": 46,
   "metadata": {},
   "outputs": [
    {
     "data": {
      "text/plain": [
       "array([[0., 0., 0., ..., 0., 0., 0.],\n",
       "       [0., 0., 0., ..., 0., 0., 0.],\n",
       "       [0., 0., 0., ..., 0., 0., 0.],\n",
       "       ...,\n",
       "       [0., 0., 0., ..., 0., 0., 0.],\n",
       "       [0., 0., 0., ..., 0., 0., 0.],\n",
       "       [0., 0., 0., ..., 0., 0., 0.]])"
      ]
     },
     "execution_count": 46,
     "metadata": {},
     "output_type": "execute_result"
    }
   ],
   "source": [
    "gex_embeddings[,:]"
   ]
  },
  {
   "cell_type": "code",
   "execution_count": 57,
   "metadata": {
    "collapsed": true
   },
   "outputs": [],
   "source": [
    "ge_wrapper = ge_wrapper_val\n",
    "ge_loader = ge_loader_val\n",
    "smiles_wrapper = smiles_wrapper_val\n",
    "smiles_loader = smiles_loader_val"
   ]
  },
  {
   "cell_type": "code",
   "execution_count": 163,
   "metadata": {},
   "outputs": [
    {
     "data": {
      "text/plain": [
       "{'mean_1st_rank': 1369.8714445064138,\n",
       " 'mrr': 0.5019682830730722,\n",
       " 'H@10': 0.0039040713887339654,\n",
       " 'H@100': 0.03234802007808143,\n",
       " 'H@500': 0.18014500836586725}"
      ]
     },
     "execution_count": 163,
     "metadata": {},
     "output_type": "execute_result"
    }
   ],
   "source": [
    "gex_embeddings = np.zeros([ge_wrapper.__len__(), model.embed_size])\n",
    "smiles_gex_labels = []\n",
    "chem_embeddings = np.zeros([smiles_wrapper.__len__(), model.embed_size])\n",
    "#smiles_strings = smiles_wrapper.pert_smiles\n",
    "\n",
    "with torch.no_grad():\n",
    "    for i, batch in enumerate(ge_loader):\n",
    "        gex = batch[0].cuda()\n",
    "        start_ind = i * ge_loader.batch_size\n",
    "        end_ind = start_ind + gex.shape[0]\n",
    "        \n",
    "        smiles_gex_labels.extend(batch[1])\n",
    "        gex_embeddings[start_ind:end_ind,:] = model.ge_embed(gex).cpu().numpy()\n",
    "        \n",
    "    for i, batch in enumerate(smiles_loader):\n",
    "        smiles = batch\n",
    "        start_ind = i * smiles_loader.batch_size\n",
    "        end_ind = start_ind + len(smiles)\n",
    "        \n",
    "        chem_embeds = model.chem_linear(model.chemprop_encoder(smiles))\n",
    "        chem_embeddings[start_ind:end_ind,:] = chem_embeds.cpu().numpy()\n",
    "        \n",
    "gex_chem_distances = cdist(gex_embeddings, smiles_embeddings, metric='euclidean')\n",
    "gex_chem_ranks = rankdata(gex_chem_distances, axis = 1)\n",
    "\n",
    "rank_first_match = []\n",
    "rank_all_matches = []\n",
    "for i,sml in enumerate(smiles_gex_labels):\n",
    "    matches = np.where(smiles_wrapper.pert_smiles == sml)[0]\n",
    "    ranks_matches = gex_chem_ranks[i,matches]\n",
    "    rank_all_matches.append(ranks_matches)\n",
    "    rank_first_match.append(np.min(ranks_matches))\n",
    "\n",
    "rank_first_match = np.array(rank_first_match)\n",
    "mean_rank_first = np.mean(rank_first_match)\n",
    "mrr = np.mean(1/rank_first_match)\n",
    "\n",
    "hits_at_10 = np.mean([np.sum(results <= 10) for results in rank_all_matches])\n",
    "hits_at_100 = np.mean([np.sum(results <= 100) for results in rank_all_matches])\n",
    "hits_at_500 = np.mean([np.sum(results <= 500) for results in rank_all_matches])\n",
    "\n",
    " {\n",
    "    \"mean_rank\": mean_rank_first,\n",
    "    \"mrr\": mrr,\n",
    "    \"H@10\": hits_at_10,\n",
    "    \"H@100\": hits_at_100,\n",
    "    \"H@500\": hits_at_500\n",
    "}"
   ]
  },
  {
   "cell_type": "code",
   "execution_count": 223,
   "metadata": {},
   "outputs": [
    {
     "name": "stdout",
     "output_type": "stream",
     "text": [
      "namespace(batch_size=512, device_num=3, dropout_prob=0, log_path='logs/exp1.log', rankTrans=False, structure='triplet', val_mode_at_val=True)\n"
     ]
    }
   ],
   "source": [
    "print(config)"
   ]
  },
  {
   "cell_type": "code",
   "execution_count": null,
   "metadata": {
    "collapsed": true
   },
   "outputs": [],
   "source": [
    "train_dataset.pert_names"
   ]
  },
  {
   "cell_type": "code",
   "execution_count": 195,
   "metadata": {},
   "outputs": [
    {
     "data": {
      "text/plain": [
       "[array([1827., 2082.]),\n",
       " array([1795.,  833.]),\n",
       " array([1703.,  392.]),\n",
       " array([1220., 1884.])]"
      ]
     },
     "execution_count": 195,
     "metadata": {},
     "output_type": "execute_result"
    }
   ],
   "source": [
    "[x for x in rank_all_matches if (len(x)>1)]"
   ]
  },
  {
   "cell_type": "code",
   "execution_count": 207,
   "metadata": {},
   "outputs": [
    {
     "name": "stdout",
     "output_type": "stream",
     "text": [
      "BRD-A22032524 CCOC(=O)C1=C(NC(=C(C1C2=CC=CC=C2Cl)C(=O)OC)C)COCCN\n",
      "BRD-A64297288 CCOC(=O)C1=C(NC(=C(C1C2=CC=CC=C2Cl)C(=O)OC)C)COCCN\n",
      "BRD-A82307304 CC(C)c1c(C(=O)Nc2ccccc2)c(c(-c2ccc(F)cc2)n1CCC(O)CC(O)CC(O)=O)-c1ccccc1\n",
      "BRD-A83892713 CO[C@H]1\\C=C\\O[C@@]2(C)Oc3c(C2=O)c2c(O)c(\\C=N\\N4CCN(C)CC4)c(NC(=O)\\C(C)=C/C=C/[C@H](C)[C@H](O)[C@@H](C)[C@@H](O)[C@@H](C)[C@H](OC(C)=O)[C@@H]1C)c(O)c2c(O)c3C\n",
      "BRD-K01507359 CO[C@H]1\\C=C\\O[C@@]2(C)Oc3c(C2=O)c2c(O)c(\\C=N\\N4CCN(C)CC4)c(NC(=O)\\C(C)=C/C=C/[C@H](C)[C@H](O)[C@@H](C)[C@@H](O)[C@@H](C)[C@H](OC(C)=O)[C@@H]1C)c(O)c2c(O)c3C\n",
      "BRD-K10916986 CCC1=C[C@@H]2C[N@](C1)Cc1c([nH]c3ccccc13)[C@@](C2)(C(=O)OC)c1cc2c(cc1OC)N(C)[C@@H]1[C@]22CCN3CC=C[C@@](CC)([C@@H]23)[C@@H](OC(C)=O)[C@]1(O)C(=O)OC\n",
      "BRD-K19687926 CS(=O)(=O)CCNCc1ccc(o1)-c1ccc2ncnc(Nc3ccc(OCc4cccc(F)c4)c(Cl)c3)c2c1\n",
      "BRD-K42828737 CCN(CC)CCNC(=O)c1c(C)[nH]c(\\C=C2/C(=O)Nc3ccc(F)cc23)c1C\n",
      "BRD-K54006094 COc1ccc(C[C@H](C)NC[C@@H](O)c2ccc(O)c(NC=O)c2)cc1\n",
      "BRD-K84748119 COC[C@H](N1CCN(C[C@@H]1C)C1(C)CCN(CC1)C(=O)c1c(C)ncnc1C)c1ccc(cc1)C(F)(F)F\n",
      "BRD-M00539986 COc1ccc(C[C@H](C)NC[C@@H](O)c2ccc(O)c(NC=O)c2)cc1\n",
      "BRD-M07438658 CS(=O)(=O)CCNCc1ccc(o1)-c1ccc2ncnc(Nc3ccc(OCc4cccc(F)c4)c(Cl)c3)c2c1\n",
      "BRD-M30523314 CCC1=C[C@@H]2C[N@](C1)Cc1c([nH]c3ccccc13)[C@@](C2)(C(=O)OC)c1cc2c(cc1OC)N(C)[C@@H]1[C@]22CCN3CC=C[C@@](CC)([C@@H]23)[C@@H](OC(C)=O)[C@]1(O)C(=O)OC\n",
      "BRD-M64432851 CCN(CC)CCNC(=O)c1c(C)[nH]c(\\C=C2/C(=O)Nc3ccc(F)cc23)c1C\n",
      "BRD-M72442222 COC[C@H](N1CCN(C[C@@H]1C)C1(C)CCN(CC1)C(=O)c1c(C)ncnc1C)c1ccc(cc1)C(F)(F)F\n",
      "BRD-U88459701 CC(C)c1c(C(=O)Nc2ccccc2)c(c(-c2ccc(F)cc2)n1CCC(O)CC(O)CC(O)=O)-c1ccccc1\n"
     ]
    }
   ],
   "source": [
    "a = list(train_dataset.pert_smiles)\n",
    "import collections\n",
    "dups = [item for item, count in collections.Counter(a).items() if count > 1]\n",
    "\n",
    "for i,sm in enumerate(train_dataset.pert_smiles):\n",
    "    if sm in dups:\n",
    "        print(train_dataset.pert_names[i], train_dataset.pert_smiles[i])"
   ]
  },
  {
   "cell_type": "code",
   "execution_count": 175,
   "metadata": {},
   "outputs": [
    {
     "data": {
      "text/plain": [
       "'mean_1st_rank: 1369.871    mrr: 0.502    H@10: 0.004    H@100: 0.032    H@500: 0.180'"
      ]
     },
     "execution_count": 175,
     "metadata": {},
     "output_type": "execute_result"
    }
   ],
   "source": [
    "\"    \".join(['{}: {:.3f}'.format(k,metrics_res[k]) for k in metrics_res])"
   ]
  },
  {
   "cell_type": "code",
   "execution_count": 168,
   "metadata": {},
   "outputs": [
    {
     "data": {
      "text/plain": [
       "['mean_1st_rank', 'mrr', 'H@10', 'H@100', 'H@500']"
      ]
     },
     "execution_count": 168,
     "metadata": {},
     "output_type": "execute_result"
    }
   ],
   "source": [
    "[k for k in metrics_res]"
   ]
  },
  {
   "cell_type": "code",
   "execution_count": 148,
   "metadata": {},
   "outputs": [],
   "source": [
    "rank_first_match = []\n",
    "rank_all_matches = []\n",
    "for i,sml in enumerate(smiles_gex_labels):\n",
    "    matches = np.where(smiles_wrapper.pert_smiles == sml)[0]\n",
    "    ranks_matches = gex_chem_ranks[i,matches]\n",
    "    rank_all_matches.append(ranks_matches)\n",
    "    rank_first_match.append(np.min(ranks_matches))\n",
    "\n",
    "rank_first_match = np.array(rank_first_match)\n",
    "\n",
    "mean_rank_first = np.mean(rank_first_match)\n",
    "mrr = np.mean(rank_first_match / gex_chem_distances.shape[1])\n",
    "\n",
    "hits_at_10 = np.mean([np.sum(results < 10) for results in rank_all_matches])\n",
    "hits_at_100 = np.mean([np.sum(results < 100) for results in rank_all_matches])\n",
    "hits_at_500 = np.mean([np.sum(results < 500) for results in rank_all_matches])\n",
    "hits_at_1000 = np.mean([np.sum(results < 1000) for results in rank_all_matches])"
   ]
  },
  {
   "cell_type": "code",
   "execution_count": null,
   "metadata": {},
   "outputs": [],
   "source": []
  },
  {
   "cell_type": "code",
   "execution_count": 161,
   "metadata": {},
   "outputs": [
    {
     "data": {
      "text/plain": [
       "0.3792526491912995"
      ]
     },
     "execution_count": 161,
     "metadata": {},
     "output_type": "execute_result"
    }
   ],
   "source": [
    "np.mean([np.sum(results < 1000) for results in rank_all_matches])"
   ]
  },
  {
   "cell_type": "code",
   "execution_count": 130,
   "metadata": {},
   "outputs": [
    {
     "data": {
      "text/plain": [
       "2"
      ]
     },
     "execution_count": 130,
     "metadata": {},
     "output_type": "execute_result"
    }
   ],
   "source": [
    "np.sum(smiles_wrapper.pert_smiles == 'CS(=O)(=O)CCNCc1ccc(o1)-c1ccc2ncnc(Nc3ccc(OCc4cccc(F)c4)c(Cl)c3)c2c1')"
   ]
  },
  {
   "cell_type": "code",
   "execution_count": 147,
   "metadata": {},
   "outputs": [
    {
     "data": {
      "text/plain": [
       "array([2729., 1056.])"
      ]
     },
     "execution_count": 147,
     "metadata": {},
     "output_type": "execute_result"
    }
   ],
   "source": [
    "gex_chem_ranks[i,np.array([1297, 261])]"
   ]
  },
  {
   "cell_type": "code",
   "execution_count": 145,
   "metadata": {},
   "outputs": [
    {
     "data": {
      "text/plain": [
       "0.0011154489682097045"
      ]
     },
     "execution_count": 145,
     "metadata": {},
     "output_type": "execute_result"
    }
   ],
   "source": [
    "np.mean(min_rank < 5)"
   ]
  },
  {
   "cell_type": "code",
   "execution_count": 101,
   "metadata": {},
   "outputs": [
    {
     "data": {
      "text/plain": [
       "((3586, 128), (2729, 128), (3586, 2729))"
      ]
     },
     "execution_count": 101,
     "metadata": {},
     "output_type": "execute_result"
    }
   ],
   "source": [
    "gex_embeddings.shape, smiles_embeddings.shape, cdist(gex_embeddings, smiles_embeddings, metric='euclidean').shape"
   ]
  },
  {
   "cell_type": "markdown",
   "metadata": {},
   "source": [
    "### Quad"
   ]
  },
  {
   "cell_type": "code",
   "execution_count": 44,
   "metadata": {
    "collapsed": true
   },
   "outputs": [],
   "source": [
    "from drug_repo_metric_learning.lincs_joint_embed_datasets import LincsQuadrupletDataset\n",
    "from drug_repo_metric_learning.lincs_joint_embed_models import FeedForwardQuadrupletNet, load_chemprop_model\n",
    "from drug_repo_metric_learning.lincs_joint_embed_losses import QuadrupletMarginLoss"
   ]
  },
  {
   "cell_type": "code",
   "execution_count": 45,
   "metadata": {},
   "outputs": [
    {
     "ename": "NameError",
     "evalue": "name 'DataLoader' is not defined",
     "output_type": "error",
     "traceback": [
      "\u001b[0;31m---------------------------------------------------------------------------\u001b[0m",
      "\u001b[0;31mNameError\u001b[0m                                 Traceback (most recent call last)",
      "\u001b[0;32m<ipython-input-45-241a9363c613>\u001b[0m in \u001b[0;36m<module>\u001b[0;34m\u001b[0m\n\u001b[1;32m      1\u001b[0m \u001b[0mquad_data\u001b[0m \u001b[0;34m=\u001b[0m \u001b[0mLincsQuadrupletDataset\u001b[0m\u001b[0;34m(\u001b[0m\u001b[0mlevel3_all\u001b[0m\u001b[0;34m)\u001b[0m\u001b[0;34m\u001b[0m\u001b[0;34m\u001b[0m\u001b[0m\n\u001b[0;32m----> 2\u001b[0;31m \u001b[0mdlq\u001b[0m \u001b[0;34m=\u001b[0m \u001b[0mDataLoader\u001b[0m\u001b[0;34m(\u001b[0m\u001b[0mquad_data\u001b[0m\u001b[0;34m,\u001b[0m \u001b[0mbatch_size\u001b[0m\u001b[0;34m=\u001b[0m\u001b[0;36m512\u001b[0m\u001b[0;34m,\u001b[0m \u001b[0mshuffle\u001b[0m\u001b[0;34m=\u001b[0m\u001b[0;32mTrue\u001b[0m\u001b[0;34m)\u001b[0m\u001b[0;34m\u001b[0m\u001b[0;34m\u001b[0m\u001b[0m\n\u001b[0m\u001b[1;32m      3\u001b[0m \u001b[0mbatch\u001b[0m \u001b[0;34m=\u001b[0m \u001b[0mnext\u001b[0m\u001b[0;34m(\u001b[0m\u001b[0miter\u001b[0m\u001b[0;34m(\u001b[0m\u001b[0mdlq\u001b[0m\u001b[0;34m)\u001b[0m\u001b[0;34m)\u001b[0m\u001b[0;34m\u001b[0m\u001b[0;34m\u001b[0m\u001b[0m\n\u001b[1;32m      4\u001b[0m \u001b[0mquadnet\u001b[0m \u001b[0;34m=\u001b[0m \u001b[0mFeedForwardQuadrupletNet\u001b[0m\u001b[0;34m(\u001b[0m\u001b[0;34m)\u001b[0m\u001b[0;34m\u001b[0m\u001b[0;34m\u001b[0m\u001b[0m\n",
      "\u001b[0;31mNameError\u001b[0m: name 'DataLoader' is not defined"
     ]
    }
   ],
   "source": [
    "quad_data = LincsQuadrupletDataset(level3_all)\n",
    "dlq = DataLoader(quad_data, batch_size=512, shuffle=True)\n",
    "batch = next(iter(dlq))\n",
    "quadnet = FeedForwardQuadrupletNet()"
   ]
  },
  {
   "cell_type": "code",
   "execution_count": 47,
   "metadata": {
    "scrolled": false
   },
   "outputs": [
    {
     "data": {
      "text/plain": [
       "(tensor(23.4854, device='cuda:0', grad_fn=<AddBackward0>),\n",
       " (53.515625, 53.3203125))"
      ]
     },
     "execution_count": 47,
     "metadata": {},
     "output_type": "execute_result"
    }
   ],
   "source": [
    "dlq = DataLoader(quad_data, batch_size=512, shuffle=True)\n",
    "batch = next(iter(dlq))\n",
    "quadnet = FeedForwardQuadrupletNet()\n",
    "loss_func_quad = QuadrupletMarginLoss()\n",
    "loss_func_quad(*quadnet(batch))"
   ]
  },
  {
   "cell_type": "code",
   "execution_count": 9,
   "metadata": {},
   "outputs": [
    {
     "data": {
      "text/plain": [
       "(tensor(23.6352, device='cuda:0', grad_fn=<AddBackward0>),\n",
       " (52.5390625, 51.953125))"
      ]
     },
     "execution_count": 9,
     "metadata": {},
     "output_type": "execute_result"
    }
   ],
   "source": [
    "loss_func_quad = QuadrupletMarginLoss(percent_correct=True)\n",
    "loss_func_quad(*quadnet(batch))"
   ]
  },
  {
   "cell_type": "markdown",
   "metadata": {},
   "source": [
    "### Quintuplet"
   ]
  },
  {
   "cell_type": "code",
   "execution_count": 10,
   "metadata": {
    "collapsed": true
   },
   "outputs": [],
   "source": [
    "from drug_repo_metric_learning.lincs_joint_embed_datasets import LincsQuintupletDataset\n",
    "from drug_repo_metric_learning.lincs_joint_embed_models import FeedForwardQuintupletNet, load_chemprop_model\n",
    "from drug_repo_metric_learning.lincs_joint_embed_losses import QuintupletMarginLoss"
   ]
  },
  {
   "cell_type": "code",
   "execution_count": 11,
   "metadata": {
    "collapsed": true
   },
   "outputs": [],
   "source": [
    "quin_data = LincsQuintupletDataset(level3_all)\n",
    "dlquin = DataLoader(quin_data, batch_size=512, shuffle=True)\n",
    "batch = next(iter(dlquin))\n",
    "quinnet = FeedForwardQuintupletNet()"
   ]
  },
  {
   "cell_type": "code",
   "execution_count": 12,
   "metadata": {
    "scrolled": false
   },
   "outputs": [
    {
     "data": {
      "text/plain": [
       "tensor(35.9932, device='cuda:0', grad_fn=<AddBackward0>)"
      ]
     },
     "execution_count": 12,
     "metadata": {},
     "output_type": "execute_result"
    }
   ],
   "source": [
    "loss_func_quin = QuintupletMarginLoss()\n",
    "loss_func_quin(*quinnet(batch))"
   ]
  },
  {
   "cell_type": "code",
   "execution_count": 13,
   "metadata": {},
   "outputs": [
    {
     "data": {
      "text/plain": [
       "(tensor(36.0468, device='cuda:0', grad_fn=<AddBackward0>),\n",
       " (48.4375, 48.4375, 47.0703125))"
      ]
     },
     "execution_count": 13,
     "metadata": {},
     "output_type": "execute_result"
    }
   ],
   "source": [
    "loss_func_quin = QuintupletMarginLoss(percent_correct=True)\n",
    "loss_func_quin(*quinnet(batch))"
   ]
  },
  {
   "cell_type": "code",
   "execution_count": 15,
   "metadata": {},
   "outputs": [
    {
     "data": {
      "text/plain": [
       "35.97899627685547"
      ]
     },
     "execution_count": 15,
     "metadata": {},
     "output_type": "execute_result"
    }
   ],
   "source": [
    "loss_func_quin(*quinnet(batch))[0].item()"
   ]
  },
  {
   "cell_type": "markdown",
   "metadata": {},
   "source": [
    "## Debug"
   ]
  },
  {
   "cell_type": "code",
   "execution_count": 3,
   "metadata": {},
   "outputs": [
    {
     "data": {
      "text/plain": [
       "'/home/sgf2/Dropbox (HMS)/DBMI_server/repo/drug_repo_metric_learning'"
      ]
     },
     "execution_count": 3,
     "metadata": {},
     "output_type": "execute_result"
    }
   ],
   "source": [
    "import os\n",
    "os.getcwd()"
   ]
  },
  {
   "cell_type": "code",
   "execution_count": 1,
   "metadata": {},
   "outputs": [
    {
     "name": "stderr",
     "output_type": "stream",
     "text": [
      "WARNING:root:No kyotocabinet available\n"
     ]
    }
   ],
   "source": [
    "import sys\n",
    "sys.path.append('drug_repo_metric_learning/')\n",
    "\n",
    "from lincs_joint_embed_datasets import LincsTripletDataset\n",
    "from lincs_joint_embed_models import FeedForwardTripletNet\n",
    "from lincs_joint_embed_losses import TripletMarginLoss_WU\n",
    "\n",
    "import torch\n",
    "from torch.utils.data import DataLoader\n",
    "from ignite.engine import Events, create_supervised_trainer, create_supervised_evaluator\n",
    "from ignite.metrics import Loss, RunningAverage\n",
    "from ignite.contrib.handlers import tqdm_logger\n",
    "\n",
    "from ignite.engine import Engine, Events\n",
    "from ignite.handlers import ModelCheckpoint, Timer\n",
    "from ignite.metrics import RunningAverage\n",
    "\n",
    "import pandas as pd\n"
   ]
  },
  {
   "cell_type": "code",
   "execution_count": 10,
   "metadata": {},
   "outputs": [
    {
     "name": "stderr",
     "output_type": "stream",
     "text": [
      "WARNING:root:No kyotocabinet available\n"
     ]
    }
   ],
   "source": [
    "import torch\n",
    "import sys\n",
    "sys.path.append('/home/sgf2/DBMI_server/repo/chemprop')\n",
    "from chemprop.models.model import build_model\n",
    "chemprop_info = torch.load(\"/home/sgf2/DBMI_server/repo/chemprop/pcba/model_unoptimized.pt\")\n",
    "\n",
    "chemprop_model = build_model(chemprop_info['args'])\n",
    "chemprop_model.load_state_dict(chemprop_info['state_dict'])\n",
    "chemprop_encoder = chemprop_model.encoder"
   ]
  },
  {
   "cell_type": "code",
   "execution_count": 2,
   "metadata": {},
   "outputs": [],
   "source": [
    "device = torch.device('cuda:2')"
   ]
  },
  {
   "cell_type": "code",
   "execution_count": 4,
   "metadata": {},
   "outputs": [],
   "source": [
    "chemprop_info = torch.load(\"/home/sgf2/DBMI_server/repo/chemprop/pcba/model_unoptimized.pt\")\n"
   ]
  },
  {
   "cell_type": "code",
   "execution_count": 1,
   "metadata": {},
   "outputs": [],
   "source": [
    "import datetime"
   ]
  },
  {
   "cell_type": "code",
   "execution_count": 185,
   "metadata": {},
   "outputs": [
    {
     "name": "stdout",
     "output_type": "stream",
     "text": [
      "Current time: 2019-07-03 16:35:16 EDT-0400\n"
     ]
    }
   ],
   "source": [
    "from datetime import datetime as dt\n",
    "from pytz import timezone\n",
    "fmt = \"%Y-%m-%d %H:%M:%S %Z%z\"\n",
    "now_time = datetime.now(timezone('US/Eastern'))\n",
    "print(\"Current time: {}\".format(now_time.strftime(fmt)))"
   ]
  },
  {
   "cell_type": "markdown",
   "metadata": {},
   "source": [
    "## Train test split"
   ]
  },
  {
   "cell_type": "code",
   "execution_count": 367,
   "metadata": {},
   "outputs": [],
   "source": [
    "pert_time=\"24.0\"\n",
    "pert_dose = \"um@10.0\"\n",
    "cell_id = \"PC3\"\n",
    "\n",
    "nan = np.nan\n",
    "l1000_perts = level3_all.query('pert_time == @pert_time ' +\n",
    "                                       '& pert_dose == @pert_dose ' +\n",
    "                                       '& cell_id in @cell_id ' +\n",
    "                                       '& pert_type == \"trt_cp\" ' +\n",
    "                                       '& canonical_smiles not in [\"-666\", \"restricted\", @nan] ')\n",
    "l1000_perts_plates = sorted(set(l1000_perts.index.get_level_values('plate').values))"
   ]
  },
  {
   "cell_type": "code",
   "execution_count": 468,
   "metadata": {
    "scrolled": false
   },
   "outputs": [
    {
     "name": "stdout",
     "output_type": "stream",
     "text": [
      "392 695 684\n",
      "638 658 648\n",
      "513 669 538\n",
      "559 624 599\n",
      "444 561 552\n",
      "50 561 589\n",
      "102 546 542\n",
      "194 522 555\n",
      "317 501 497\n",
      "579 599 602\n",
      "664 513 500\n",
      "836 591 554\n"
     ]
    }
   ],
   "source": [
    "#for train_test_seed in range(300, 600): #370, 248, 85, 99, 169, 178, 183, 196, 205, 212\n",
    "    \n",
    "from sklearn.model_selection import train_test_split\n",
    "\n",
    "train_test_seed = 0\n",
    "val_not_train = 0\n",
    "test_not_train = 0\n",
    "test_not_val = 0\n",
    "\n",
    "#for train_test_seed in [370, 248, 85, 99, 169, 178, 183, 196, 205, 212]:\n",
    "for train_test_seed in [392, 638, 513, 559, 444, 50, 102, 194, 317, 579, 664, 836]:\n",
    "#for train_test_seed in range(800, 900):\n",
    "    # Train-test split by plate\n",
    "    plates_train, plates_non_train = train_test_split(l1000_perts_plates, test_size=0.4,\n",
    "                                                      random_state=train_test_seed)\n",
    "    plates_val, plates_test = train_test_split(plates_non_train, test_size=0.5,\n",
    "                                               random_state=train_test_seed)\n",
    "\n",
    "    l1000_perts_train = set(l1000_perts.query('plate in @plates_train').index.get_level_values('canonical_smiles').unique())\n",
    "    l1000_perts_val = set(l1000_perts.query('plate in @plates_val').index.get_level_values('canonical_smiles').unique())\n",
    "    l1000_perts_test = set(l1000_perts.query('plate in @plates_test').index.get_level_values('canonical_smiles').unique())\n",
    "\n",
    "    val_not_train = np.sum([x not in l1000_perts_train for x in l1000_perts_val])\n",
    "    test_not_train = np.sum([x not in l1000_perts_train for x in l1000_perts_test])\n",
    "\n",
    "    print(train_test_seed, val_not_train, test_not_train)"
   ]
  },
  {
   "cell_type": "code",
   "execution_count": 377,
   "metadata": {},
   "outputs": [
    {
     "ename": "AttributeError",
     "evalue": "'str' object has no attribute 'open'",
     "output_type": "error",
     "traceback": [
      "\u001b[0;31m---------------------------------------------------------------------------\u001b[0m",
      "\u001b[0;31mAttributeError\u001b[0m                            Traceback (most recent call last)",
      "\u001b[0;32m<ipython-input-377-6600e4dc376b>\u001b[0m in \u001b[0;36m<module>\u001b[0;34m\u001b[0m\n\u001b[0;32m----> 1\u001b[0;31m \u001b[0mread_json\u001b[0m\u001b[0;34m(\u001b[0m\u001b[0;34m'config_test.json'\u001b[0m\u001b[0;34m)\u001b[0m\u001b[0;34m\u001b[0m\u001b[0;34m\u001b[0m\u001b[0m\n\u001b[0m",
      "\u001b[0;32m<ipython-input-376-57e480601936>\u001b[0m in \u001b[0;36mread_json\u001b[0;34m(fname)\u001b[0m\n\u001b[1;32m      1\u001b[0m \u001b[0;32mimport\u001b[0m \u001b[0mjson\u001b[0m\u001b[0;34m\u001b[0m\u001b[0;34m\u001b[0m\u001b[0m\n\u001b[1;32m      2\u001b[0m \u001b[0;32mdef\u001b[0m \u001b[0mread_json\u001b[0m\u001b[0;34m(\u001b[0m\u001b[0mfname\u001b[0m\u001b[0;34m)\u001b[0m\u001b[0;34m:\u001b[0m\u001b[0;34m\u001b[0m\u001b[0;34m\u001b[0m\u001b[0m\n\u001b[0;32m----> 3\u001b[0;31m     \u001b[0;32mwith\u001b[0m \u001b[0mfname\u001b[0m\u001b[0;34m.\u001b[0m\u001b[0mopen\u001b[0m\u001b[0;34m(\u001b[0m\u001b[0;34m'rt'\u001b[0m\u001b[0;34m)\u001b[0m \u001b[0;32mas\u001b[0m \u001b[0mhandle\u001b[0m\u001b[0;34m:\u001b[0m\u001b[0;34m\u001b[0m\u001b[0;34m\u001b[0m\u001b[0m\n\u001b[0m\u001b[1;32m      4\u001b[0m         \u001b[0;32mreturn\u001b[0m \u001b[0mjson\u001b[0m\u001b[0;34m.\u001b[0m\u001b[0mload\u001b[0m\u001b[0;34m(\u001b[0m\u001b[0mhandle\u001b[0m\u001b[0;34m,\u001b[0m \u001b[0mobject_hook\u001b[0m\u001b[0;34m=\u001b[0m\u001b[0mOrderedDict\u001b[0m\u001b[0;34m)\u001b[0m\u001b[0;34m\u001b[0m\u001b[0;34m\u001b[0m\u001b[0m\n\u001b[1;32m      5\u001b[0m \u001b[0;34m\u001b[0m\u001b[0m\n",
      "\u001b[0;31mAttributeError\u001b[0m: 'str' object has no attribute 'open'"
     ]
    }
   ],
   "source": [
    "import json\n",
    "def read_json(fname):\n",
    "    with fname.open('rt') as handle:\n",
    "        return json.load(handle, object_hook=OrderedDict)\n",
    "\n",
    "def write_json(content, fname):\n",
    "    with fname.open('wt') as handle:\n",
    "        json.dump(content, handle, indent=4, sort_keys=False)"
   ]
  },
  {
   "cell_type": "code",
   "execution_count": 444,
   "metadata": {},
   "outputs": [],
   "source": [
    "import commentjson as json\n",
    "from collections import OrderedDict\n",
    "def read_json(fname):\n",
    "    with open(fname, 'rt') as handle:\n",
    "        return json.load(handle, object_hook=OrderedDict)\n",
    "\n",
    "def write_json(content, fname):\n",
    "    with open(fname, 'wt') as handle:\n",
    "        json.dump(content, handle, indent=4, sort_keys=False)"
   ]
  },
  {
   "cell_type": "code",
   "execution_count": 454,
   "metadata": {},
   "outputs": [
    {
     "data": {
      "text/plain": [
       "['loss', 'percent_correct']"
      ]
     },
     "execution_count": 454,
     "metadata": {},
     "output_type": "execute_result"
    }
   ],
   "source": [
    "config = read_json('drug_repo_metric_learning/experiments/triplet_ge_first_test/config_train.json')\n",
    "config[\"loss\"][\"online_eval_metrics\"]"
   ]
  },
  {
   "cell_type": "code",
   "execution_count": 440,
   "metadata": {},
   "outputs": [],
   "source": [
    "def initialize_from_config(config, name, module, *args, **kwargs):\n",
    "    module_name = config[name]['type']\n",
    "    module_args = dict(config[name]['args'])\n",
    "    return getattr(module, module_name)(*args, **kwargs, **module_args)"
   ]
  },
  {
   "cell_type": "code",
   "execution_count": 399,
   "metadata": {
    "collapsed": true
   },
   "outputs": [],
   "source": [
    "def initialize(self, name, module, *args, **kwargs):\n",
    "    \"\"\"\n",
    "    finds a function handle with the name given as 'type' in config, and returns the \n",
    "    instance initialized with corresponding keyword args given as 'args'.\n",
    "    \"\"\"\n",
    "    module_name = self[name]['type']\n",
    "    module_args = dict(self[name]['args'])\n",
    "    #assert all([k not in module_args for k in kwargs]), 'Overwriting kwargs given in config file is not allowed'\n",
    "    #module_args.update(kwargs)\n",
    "    return getattr(module, module_name)(*args, **module_args)"
   ]
  },
  {
   "cell_type": "code",
   "execution_count": 447,
   "metadata": {},
   "outputs": [
    {
     "data": {
      "text/plain": [
       "Adam (\n",
       "Parameter Group 0\n",
       "    amsgrad: False\n",
       "    betas: (0.9, 0.999)\n",
       "    eps: 1e-08\n",
       "    lr: 0.0003\n",
       "    weight_decay: 0\n",
       ")"
      ]
     },
     "execution_count": 447,
     "metadata": {},
     "output_type": "execute_result"
    }
   ],
   "source": [
    "initialize_from_config(config, 'optimizer', torch.optim, model.parameters())"
   ]
  },
  {
   "cell_type": "code",
   "execution_count": 449,
   "metadata": {},
   "outputs": [],
   "source": [
    "import drug_repo_metric_learning.datasets as dr_datasets\n",
    "val_dataset = initialize(config, 'dataset', dr_datasets,split=\"val\")"
   ]
  },
  {
   "cell_type": "code",
   "execution_count": 451,
   "metadata": {},
   "outputs": [
    {
     "data": {
      "text/plain": [
       "['loss', 'percent_correct']"
      ]
     },
     "execution_count": 451,
     "metadata": {},
     "output_type": "execute_result"
    }
   ],
   "source": [
    "config['loss']['monitoring_metrics']"
   ]
  }
 ],
 "metadata": {
  "kernelspec": {
   "display_name": "Python 3 (siamese)",
   "language": "python",
   "name": "siamese"
  },
  "language_info": {
   "codemirror_mode": {
    "name": "ipython",
    "version": 3
   },
   "file_extension": ".py",
   "mimetype": "text/x-python",
   "name": "python",
   "nbconvert_exporter": "python",
   "pygments_lexer": "ipython3",
   "version": "3.7.3"
  }
 },
 "nbformat": 4,
 "nbformat_minor": 2
}
